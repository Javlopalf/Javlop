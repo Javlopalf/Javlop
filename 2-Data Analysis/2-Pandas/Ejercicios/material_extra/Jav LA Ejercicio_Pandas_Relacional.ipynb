{
 "cells": [
  {
   "cell_type": "markdown",
   "metadata": {},
   "source": [
    "# Ejercicio de repaso: BBDD Relacionales"
   ]
  },
  {
   "cell_type": "markdown",
   "metadata": {},
   "source": [
    "Ejercicio sacado directamente de una entrevista de trabajo para una conocida compañía de retail."
   ]
  },
  {
   "cell_type": "markdown",
   "metadata": {},
   "source": [
    "![tablas1](img/Tablas-1.png)\n",
    "![tablas3](./img/Tablas-3.png)"
   ]
  },
  {
   "cell_type": "markdown",
   "metadata": {},
   "source": [
    "## 1. Crea un DataFrame por cada tabla"
   ]
  },
  {
   "cell_type": "code",
   "execution_count": 1,
   "metadata": {},
   "outputs": [],
   "source": [
    "import pandas as pd"
   ]
  },
  {
   "cell_type": "code",
   "execution_count": 2,
   "metadata": {},
   "outputs": [
    {
     "name": "stdout",
     "output_type": "stream",
     "text": [
      "  ID_DPTO COD_FAMILIA   DESC_FAMILIA\n",
      "0       1         1F1       Pulseras\n",
      "1       1         1F1        Anillos\n",
      "2       2         2F1  Bolso de mano\n",
      "3       3         3F1        Nautico\n",
      "4       3         3F2      Sandalias\n",
      "5       4         4F1       Bermudas\n"
     ]
    }
   ],
   "source": [
    "\n",
    "\n",
    "familias = {\"ID_DPTO\": [\"1\", \"1\", \"2\", \"3\" ,\"3\",\"4\" ], \n",
    "            \"COD_FAMILIA\": [\"1F1\",\"1F1\", \"2F1\", \"3F1\", \"3F2\", \"4F1\" ],\n",
    "            \"DESC_FAMILIA\": [\"Pulseras\", \"Anillos\", \"Bolso de mano\", \"Nautico\", \"Sandalias\", \"Bermudas\"]}\n",
    "\n",
    "df1 = pd.DataFrame(familias)\n",
    "\n",
    "print(df1)\n"
   ]
  },
  {
   "cell_type": "code",
   "execution_count": null,
   "metadata": {},
   "outputs": [],
   "source": [
    "departamento1 = [\"1\",\"2\", \"3\", \"4\"]\n",
    "desc = [\"Joyeria\", \"Bolsos\", \"Zapatería\", \"BAÑO CAB\" ]"
   ]
  },
  {
   "cell_type": "code",
   "execution_count": 3,
   "metadata": {},
   "outputs": [
    {
     "name": "stdout",
     "output_type": "stream",
     "text": [
      "  ID_DPTO  DESC_DPTO\n",
      "0       1    Joyeria\n",
      "1       2     Bolsos\n",
      "2       3  Zapatería\n",
      "3       4   BAÑO CAB\n"
     ]
    }
   ],
   "source": [
    "departamento = {\"ID_DPTO\": [\"1\",\"2\", \"3\", \"4\"],\n",
    "                \"DESC_DPTO\": [\"Joyeria\", \"Bolsos\", \"Zapatería\", \"BAÑO CAB\" ] }\n",
    "\n",
    "df2 = pd.DataFrame(departamento)\n",
    "\n",
    "print(df2)"
   ]
  },
  {
   "cell_type": "code",
   "execution_count": null,
   "metadata": {},
   "outputs": [],
   "source": [
    "referencia = [\"A\",\"B\", \"C\", \"D\", \"E\", \"F\", \"G\", \"H\" ]\n",
    "Id = [\"1\", \"2\", \"2\", \"2\", \"2\", \"3\", \"3\", \"4\"]\n",
    "cod = [\"1F1\", \"2F1\", \"2F1\", \"2F1\", \"2F1\", \"3F1\", \"3F2\", \"4F1\"]\n",
    "fecha = [\"21/02/2010\", \"07/02/2014\", \"15/05/2014\", \"01/10/2005\", \"31/10/2010\",\"20/04/2001\", \"14/02/2015\", \"25/03/2009\" ]"
   ]
  },
  {
   "cell_type": "code",
   "execution_count": 4,
   "metadata": {},
   "outputs": [
    {
     "name": "stdout",
     "output_type": "stream",
     "text": [
      "  REFERENCIA ID_DPTO COD_FAMILIA  FECHA_ALTA\n",
      "0          A       1         1F1  21/02/2010\n",
      "1          B       2         2F1  07/02/2014\n",
      "2          C       2         2F1  15/05/2014\n",
      "3          D       2         2F1  01/10/2005\n",
      "4          E       2         2F1  31/10/2010\n",
      "5          F       3         3F1  20/04/2001\n",
      "6          G       3         3F2  14/02/2015\n",
      "7          H       4         4F1  25/03/2009\n"
     ]
    }
   ],
   "source": [
    "Articulos = {\"REFERENCIA\":[\"A\",\"B\", \"C\", \"D\", \"E\", \"F\", \"G\", \"H\" ],\n",
    "            \"ID_DPTO\": [\"1\",  \"2\", \"2\", \"2\", \"2\", \"3\", \"3\", \"4\"],\n",
    "            \"COD_FAMILIA\": [\"1F1\", \"2F1\", \"2F1\", \"2F1\", \"2F1\", \"3F1\", \"3F2\", \"4F1\"],\n",
    "            \"FECHA_ALTA\": [\"21/02/2010\", \"07/02/2014\", \"15/05/2014\", \"01/10/2005\", \"31/10/2010\",\"20/04/2001\", \"14/02/2015\", \"25/03/2009\" ] }\n",
    "\n",
    "\n",
    "df3 = pd.DataFrame(Articulos)\n",
    "print(df3)"
   ]
  },
  {
   "cell_type": "code",
   "execution_count": null,
   "metadata": {},
   "outputs": [],
   "source": [
    "campanias = {'ID_CAMPANIA': ['CA1','CA2','CA3','CA4','CA5','CA6'],\n",
    "            'TIPO': ['VENTA','VENTA','POSVENTA','VENTA','POSVENTA','POSVENTA'],\n",
    "            'FECHA_CAMP': ['5/0/2012', '4/2/2012', '2/10/2009', '6/5/2010', '31/11/2010', '7/2/2015']}\n",
    "depto_campania = {'ID_DPTO': [\"1\",\"1\",\"2\",\"3\",\"3\",\"3\",\"4\",\"4\",\"4\",\"4\"],\n",
    "                    'ID_CAMPANIA': ['CA1','CA4','CA2','CA2','CA5','CA6','CA1','CA2','CA3','CA6']}\n",
    "venta = {'TALON': ['01','02','03','04','05','06','07','08'],\n",
    "            'REFERENCIA': ['A','A','A','D','E','E','H','H'],\n",
    "            'PRECIO': [15,18,14,37.95,125.95,150,22.99,24],\n",
    "            'FECHA_VENTA': ['11/2/2012','15/2/2012','2/10/2013','6/8/2010','31/11/2010','5/2/2011','11/4/2010','8/8/2011']}\n",
    "df4 = pd.DataFrame(campanias)\n",
    "df5 = pd.DataFrame(depto_campania)\n",
    "df6 = pd.DataFrame(venta)\n",
    "print(df4)\n",
    "print(df5)\n",
    "print(df6)"
   ]
  },
  {
   "cell_type": "code",
   "execution_count": null,
   "metadata": {},
   "outputs": [],
   "source": []
  },
  {
   "cell_type": "code",
   "execution_count": null,
   "metadata": {},
   "outputs": [],
   "source": []
  },
  {
   "cell_type": "markdown",
   "metadata": {},
   "source": [
    "## 2. Genera una consulta que obtenga la lista ordenada de todas las referencias sin venta"
   ]
  },
  {
   "cell_type": "code",
   "execution_count": null,
   "metadata": {},
   "outputs": [],
   "source": []
  },
  {
   "cell_type": "markdown",
   "metadata": {},
   "source": [
    "## 3. Genera una consulta que obtenga las ventas comprendidas entre 2010 y 2011 (ambos incluidos), que estén asociados a una campaña de tipo VENTA y que sean del departamento de JOYERÍA."
   ]
  },
  {
   "cell_type": "code",
   "execution_count": null,
   "metadata": {},
   "outputs": [],
   "source": []
  },
  {
   "cell_type": "markdown",
   "metadata": {},
   "source": [
    "## 4. Genere una consulta que cree un campo “co_ranking” que clasifique en orden ascendente las campañas según el total de venta, siendo 1 la campaña que más ha vendido y N la que menos. (N = Total de campañas)"
   ]
  },
  {
   "cell_type": "code",
   "execution_count": null,
   "metadata": {},
   "outputs": [],
   "source": []
  },
  {
   "cell_type": "markdown",
   "metadata": {},
   "source": [
    "## 5. Clasifique todas las ventas en Mayor, Igual o Menor precio respecto a la media de los precios de todas las ventas realizadas."
   ]
  },
  {
   "cell_type": "markdown",
   "metadata": {},
   "source": [
    "**Resultado**:\n",
    "\n",
    "\n",
    "![tablares](img/Tablas-4.png)"
   ]
  },
  {
   "cell_type": "code",
   "execution_count": null,
   "metadata": {},
   "outputs": [],
   "source": []
  },
  {
   "cell_type": "markdown",
   "metadata": {},
   "source": [
    "# 7. Genere una consulta que para cada campaña de tipo “venta” obtenga el talón medio, precio medio, nº de referencias compradas y nº de talones con venta superior al talón medio."
   ]
  },
  {
   "cell_type": "code",
   "execution_count": null,
   "metadata": {},
   "outputs": [],
   "source": []
  },
  {
   "cell_type": "markdown",
   "metadata": {},
   "source": [
    "## 8. Genere una o varias consultas que devulevan las combinaciones de familias y campañas cuya venta haya sido superior a 100€."
   ]
  },
  {
   "cell_type": "code",
   "execution_count": null,
   "metadata": {},
   "outputs": [],
   "source": []
  },
  {
   "cell_type": "markdown",
   "metadata": {},
   "source": [
    "## 9. Genere una o varias consultas que permitan catalogar los artículos vendidos y que no son de la Campaña CA1, según si se tratan de artículos de Ropa o Accesorios. En base a los departamentos y familias. NOTA: Se valorará la elaboración de la consulta y no la veracidad del propio catálogo)"
   ]
  },
  {
   "cell_type": "code",
   "execution_count": null,
   "metadata": {},
   "outputs": [],
   "source": []
  },
  {
   "cell_type": "markdown",
   "metadata": {},
   "source": [
    "## 10. Genere una o varias consultas que devuelvan la variación del total de venta entre años. Tomando como variación la siguiente fórmula $$\\dfrac{Year_{n} – Year_{n-1}}{Year_{n-1}}$$ (Se valorará el control de valores 0 en la división o de indeterminaciones)"
   ]
  },
  {
   "cell_type": "markdown",
   "metadata": {},
   "source": [
    "![tablas5](img/Tablas-5.png)"
   ]
  },
  {
   "cell_type": "code",
   "execution_count": null,
   "metadata": {},
   "outputs": [],
   "source": []
  }
 ],
 "metadata": {
  "kernelspec": {
   "display_name": "Python 3.7.4 64-bit",
   "language": "python",
   "name": "python3"
  },
  "language_info": {
   "codemirror_mode": {
    "name": "ipython",
    "version": 3
   },
   "file_extension": ".py",
   "mimetype": "text/x-python",
   "name": "python",
   "nbconvert_exporter": "python",
   "pygments_lexer": "ipython3",
   "version": "3.7.4"
  },
  "orig_nbformat": 4,
  "vscode": {
   "interpreter": {
    "hash": "b00c257d8044ebdf3de0db553b92a3dd43b22b3b5ac011b6e6d9354f099532d2"
   }
  }
 },
 "nbformat": 4,
 "nbformat_minor": 2
}
