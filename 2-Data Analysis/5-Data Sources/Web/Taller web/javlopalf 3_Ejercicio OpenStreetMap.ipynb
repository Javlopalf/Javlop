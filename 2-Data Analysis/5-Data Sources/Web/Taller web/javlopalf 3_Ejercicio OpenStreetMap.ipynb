{
 "cells": [
  {
   "cell_type": "markdown",
   "metadata": {},
   "source": [
    "# Ejercicio OpenStreetMap\n",
    "Para este ejercicio vas a trabar con Overpass, que es la API que utiliza los datos de OpenStreetMap. Tras obtener datos geográficos mediante la API, tendrás que representarlos con Plotly.\n",
    "\n",
    "Hay que obtener los siguientes datos de cada ubicación conseguida en OpenStreetMap\n",
    "* tipo de amenity\n",
    "* latitud\n",
    "* longitud\n",
    "* nombre\n",
    "* direccion\n",
    "\n",
    "**NOTA**: En este Notebook utilizarás gráficas de Plotly, y JupyterLab de momento no lo soporta, a no ser que instales una extensión. Para solucionar esto, abre el Notebook desde Jupyter normal:\n",
    "\n",
    "![imagen](./img/jupyter.png)\n",
    "\n",
    "Tienes en [este enlace](https://wiki.openstreetmap.org/wiki/Key:amenity#Healthcare) la lista de *amenities* que vas a usar en el notebook."
   ]
  },
  {
   "cell_type": "markdown",
   "metadata": {},
   "source": [
    "## Instalación\n",
    "Si no tienes instalado Plotly, abre un terminal y escribe:\n",
    "```\n",
    "pip install plotly\n",
    "```\n",
    "\n",
    "Importa las librerias que vamos a usar en el Notebook"
   ]
  },
  {
   "cell_type": "code",
   "execution_count": 1,
   "metadata": {},
   "outputs": [],
   "source": [
    "import requests\n",
    "import json\n",
    "import pandas as pd\n",
    "import plotly.express as px\n",
    "\n"
   ]
  },
  {
   "cell_type": "markdown",
   "metadata": {},
   "source": [
    "Ataca a la API de OpenStreetmap con el siguiente código de ejemplo"
   ]
  },
  {
   "cell_type": "code",
   "execution_count": 8,
   "metadata": {},
   "outputs": [
    {
     "name": "stdout",
     "output_type": "stream",
     "text": [
      "<Response [200]>\n"
     ]
    }
   ],
   "source": [
    "overpass_url = \"http://overpass-api.de/api/interpreter\"\n",
    "overpass_query = \"\"\"\n",
    "[out:json];\n",
    "node[\"amenity\"=\"ice_cream\"]\n",
    "  (40.420801, -3.694702,40.423754, -3.688167); \n",
    "out;\n",
    "\"\"\"\n",
    "response = requests.get(overpass_url, \n",
    "                        params={'data': overpass_query})\n",
    "print(response)\n",
    "data = response.json()"
   ]
  },
  {
   "cell_type": "markdown",
   "metadata": {},
   "source": [
    "Con el siguiente código podrás adaptar el JSON que devuelve la API, a un formato DataFrame más amigable"
   ]
  },
  {
   "cell_type": "code",
   "execution_count": 7,
   "metadata": {},
   "outputs": [],
   "source": [
    "def json_to_df(data):\n",
    "    elements = data['elements']\n",
    "    places = {'tipo': [], 'lat': [], 'lon': [], 'name': [], 'address': []}\n",
    "    \n",
    "    for i in elements:\n",
    "        \n",
    "        tipo = i.get('tags', None).get('amenity', None)\n",
    "        latitude = i.get('lat', None)\n",
    "        longitude = i.get('lon', None)\n",
    "        name = i.get('tags', {}).get('name', \"NO NAME\")\n",
    "        street = i.get('tags', {}).get('addr:street', \"NO STREET\")\n",
    "        number = i.get('tags', {}).get('addr:housenumber', 9999)\n",
    "\n",
    "        places['tipo'].append(tipo)\n",
    "        places['lat'].append(latitude)\n",
    "        places['lon'].append(longitude)\n",
    "        places['name'].append(name)\n",
    "        places['address'].append(street + ' ' + str(number))\n",
    "\n",
    "            \n",
    "    return pd.DataFrame(places)\n",
    "    "
   ]
  },
  {
   "cell_type": "markdown",
   "metadata": {},
   "source": [
    "Utilizarás esta función para representar los datos en un mapa de Matplotlib"
   ]
  },
  {
   "cell_type": "code",
   "execution_count": 19,
   "metadata": {},
   "outputs": [],
   "source": [
    "import plotly.express as px\n",
    "\n",
    "mapbox_access_token = \"pk.eyJ1IjoiZGFvcnRpIiwiYSI6ImNrZnF6M3FlczA3cDEyem16YTNzZmV4M2EifQ.846iF0sMSAXv0kwkwUTYjg\"\n",
    "\n",
    "def pinta_mapa(df):\n",
    "    fig = px.scatter_mapbox(df,\n",
    "                            lat=\"lat\",\n",
    "                            lon=\"lon\",\n",
    "                            color = \"tipo\",\n",
    "                      color_continuous_scale=px.colors.cyclical.IceFire, size_max=15, zoom=11)\n",
    "    fig.update_layout(\n",
    "        mapbox=dict(\n",
    "            accesstoken=mapbox_access_token\n",
    "        )\n",
    "    )\n",
    "\n",
    "    fig.show()\n",
    "    \n"
   ]
  },
  {
   "cell_type": "markdown",
   "metadata": {},
   "source": [
    "Como ejemplo, si quiero ver cuántos restaurantes tengo cerca de The Bridge:"
   ]
  },
  {
   "cell_type": "code",
   "execution_count": 9,
   "metadata": {},
   "outputs": [
    {
     "name": "stdout",
     "output_type": "stream",
     "text": [
      "<Response [400]>\n"
     ]
    },
    {
     "ename": "JSONDecodeError",
     "evalue": "Expecting value: line 1 column 1 (char 0)",
     "output_type": "error",
     "traceback": [
      "\u001b[1;31m---------------------------------------------------------------------------\u001b[0m",
      "\u001b[1;31mJSONDecodeError\u001b[0m                           Traceback (most recent call last)",
      "\u001b[1;32mc:\\Users\\lopez\\AppData\\Local\\Programs\\Python\\Python37\\lib\\site-packages\\requests\\models.py\u001b[0m in \u001b[0;36mjson\u001b[1;34m(self, **kwargs)\u001b[0m\n\u001b[0;32m    970\u001b[0m         \u001b[1;32mtry\u001b[0m\u001b[1;33m:\u001b[0m\u001b[1;33m\u001b[0m\u001b[1;33m\u001b[0m\u001b[0m\n\u001b[1;32m--> 971\u001b[1;33m             \u001b[1;32mreturn\u001b[0m \u001b[0mcomplexjson\u001b[0m\u001b[1;33m.\u001b[0m\u001b[0mloads\u001b[0m\u001b[1;33m(\u001b[0m\u001b[0mself\u001b[0m\u001b[1;33m.\u001b[0m\u001b[0mtext\u001b[0m\u001b[1;33m,\u001b[0m \u001b[1;33m**\u001b[0m\u001b[0mkwargs\u001b[0m\u001b[1;33m)\u001b[0m\u001b[1;33m\u001b[0m\u001b[1;33m\u001b[0m\u001b[0m\n\u001b[0m\u001b[0;32m    972\u001b[0m         \u001b[1;32mexcept\u001b[0m \u001b[0mJSONDecodeError\u001b[0m \u001b[1;32mas\u001b[0m \u001b[0me\u001b[0m\u001b[1;33m:\u001b[0m\u001b[1;33m\u001b[0m\u001b[1;33m\u001b[0m\u001b[0m\n",
      "\u001b[1;32mc:\\Users\\lopez\\AppData\\Local\\Programs\\Python\\Python37\\lib\\json\\__init__.py\u001b[0m in \u001b[0;36mloads\u001b[1;34m(s, encoding, cls, object_hook, parse_float, parse_int, parse_constant, object_pairs_hook, **kw)\u001b[0m\n\u001b[0;32m    347\u001b[0m             parse_constant is None and object_pairs_hook is None and not kw):\n\u001b[1;32m--> 348\u001b[1;33m         \u001b[1;32mreturn\u001b[0m \u001b[0m_default_decoder\u001b[0m\u001b[1;33m.\u001b[0m\u001b[0mdecode\u001b[0m\u001b[1;33m(\u001b[0m\u001b[0ms\u001b[0m\u001b[1;33m)\u001b[0m\u001b[1;33m\u001b[0m\u001b[1;33m\u001b[0m\u001b[0m\n\u001b[0m\u001b[0;32m    349\u001b[0m     \u001b[1;32mif\u001b[0m \u001b[0mcls\u001b[0m \u001b[1;32mis\u001b[0m \u001b[1;32mNone\u001b[0m\u001b[1;33m:\u001b[0m\u001b[1;33m\u001b[0m\u001b[1;33m\u001b[0m\u001b[0m\n",
      "\u001b[1;32mc:\\Users\\lopez\\AppData\\Local\\Programs\\Python\\Python37\\lib\\json\\decoder.py\u001b[0m in \u001b[0;36mdecode\u001b[1;34m(self, s, _w)\u001b[0m\n\u001b[0;32m    336\u001b[0m         \"\"\"\n\u001b[1;32m--> 337\u001b[1;33m         \u001b[0mobj\u001b[0m\u001b[1;33m,\u001b[0m \u001b[0mend\u001b[0m \u001b[1;33m=\u001b[0m \u001b[0mself\u001b[0m\u001b[1;33m.\u001b[0m\u001b[0mraw_decode\u001b[0m\u001b[1;33m(\u001b[0m\u001b[0ms\u001b[0m\u001b[1;33m,\u001b[0m \u001b[0midx\u001b[0m\u001b[1;33m=\u001b[0m\u001b[0m_w\u001b[0m\u001b[1;33m(\u001b[0m\u001b[0ms\u001b[0m\u001b[1;33m,\u001b[0m \u001b[1;36m0\u001b[0m\u001b[1;33m)\u001b[0m\u001b[1;33m.\u001b[0m\u001b[0mend\u001b[0m\u001b[1;33m(\u001b[0m\u001b[1;33m)\u001b[0m\u001b[1;33m)\u001b[0m\u001b[1;33m\u001b[0m\u001b[1;33m\u001b[0m\u001b[0m\n\u001b[0m\u001b[0;32m    338\u001b[0m         \u001b[0mend\u001b[0m \u001b[1;33m=\u001b[0m \u001b[0m_w\u001b[0m\u001b[1;33m(\u001b[0m\u001b[0ms\u001b[0m\u001b[1;33m,\u001b[0m \u001b[0mend\u001b[0m\u001b[1;33m)\u001b[0m\u001b[1;33m.\u001b[0m\u001b[0mend\u001b[0m\u001b[1;33m(\u001b[0m\u001b[1;33m)\u001b[0m\u001b[1;33m\u001b[0m\u001b[1;33m\u001b[0m\u001b[0m\n",
      "\u001b[1;32mc:\\Users\\lopez\\AppData\\Local\\Programs\\Python\\Python37\\lib\\json\\decoder.py\u001b[0m in \u001b[0;36mraw_decode\u001b[1;34m(self, s, idx)\u001b[0m\n\u001b[0;32m    354\u001b[0m         \u001b[1;32mexcept\u001b[0m \u001b[0mStopIteration\u001b[0m \u001b[1;32mas\u001b[0m \u001b[0merr\u001b[0m\u001b[1;33m:\u001b[0m\u001b[1;33m\u001b[0m\u001b[1;33m\u001b[0m\u001b[0m\n\u001b[1;32m--> 355\u001b[1;33m             \u001b[1;32mraise\u001b[0m \u001b[0mJSONDecodeError\u001b[0m\u001b[1;33m(\u001b[0m\u001b[1;34m\"Expecting value\"\u001b[0m\u001b[1;33m,\u001b[0m \u001b[0ms\u001b[0m\u001b[1;33m,\u001b[0m \u001b[0merr\u001b[0m\u001b[1;33m.\u001b[0m\u001b[0mvalue\u001b[0m\u001b[1;33m)\u001b[0m \u001b[1;32mfrom\u001b[0m \u001b[1;32mNone\u001b[0m\u001b[1;33m\u001b[0m\u001b[1;33m\u001b[0m\u001b[0m\n\u001b[0m\u001b[0;32m    356\u001b[0m         \u001b[1;32mreturn\u001b[0m \u001b[0mobj\u001b[0m\u001b[1;33m,\u001b[0m \u001b[0mend\u001b[0m\u001b[1;33m\u001b[0m\u001b[1;33m\u001b[0m\u001b[0m\n",
      "\u001b[1;31mJSONDecodeError\u001b[0m: Expecting value: line 1 column 1 (char 0)",
      "\nDuring handling of the above exception, another exception occurred:\n",
      "\u001b[1;31mJSONDecodeError\u001b[0m                           Traceback (most recent call last)",
      "\u001b[1;32m~\\AppData\\Local\\Temp\\ipykernel_29544\\2596014689.py\u001b[0m in \u001b[0;36m<module>\u001b[1;34m\u001b[0m\n\u001b[0;32m     10\u001b[0m                         params={'data': overpass_query})\n\u001b[0;32m     11\u001b[0m \u001b[0mprint\u001b[0m\u001b[1;33m(\u001b[0m\u001b[0mresponse\u001b[0m\u001b[1;33m)\u001b[0m\u001b[1;33m\u001b[0m\u001b[1;33m\u001b[0m\u001b[0m\n\u001b[1;32m---> 12\u001b[1;33m \u001b[0mdata\u001b[0m \u001b[1;33m=\u001b[0m \u001b[0mresponse\u001b[0m\u001b[1;33m.\u001b[0m\u001b[0mjson\u001b[0m\u001b[1;33m(\u001b[0m\u001b[1;33m)\u001b[0m\u001b[1;33m\u001b[0m\u001b[1;33m\u001b[0m\u001b[0m\n\u001b[0m\u001b[0;32m     13\u001b[0m \u001b[0mdf\u001b[0m \u001b[1;33m=\u001b[0m \u001b[0mjson_to_df\u001b[0m\u001b[1;33m(\u001b[0m\u001b[0mdata\u001b[0m\u001b[1;33m)\u001b[0m\u001b[1;33m\u001b[0m\u001b[1;33m\u001b[0m\u001b[0m\n\u001b[0;32m     14\u001b[0m \u001b[0mdf\u001b[0m\u001b[1;33m\u001b[0m\u001b[1;33m\u001b[0m\u001b[0m\n",
      "\u001b[1;32mc:\\Users\\lopez\\AppData\\Local\\Programs\\Python\\Python37\\lib\\site-packages\\requests\\models.py\u001b[0m in \u001b[0;36mjson\u001b[1;34m(self, **kwargs)\u001b[0m\n\u001b[0;32m    973\u001b[0m             \u001b[1;31m# Catch JSON-related errors and raise as requests.JSONDecodeError\u001b[0m\u001b[1;33m\u001b[0m\u001b[1;33m\u001b[0m\u001b[1;33m\u001b[0m\u001b[0m\n\u001b[0;32m    974\u001b[0m             \u001b[1;31m# This aliases json.JSONDecodeError and simplejson.JSONDecodeError\u001b[0m\u001b[1;33m\u001b[0m\u001b[1;33m\u001b[0m\u001b[1;33m\u001b[0m\u001b[0m\n\u001b[1;32m--> 975\u001b[1;33m             \u001b[1;32mraise\u001b[0m \u001b[0mRequestsJSONDecodeError\u001b[0m\u001b[1;33m(\u001b[0m\u001b[0me\u001b[0m\u001b[1;33m.\u001b[0m\u001b[0mmsg\u001b[0m\u001b[1;33m,\u001b[0m \u001b[0me\u001b[0m\u001b[1;33m.\u001b[0m\u001b[0mdoc\u001b[0m\u001b[1;33m,\u001b[0m \u001b[0me\u001b[0m\u001b[1;33m.\u001b[0m\u001b[0mpos\u001b[0m\u001b[1;33m)\u001b[0m\u001b[1;33m\u001b[0m\u001b[1;33m\u001b[0m\u001b[0m\n\u001b[0m\u001b[0;32m    976\u001b[0m \u001b[1;33m\u001b[0m\u001b[0m\n\u001b[0;32m    977\u001b[0m     \u001b[1;33m@\u001b[0m\u001b[0mproperty\u001b[0m\u001b[1;33m\u001b[0m\u001b[1;33m\u001b[0m\u001b[0m\n",
      "\u001b[1;31mJSONDecodeError\u001b[0m: Expecting value: line 1 column 1 (char 0)"
     ]
    }
   ],
   "source": [
    "overpass_url = \"http://overpass-api.de/api/interpreter\"\n",
    "overpass_query = \"\"\"\n",
    "[out:json];\n",
    "node[\"amenity\"=\"restaurantes\"]\n",
    "  (40.420801, -3.694702,40.423754, -3.688167); \n",
    "[out:json]; \n",
    "out;\n",
    "\"\"\"\n",
    "response = requests.get(overpass_url, \n",
    "                        params={'data': overpass_query})\n",
    "print(response)\n",
    "data = response.json()\n",
    "df = json_to_df(data)\n",
    "df"
   ]
  },
  {
   "cell_type": "code",
   "execution_count": null,
   "metadata": {},
   "outputs": [],
   "source": []
  },
  {
   "cell_type": "code",
   "execution_count": 6,
   "metadata": {},
   "outputs": [
    {
     "data": {
      "application/vnd.plotly.v1+json": {
       "config": {
        "plotlyServerURL": "https://plot.ly"
       },
       "data": [
        {
         "hovertemplate": "tipo=restaurant<br>lat=%{lat}<br>lon=%{lon}<extra></extra>",
         "lat": [
          40.4230858,
          40.4226068,
          40.4233148,
          40.4219603,
          40.4236949,
          40.4219515,
          40.422266,
          40.4231514,
          40.4233452,
          40.4224409,
          40.422395,
          40.4218723,
          40.4219475,
          40.4211297,
          40.4236005,
          40.4221408,
          40.4223791,
          40.4221513,
          40.4227772,
          40.4222548,
          40.422576,
          40.4220813,
          40.4218211,
          40.4229408,
          40.422426,
          40.422211,
          40.4222351,
          40.4220139,
          40.422405
         ],
         "legendgroup": "restaurant",
         "lon": [
          -3.6935468,
          -3.6932565,
          -3.6925055,
          -3.6942702,
          -3.6916509,
          -3.6935347,
          -3.694097,
          -3.6940615,
          -3.6926318,
          -3.6942202,
          -3.6911375,
          -3.6902405,
          -3.6903531,
          -3.6897958,
          -3.6937246,
          -3.6908645,
          -3.6895175,
          -3.6905695,
          -3.6897814,
          -3.6942512,
          -3.694493,
          -3.6907483,
          -3.6898244,
          -3.6940512,
          -3.6934185,
          -3.6907019,
          -3.6907431,
          -3.6906004,
          -3.6930454
         ],
         "marker": {
          "color": "#636efa"
         },
         "mode": "markers",
         "name": "restaurant",
         "showlegend": true,
         "subplot": "mapbox",
         "type": "scattermapbox"
        }
       ],
       "layout": {
        "legend": {
         "title": {
          "text": "tipo"
         },
         "tracegroupgap": 0
        },
        "mapbox": {
         "accesstoken": "pk.eyJ1IjoiZGFvcnRpIiwiYSI6ImNrZnF6M3FlczA3cDEyem16YTNzZmV4M2EifQ.846iF0sMSAXv0kwkwUTYjg",
         "center": {
          "lat": 40.422454344827585,
          "lon": -3.6921254103448273
         },
         "domain": {
          "x": [
           0,
           1
          ],
          "y": [
           0,
           1
          ]
         },
         "zoom": 11
        },
        "margin": {
         "t": 60
        },
        "template": {
         "data": {
          "bar": [
           {
            "error_x": {
             "color": "#2a3f5f"
            },
            "error_y": {
             "color": "#2a3f5f"
            },
            "marker": {
             "line": {
              "color": "#E5ECF6",
              "width": 0.5
             },
             "pattern": {
              "fillmode": "overlay",
              "size": 10,
              "solidity": 0.2
             }
            },
            "type": "bar"
           }
          ],
          "barpolar": [
           {
            "marker": {
             "line": {
              "color": "#E5ECF6",
              "width": 0.5
             },
             "pattern": {
              "fillmode": "overlay",
              "size": 10,
              "solidity": 0.2
             }
            },
            "type": "barpolar"
           }
          ],
          "carpet": [
           {
            "aaxis": {
             "endlinecolor": "#2a3f5f",
             "gridcolor": "white",
             "linecolor": "white",
             "minorgridcolor": "white",
             "startlinecolor": "#2a3f5f"
            },
            "baxis": {
             "endlinecolor": "#2a3f5f",
             "gridcolor": "white",
             "linecolor": "white",
             "minorgridcolor": "white",
             "startlinecolor": "#2a3f5f"
            },
            "type": "carpet"
           }
          ],
          "choropleth": [
           {
            "colorbar": {
             "outlinewidth": 0,
             "ticks": ""
            },
            "type": "choropleth"
           }
          ],
          "contour": [
           {
            "colorbar": {
             "outlinewidth": 0,
             "ticks": ""
            },
            "colorscale": [
             [
              0,
              "#0d0887"
             ],
             [
              0.1111111111111111,
              "#46039f"
             ],
             [
              0.2222222222222222,
              "#7201a8"
             ],
             [
              0.3333333333333333,
              "#9c179e"
             ],
             [
              0.4444444444444444,
              "#bd3786"
             ],
             [
              0.5555555555555556,
              "#d8576b"
             ],
             [
              0.6666666666666666,
              "#ed7953"
             ],
             [
              0.7777777777777778,
              "#fb9f3a"
             ],
             [
              0.8888888888888888,
              "#fdca26"
             ],
             [
              1,
              "#f0f921"
             ]
            ],
            "type": "contour"
           }
          ],
          "contourcarpet": [
           {
            "colorbar": {
             "outlinewidth": 0,
             "ticks": ""
            },
            "type": "contourcarpet"
           }
          ],
          "heatmap": [
           {
            "colorbar": {
             "outlinewidth": 0,
             "ticks": ""
            },
            "colorscale": [
             [
              0,
              "#0d0887"
             ],
             [
              0.1111111111111111,
              "#46039f"
             ],
             [
              0.2222222222222222,
              "#7201a8"
             ],
             [
              0.3333333333333333,
              "#9c179e"
             ],
             [
              0.4444444444444444,
              "#bd3786"
             ],
             [
              0.5555555555555556,
              "#d8576b"
             ],
             [
              0.6666666666666666,
              "#ed7953"
             ],
             [
              0.7777777777777778,
              "#fb9f3a"
             ],
             [
              0.8888888888888888,
              "#fdca26"
             ],
             [
              1,
              "#f0f921"
             ]
            ],
            "type": "heatmap"
           }
          ],
          "heatmapgl": [
           {
            "colorbar": {
             "outlinewidth": 0,
             "ticks": ""
            },
            "colorscale": [
             [
              0,
              "#0d0887"
             ],
             [
              0.1111111111111111,
              "#46039f"
             ],
             [
              0.2222222222222222,
              "#7201a8"
             ],
             [
              0.3333333333333333,
              "#9c179e"
             ],
             [
              0.4444444444444444,
              "#bd3786"
             ],
             [
              0.5555555555555556,
              "#d8576b"
             ],
             [
              0.6666666666666666,
              "#ed7953"
             ],
             [
              0.7777777777777778,
              "#fb9f3a"
             ],
             [
              0.8888888888888888,
              "#fdca26"
             ],
             [
              1,
              "#f0f921"
             ]
            ],
            "type": "heatmapgl"
           }
          ],
          "histogram": [
           {
            "marker": {
             "pattern": {
              "fillmode": "overlay",
              "size": 10,
              "solidity": 0.2
             }
            },
            "type": "histogram"
           }
          ],
          "histogram2d": [
           {
            "colorbar": {
             "outlinewidth": 0,
             "ticks": ""
            },
            "colorscale": [
             [
              0,
              "#0d0887"
             ],
             [
              0.1111111111111111,
              "#46039f"
             ],
             [
              0.2222222222222222,
              "#7201a8"
             ],
             [
              0.3333333333333333,
              "#9c179e"
             ],
             [
              0.4444444444444444,
              "#bd3786"
             ],
             [
              0.5555555555555556,
              "#d8576b"
             ],
             [
              0.6666666666666666,
              "#ed7953"
             ],
             [
              0.7777777777777778,
              "#fb9f3a"
             ],
             [
              0.8888888888888888,
              "#fdca26"
             ],
             [
              1,
              "#f0f921"
             ]
            ],
            "type": "histogram2d"
           }
          ],
          "histogram2dcontour": [
           {
            "colorbar": {
             "outlinewidth": 0,
             "ticks": ""
            },
            "colorscale": [
             [
              0,
              "#0d0887"
             ],
             [
              0.1111111111111111,
              "#46039f"
             ],
             [
              0.2222222222222222,
              "#7201a8"
             ],
             [
              0.3333333333333333,
              "#9c179e"
             ],
             [
              0.4444444444444444,
              "#bd3786"
             ],
             [
              0.5555555555555556,
              "#d8576b"
             ],
             [
              0.6666666666666666,
              "#ed7953"
             ],
             [
              0.7777777777777778,
              "#fb9f3a"
             ],
             [
              0.8888888888888888,
              "#fdca26"
             ],
             [
              1,
              "#f0f921"
             ]
            ],
            "type": "histogram2dcontour"
           }
          ],
          "mesh3d": [
           {
            "colorbar": {
             "outlinewidth": 0,
             "ticks": ""
            },
            "type": "mesh3d"
           }
          ],
          "parcoords": [
           {
            "line": {
             "colorbar": {
              "outlinewidth": 0,
              "ticks": ""
             }
            },
            "type": "parcoords"
           }
          ],
          "pie": [
           {
            "automargin": true,
            "type": "pie"
           }
          ],
          "scatter": [
           {
            "fillpattern": {
             "fillmode": "overlay",
             "size": 10,
             "solidity": 0.2
            },
            "type": "scatter"
           }
          ],
          "scatter3d": [
           {
            "line": {
             "colorbar": {
              "outlinewidth": 0,
              "ticks": ""
             }
            },
            "marker": {
             "colorbar": {
              "outlinewidth": 0,
              "ticks": ""
             }
            },
            "type": "scatter3d"
           }
          ],
          "scattercarpet": [
           {
            "marker": {
             "colorbar": {
              "outlinewidth": 0,
              "ticks": ""
             }
            },
            "type": "scattercarpet"
           }
          ],
          "scattergeo": [
           {
            "marker": {
             "colorbar": {
              "outlinewidth": 0,
              "ticks": ""
             }
            },
            "type": "scattergeo"
           }
          ],
          "scattergl": [
           {
            "marker": {
             "colorbar": {
              "outlinewidth": 0,
              "ticks": ""
             }
            },
            "type": "scattergl"
           }
          ],
          "scattermapbox": [
           {
            "marker": {
             "colorbar": {
              "outlinewidth": 0,
              "ticks": ""
             }
            },
            "type": "scattermapbox"
           }
          ],
          "scatterpolar": [
           {
            "marker": {
             "colorbar": {
              "outlinewidth": 0,
              "ticks": ""
             }
            },
            "type": "scatterpolar"
           }
          ],
          "scatterpolargl": [
           {
            "marker": {
             "colorbar": {
              "outlinewidth": 0,
              "ticks": ""
             }
            },
            "type": "scatterpolargl"
           }
          ],
          "scatterternary": [
           {
            "marker": {
             "colorbar": {
              "outlinewidth": 0,
              "ticks": ""
             }
            },
            "type": "scatterternary"
           }
          ],
          "surface": [
           {
            "colorbar": {
             "outlinewidth": 0,
             "ticks": ""
            },
            "colorscale": [
             [
              0,
              "#0d0887"
             ],
             [
              0.1111111111111111,
              "#46039f"
             ],
             [
              0.2222222222222222,
              "#7201a8"
             ],
             [
              0.3333333333333333,
              "#9c179e"
             ],
             [
              0.4444444444444444,
              "#bd3786"
             ],
             [
              0.5555555555555556,
              "#d8576b"
             ],
             [
              0.6666666666666666,
              "#ed7953"
             ],
             [
              0.7777777777777778,
              "#fb9f3a"
             ],
             [
              0.8888888888888888,
              "#fdca26"
             ],
             [
              1,
              "#f0f921"
             ]
            ],
            "type": "surface"
           }
          ],
          "table": [
           {
            "cells": {
             "fill": {
              "color": "#EBF0F8"
             },
             "line": {
              "color": "white"
             }
            },
            "header": {
             "fill": {
              "color": "#C8D4E3"
             },
             "line": {
              "color": "white"
             }
            },
            "type": "table"
           }
          ]
         },
         "layout": {
          "annotationdefaults": {
           "arrowcolor": "#2a3f5f",
           "arrowhead": 0,
           "arrowwidth": 1
          },
          "autotypenumbers": "strict",
          "coloraxis": {
           "colorbar": {
            "outlinewidth": 0,
            "ticks": ""
           }
          },
          "colorscale": {
           "diverging": [
            [
             0,
             "#8e0152"
            ],
            [
             0.1,
             "#c51b7d"
            ],
            [
             0.2,
             "#de77ae"
            ],
            [
             0.3,
             "#f1b6da"
            ],
            [
             0.4,
             "#fde0ef"
            ],
            [
             0.5,
             "#f7f7f7"
            ],
            [
             0.6,
             "#e6f5d0"
            ],
            [
             0.7,
             "#b8e186"
            ],
            [
             0.8,
             "#7fbc41"
            ],
            [
             0.9,
             "#4d9221"
            ],
            [
             1,
             "#276419"
            ]
           ],
           "sequential": [
            [
             0,
             "#0d0887"
            ],
            [
             0.1111111111111111,
             "#46039f"
            ],
            [
             0.2222222222222222,
             "#7201a8"
            ],
            [
             0.3333333333333333,
             "#9c179e"
            ],
            [
             0.4444444444444444,
             "#bd3786"
            ],
            [
             0.5555555555555556,
             "#d8576b"
            ],
            [
             0.6666666666666666,
             "#ed7953"
            ],
            [
             0.7777777777777778,
             "#fb9f3a"
            ],
            [
             0.8888888888888888,
             "#fdca26"
            ],
            [
             1,
             "#f0f921"
            ]
           ],
           "sequentialminus": [
            [
             0,
             "#0d0887"
            ],
            [
             0.1111111111111111,
             "#46039f"
            ],
            [
             0.2222222222222222,
             "#7201a8"
            ],
            [
             0.3333333333333333,
             "#9c179e"
            ],
            [
             0.4444444444444444,
             "#bd3786"
            ],
            [
             0.5555555555555556,
             "#d8576b"
            ],
            [
             0.6666666666666666,
             "#ed7953"
            ],
            [
             0.7777777777777778,
             "#fb9f3a"
            ],
            [
             0.8888888888888888,
             "#fdca26"
            ],
            [
             1,
             "#f0f921"
            ]
           ]
          },
          "colorway": [
           "#636efa",
           "#EF553B",
           "#00cc96",
           "#ab63fa",
           "#FFA15A",
           "#19d3f3",
           "#FF6692",
           "#B6E880",
           "#FF97FF",
           "#FECB52"
          ],
          "font": {
           "color": "#2a3f5f"
          },
          "geo": {
           "bgcolor": "white",
           "lakecolor": "white",
           "landcolor": "#E5ECF6",
           "showlakes": true,
           "showland": true,
           "subunitcolor": "white"
          },
          "hoverlabel": {
           "align": "left"
          },
          "hovermode": "closest",
          "mapbox": {
           "style": "light"
          },
          "paper_bgcolor": "white",
          "plot_bgcolor": "#E5ECF6",
          "polar": {
           "angularaxis": {
            "gridcolor": "white",
            "linecolor": "white",
            "ticks": ""
           },
           "bgcolor": "#E5ECF6",
           "radialaxis": {
            "gridcolor": "white",
            "linecolor": "white",
            "ticks": ""
           }
          },
          "scene": {
           "xaxis": {
            "backgroundcolor": "#E5ECF6",
            "gridcolor": "white",
            "gridwidth": 2,
            "linecolor": "white",
            "showbackground": true,
            "ticks": "",
            "zerolinecolor": "white"
           },
           "yaxis": {
            "backgroundcolor": "#E5ECF6",
            "gridcolor": "white",
            "gridwidth": 2,
            "linecolor": "white",
            "showbackground": true,
            "ticks": "",
            "zerolinecolor": "white"
           },
           "zaxis": {
            "backgroundcolor": "#E5ECF6",
            "gridcolor": "white",
            "gridwidth": 2,
            "linecolor": "white",
            "showbackground": true,
            "ticks": "",
            "zerolinecolor": "white"
           }
          },
          "shapedefaults": {
           "line": {
            "color": "#2a3f5f"
           }
          },
          "ternary": {
           "aaxis": {
            "gridcolor": "white",
            "linecolor": "white",
            "ticks": ""
           },
           "baxis": {
            "gridcolor": "white",
            "linecolor": "white",
            "ticks": ""
           },
           "bgcolor": "#E5ECF6",
           "caxis": {
            "gridcolor": "white",
            "linecolor": "white",
            "ticks": ""
           }
          },
          "title": {
           "x": 0.05
          },
          "xaxis": {
           "automargin": true,
           "gridcolor": "white",
           "linecolor": "white",
           "ticks": "",
           "title": {
            "standoff": 15
           },
           "zerolinecolor": "white",
           "zerolinewidth": 2
          },
          "yaxis": {
           "automargin": true,
           "gridcolor": "white",
           "linecolor": "white",
           "ticks": "",
           "title": {
            "standoff": 15
           },
           "zerolinecolor": "white",
           "zerolinewidth": 2
          }
         }
        }
       }
      }
     },
     "metadata": {},
     "output_type": "display_data"
    }
   ],
   "source": [
    "pinta_mapa(df)"
   ]
  },
  {
   "cell_type": "markdown",
   "metadata": {},
   "source": [
    "## Ejercicio 1\n",
    "### Búsqueda de aparcamiento\n",
    "Para este caso de uso imagina que vas a Madrid de viaje y estás buscando posibles parkings donde dejar el coche, crea un DataFrame con todos los parkings (de OpenStreetMap) de la ciudad de Madrid. Para ello define una cuadrícula con dos coordenadas sobre Madrid.\n",
    "\n",
    "Representa en un mapa los resultados"
   ]
  },
  {
   "cell_type": "code",
   "execution_count": 11,
   "metadata": {},
   "outputs": [],
   "source": [
    "import requests\n",
    "import json\n",
    "import pandas as pd\n"
   ]
  },
  {
   "cell_type": "code",
   "execution_count": 21,
   "metadata": {},
   "outputs": [
    {
     "name": "stdout",
     "output_type": "stream",
     "text": [
      "<Response [200]>\n"
     ]
    },
    {
     "data": {
      "text/html": [
       "<div>\n",
       "<style scoped>\n",
       "    .dataframe tbody tr th:only-of-type {\n",
       "        vertical-align: middle;\n",
       "    }\n",
       "\n",
       "    .dataframe tbody tr th {\n",
       "        vertical-align: top;\n",
       "    }\n",
       "\n",
       "    .dataframe thead th {\n",
       "        text-align: right;\n",
       "    }\n",
       "</style>\n",
       "<table border=\"1\" class=\"dataframe\">\n",
       "  <thead>\n",
       "    <tr style=\"text-align: right;\">\n",
       "      <th></th>\n",
       "      <th>tipo</th>\n",
       "      <th>lat</th>\n",
       "      <th>lon</th>\n",
       "      <th>name</th>\n",
       "      <th>address</th>\n",
       "    </tr>\n",
       "  </thead>\n",
       "  <tbody>\n",
       "    <tr>\n",
       "      <th>0</th>\n",
       "      <td>parking</td>\n",
       "      <td>40.394324</td>\n",
       "      <td>-3.794812</td>\n",
       "      <td>NO NAME</td>\n",
       "      <td>NO STREET 9999</td>\n",
       "    </tr>\n",
       "    <tr>\n",
       "      <th>1</th>\n",
       "      <td>parking</td>\n",
       "      <td>40.394064</td>\n",
       "      <td>-3.794909</td>\n",
       "      <td>NO NAME</td>\n",
       "      <td>NO STREET 9999</td>\n",
       "    </tr>\n",
       "    <tr>\n",
       "      <th>2</th>\n",
       "      <td>parking</td>\n",
       "      <td>40.398227</td>\n",
       "      <td>-3.783833</td>\n",
       "      <td>NO NAME</td>\n",
       "      <td>NO STREET 9999</td>\n",
       "    </tr>\n",
       "    <tr>\n",
       "      <th>3</th>\n",
       "      <td>parking</td>\n",
       "      <td>40.426712</td>\n",
       "      <td>-3.714370</td>\n",
       "      <td>Princesa 25</td>\n",
       "      <td>NO STREET 9999</td>\n",
       "    </tr>\n",
       "    <tr>\n",
       "      <th>4</th>\n",
       "      <td>parking</td>\n",
       "      <td>40.414469</td>\n",
       "      <td>-3.703549</td>\n",
       "      <td>Parking Benavente</td>\n",
       "      <td>NO STREET 9999</td>\n",
       "    </tr>\n",
       "    <tr>\n",
       "      <th>...</th>\n",
       "      <td>...</td>\n",
       "      <td>...</td>\n",
       "      <td>...</td>\n",
       "      <td>...</td>\n",
       "      <td>...</td>\n",
       "    </tr>\n",
       "    <tr>\n",
       "      <th>542</th>\n",
       "      <td>parking</td>\n",
       "      <td>40.372956</td>\n",
       "      <td>-3.773751</td>\n",
       "      <td>NO NAME</td>\n",
       "      <td>NO STREET 9999</td>\n",
       "    </tr>\n",
       "    <tr>\n",
       "      <th>543</th>\n",
       "      <td>parking</td>\n",
       "      <td>40.395501</td>\n",
       "      <td>-3.794887</td>\n",
       "      <td>NO NAME</td>\n",
       "      <td>NO STREET 9999</td>\n",
       "    </tr>\n",
       "    <tr>\n",
       "      <th>544</th>\n",
       "      <td>parking</td>\n",
       "      <td>40.393807</td>\n",
       "      <td>-3.798228</td>\n",
       "      <td>NO NAME</td>\n",
       "      <td>NO STREET 9999</td>\n",
       "    </tr>\n",
       "    <tr>\n",
       "      <th>545</th>\n",
       "      <td>parking</td>\n",
       "      <td>40.320327</td>\n",
       "      <td>-3.756167</td>\n",
       "      <td>NO NAME</td>\n",
       "      <td>NO STREET 9999</td>\n",
       "    </tr>\n",
       "    <tr>\n",
       "      <th>546</th>\n",
       "      <td>parking</td>\n",
       "      <td>40.382348</td>\n",
       "      <td>-3.698072</td>\n",
       "      <td>NO NAME</td>\n",
       "      <td>NO STREET 9999</td>\n",
       "    </tr>\n",
       "  </tbody>\n",
       "</table>\n",
       "<p>547 rows × 5 columns</p>\n",
       "</div>"
      ],
      "text/plain": [
       "        tipo        lat       lon               name         address\n",
       "0    parking  40.394324 -3.794812            NO NAME  NO STREET 9999\n",
       "1    parking  40.394064 -3.794909            NO NAME  NO STREET 9999\n",
       "2    parking  40.398227 -3.783833            NO NAME  NO STREET 9999\n",
       "3    parking  40.426712 -3.714370        Princesa 25  NO STREET 9999\n",
       "4    parking  40.414469 -3.703549  Parking Benavente  NO STREET 9999\n",
       "..       ...        ...       ...                ...             ...\n",
       "542  parking  40.372956 -3.773751            NO NAME  NO STREET 9999\n",
       "543  parking  40.395501 -3.794887            NO NAME  NO STREET 9999\n",
       "544  parking  40.393807 -3.798228            NO NAME  NO STREET 9999\n",
       "545  parking  40.320327 -3.756167            NO NAME  NO STREET 9999\n",
       "546  parking  40.382348 -3.698072            NO NAME  NO STREET 9999\n",
       "\n",
       "[547 rows x 5 columns]"
      ]
     },
     "execution_count": 21,
     "metadata": {},
     "output_type": "execute_result"
    }
   ],
   "source": [
    "\n",
    "overpass_url = \"http://overpass-api.de/api/interpreter\"\n",
    "overpass_query = \"\"\"\n",
    "[out:json];\n",
    "node[\"amenity\"=\"parking\"]\n",
    "  (40.2387,-3.9647,40.5368, -3.2671);\n",
    "out;\n",
    "\"\"\"\n",
    "response = requests.get(overpass_url,\n",
    "                        params={'data': overpass_query})\n",
    "print(response)\n",
    "data = response.json()\n",
    "df = json_to_df(data)\n",
    "df\n",
    "\n",
    "\n",
    "\n",
    "\n",
    "\n"
   ]
  },
  {
   "cell_type": "code",
   "execution_count": 22,
   "metadata": {},
   "outputs": [],
   "source": [
    "import plotly.express as px\n",
    "\n",
    "mapbox_access_token = \"pk.eyJ1IjoiZGFvcnRpIiwiYSI6ImNrZnF6M3FlczA3cDEyem16YTNzZmV4M2EifQ.846iF0sMSAXv0kwkwUTYjg\"\n",
    "\n",
    "def pinta_mapa(df):\n",
    "    fig = px.scatter_mapbox(df,\n",
    "                            lat=\"lat\",\n",
    "                            lon=\"lon\",\n",
    "                            color = \"tipo\",\n",
    "                      color_continuous_scale=px.colors.cyclical.IceFire, size_max=15, zoom=11)\n",
    "    fig.update_layout(\n",
    "        mapbox=dict(\n",
    "            accesstoken=mapbox_access_token\n",
    "        )\n",
    "    )\n",
    "\n",
    "    fig.show()\n"
   ]
  },
  {
   "cell_type": "code",
   "execution_count": 23,
   "metadata": {},
   "outputs": [
    {
     "data": {
      "application/vnd.plotly.v1+json": {
       "config": {
        "plotlyServerURL": "https://plot.ly"
       },
       "data": [
        {
         "hovertemplate": "tipo=parking<br>lat=%{lat}<br>lon=%{lon}<extra></extra>",
         "lat": [
          40.3943242,
          40.3940642,
          40.3982267,
          40.4267119,
          40.4144691,
          40.4064435,
          40.4166909,
          40.447447,
          40.3006322,
          40.382149,
          40.4641523,
          40.4208663,
          40.4075924,
          40.3976996,
          40.4586864,
          40.425196,
          40.4181784,
          40.4254701,
          40.429999,
          40.4369215,
          40.3474036,
          40.3360812,
          40.4238355,
          40.4340004,
          40.4507375,
          40.4115397,
          40.4535464,
          40.350559,
          40.3021637,
          40.4579589,
          40.4488857,
          40.3268449,
          40.4186092,
          40.4184039,
          40.4170962,
          40.414601,
          40.4151678,
          40.3283819,
          40.3016047,
          40.4626818,
          40.3508326,
          40.3431168,
          40.3428113,
          40.3589192,
          40.4888179,
          40.4898335,
          40.4908461,
          40.4918795,
          40.4928643,
          40.4938768,
          40.4213614,
          40.4228861,
          40.4251093,
          40.3178043,
          40.4249207,
          40.4159676,
          40.2888252,
          40.3953638,
          40.3772198,
          40.2967575,
          40.2970369,
          40.2977776,
          40.3419139,
          40.4543714,
          40.4554033,
          40.4563176,
          40.4546391,
          40.4182133,
          40.4030464,
          40.4023539,
          40.3560518,
          40.2819626,
          40.3302857,
          40.3296505,
          40.4235936,
          40.4704451,
          40.4070303,
          40.4438769,
          40.4146629,
          40.4372482,
          40.4313898,
          40.2970022,
          40.4572456,
          40.4737197,
          40.3857857,
          40.4818232,
          40.4296089,
          40.4443858,
          40.4043338,
          40.4392759,
          40.4973501,
          40.4965169,
          40.4215869,
          40.4232971,
          40.424383,
          40.4212208,
          40.426279,
          40.4281139,
          40.4238369,
          40.3444375,
          40.3436111,
          40.4302255,
          40.424334,
          40.4331999,
          40.2967496,
          40.4236326,
          40.4242164,
          40.2472453,
          40.39263,
          40.3542337,
          40.4298584,
          40.3753029,
          40.4302749,
          40.4481405,
          40.3747924,
          40.4818343,
          40.4178386,
          40.3715059,
          40.2879962,
          40.4218833,
          40.4054695,
          40.3903374,
          40.3908309,
          40.4749383,
          40.4752941,
          40.3356657,
          40.4234469,
          40.4472749,
          40.4253781,
          40.4455511,
          40.4467837,
          40.4223326,
          40.3345725,
          40.3361982,
          40.4575187,
          40.4584343,
          40.2974528,
          40.4570794,
          40.4021464,
          40.4341725,
          40.4187841,
          40.4203361,
          40.3963102,
          40.4354542,
          40.4638228,
          40.4589254,
          40.4497032,
          40.4104738,
          40.4351473,
          40.40685,
          40.4407522,
          40.4355135,
          40.3927258,
          40.3927579,
          40.4286309,
          40.2828943,
          40.393779,
          40.4015737,
          40.4082765,
          40.4018978,
          40.4019365,
          40.3440286,
          40.3988358,
          40.4110793,
          40.4089332,
          40.3861101,
          40.3505669,
          40.4575854,
          40.457962,
          40.4443821,
          40.3373617,
          40.5013983,
          40.4226229,
          40.3181954,
          40.3186977,
          40.3148594,
          40.3155127,
          40.3158753,
          40.3162711,
          40.3084917,
          40.3085735,
          40.3982256,
          40.3190893,
          40.442213,
          40.4456692,
          40.4458804,
          40.4247724,
          40.4232097,
          40.3965405,
          40.4633936,
          40.3865846,
          40.4256169,
          40.4834589,
          40.3926676,
          40.3931555,
          40.424962,
          40.3118508,
          40.4016694,
          40.3362651,
          40.3378068,
          40.4714418,
          40.3410859,
          40.4588531,
          40.2471261,
          40.4635744,
          40.4251733,
          40.4811965,
          40.4290523,
          40.429501,
          40.4306021,
          40.4298603,
          40.4911393,
          40.4219137,
          40.3885452,
          40.5037158,
          40.2428276,
          40.282588,
          40.5054301,
          40.4683615,
          40.4852629,
          40.4051769,
          40.327073,
          40.3273795,
          40.3368677,
          40.32761,
          40.3271675,
          40.3274333,
          40.4125365,
          40.3901826,
          40.3165831,
          40.45536,
          40.4125009,
          40.3951258,
          40.3936573,
          40.4116583,
          40.4123953,
          40.4132474,
          40.3119148,
          40.417317,
          40.4741278,
          40.4165286,
          40.4205859,
          40.4189272,
          40.4357478,
          40.4461985,
          40.3172449,
          40.2911215,
          40.473904,
          40.4590003,
          40.2749581,
          40.422962,
          40.4679906,
          40.4588682,
          40.4351363,
          40.4603486,
          40.4034571,
          40.4533787,
          40.5256274,
          40.4790135,
          40.4801846,
          40.4736996,
          40.4218195,
          40.4561548,
          40.3558572,
          40.3552378,
          40.3216717,
          40.4386118,
          40.4114189,
          40.4557805,
          40.2703579,
          40.3568245,
          40.4288456,
          40.4232022,
          40.4234038,
          40.4240876,
          40.4249357,
          40.4258426,
          40.4278736,
          40.420073,
          40.4208966,
          40.4213423,
          40.420223,
          40.4219367,
          40.4225746,
          40.4251922,
          40.4274338,
          40.3163683,
          40.3154713,
          40.4096841,
          40.4319183,
          40.4297065,
          40.4311342,
          40.4313875,
          40.4289017,
          40.4296481,
          40.4279522,
          40.4263353,
          40.426461,
          40.4242126,
          40.4530785,
          40.4531797,
          40.4122844,
          40.3969179,
          40.413135,
          40.4148227,
          40.4209259,
          40.4219305,
          40.4600984,
          40.4082524,
          40.4094445,
          40.4131486,
          40.4227531,
          40.3601875,
          40.3235418,
          40.4425404,
          40.4416726,
          40.4421902,
          40.4425143,
          40.3051809,
          40.481304,
          40.4757223,
          40.4108305,
          40.3915274,
          40.4088834,
          40.3317192,
          40.4573585,
          40.4689091,
          40.5345137,
          40.4372977,
          40.3156851,
          40.424809,
          40.3188959,
          40.3190747,
          40.4734774,
          40.4045062,
          40.3911893,
          40.2700351,
          40.2700434,
          40.4293318,
          40.5172291,
          40.34267,
          40.3821312,
          40.4632024,
          40.4272235,
          40.3290785,
          40.3311972,
          40.4260159,
          40.3289139,
          40.3247393,
          40.3293922,
          40.3329825,
          40.3334732,
          40.3114617,
          40.3115846,
          40.3108003,
          40.3110002,
          40.4285326,
          40.4354093,
          40.4130215,
          40.437242,
          40.4473494,
          40.4265474,
          40.432954,
          40.4634719,
          40.4879032,
          40.3299198,
          40.4769086,
          40.4772544,
          40.4040522,
          40.4034608,
          40.3788691,
          40.437818,
          40.4244219,
          40.4115442,
          40.4886147,
          40.4770338,
          40.2923563,
          40.3958119,
          40.4019737,
          40.4865644,
          40.4837704,
          40.4849983,
          40.4887463,
          40.4924118,
          40.4877298,
          40.4876768,
          40.3980961,
          40.4802616,
          40.4576427,
          40.4854161,
          40.4854099,
          40.4372369,
          40.4610085,
          40.4202075,
          40.4577833,
          40.4722906,
          40.430327,
          40.4154442,
          40.4216596,
          40.4280878,
          40.4316672,
          40.427993,
          40.394493,
          40.3833115,
          40.4694606,
          40.382168,
          40.4328747,
          40.3826829,
          40.4294136,
          40.380945,
          40.3816718,
          40.3831236,
          40.4525273,
          40.4299457,
          40.3601176,
          40.4052293,
          40.463368,
          40.461952,
          40.4633315,
          40.3557453,
          40.3581857,
          40.4513975,
          40.4263489,
          40.4481631,
          40.4470285,
          40.4071732,
          40.3646536,
          40.4289322,
          40.4487931,
          40.4960792,
          40.3592354,
          40.4314155,
          40.4094262,
          40.4088561,
          40.4344546,
          40.3971941,
          40.4973774,
          40.4068226,
          40.3957724,
          40.3505751,
          40.4172562,
          40.3603361,
          40.3294548,
          40.4540292,
          40.4799012,
          40.4021528,
          40.4050094,
          40.4042882,
          40.4025014,
          40.4027883,
          40.401323,
          40.4069256,
          40.3709947,
          40.2830246,
          40.2989839,
          40.4834835,
          40.3543782,
          40.4021188,
          40.40363,
          40.3375802,
          40.2471483,
          40.4086595,
          40.4054937,
          40.4344726,
          40.4020976,
          40.4074447,
          40.428078,
          40.4180092,
          40.4922222,
          40.4074727,
          40.4070442,
          40.2734438,
          40.2737351,
          40.3537126,
          40.343407,
          40.3540028,
          40.4211164,
          40.4722232,
          40.4329449,
          40.4085627,
          40.407339,
          40.4059789,
          40.4554156,
          40.4130223,
          40.4457404,
          40.3689089,
          40.3690602,
          40.368699,
          40.4323016,
          40.4541562,
          40.4304748,
          40.4305846,
          40.3813781,
          40.3174043,
          40.494413,
          40.2902165,
          40.3838151,
          40.360315,
          40.4169907,
          40.4175012,
          40.4672039,
          40.4464521,
          40.4677323,
          40.3982522,
          40.39574,
          40.4696569,
          40.4737533,
          40.3921584,
          40.3951109,
          40.4326702,
          40.4931552,
          40.3900672,
          40.3885424,
          40.3930024,
          40.3465558,
          40.4878221,
          40.3789626,
          40.3788336,
          40.3788466,
          40.3788223,
          40.2849481,
          40.3786518,
          40.380379,
          40.3803198,
          40.3802133,
          40.3802214,
          40.3931855,
          40.3932035,
          40.4737031,
          40.2874194,
          40.379788,
          40.4304182,
          40.4306002,
          40.4330187,
          40.4274984,
          40.377658,
          40.3776667,
          40.4360565,
          40.3737006,
          40.3736199,
          40.3732687,
          40.373,
          40.3729558,
          40.3955009,
          40.3938071,
          40.3203267,
          40.3823482
         ],
         "legendgroup": "parking",
         "lon": [
          -3.7948121,
          -3.794909,
          -3.783833,
          -3.7143698,
          -3.7035492,
          -3.7081711,
          -3.7093643,
          -3.6278558,
          -3.7060307,
          -3.7511329,
          -3.8067182,
          -3.6991932,
          -3.8772747,
          -3.7660953,
          -3.7840659,
          -3.7128977,
          -3.6912509,
          -3.6890623,
          -3.6885639,
          -3.6893064,
          -3.8435692,
          -3.7655539,
          -3.674871,
          -3.8145508,
          -3.8583412,
          -3.6651231,
          -3.8739756,
          -3.9017321,
          -3.7773222,
          -3.8111876,
          -3.7021028,
          -3.7579833,
          -3.7031858,
          -3.7113577,
          -3.7129861,
          -3.710864,
          -3.7072429,
          -3.7281588,
          -3.830962,
          -3.8063413,
          -3.8313936,
          -3.8431105,
          -3.8434256,
          -3.8109424,
          -3.5950785,
          -3.5950853,
          -3.5950853,
          -3.5950761,
          -3.595067,
          -3.5950488,
          -3.7053475,
          -3.7088024,
          -3.6924042,
          -3.641207,
          -3.6921427,
          -3.7033376,
          -3.7569711,
          -3.7096866,
          -3.9094702,
          -3.7505505,
          -3.7499898,
          -3.7505631,
          -3.7127319,
          -3.5806201,
          -3.5823453,
          -3.5813239,
          -3.5814955,
          -3.7066603,
          -3.7849027,
          -3.7842333,
          -3.8228875,
          -3.7478726,
          -3.7705475,
          -3.7638946,
          -3.6759304,
          -3.6589792,
          -3.6902221,
          -3.7269026,
          -3.7007388,
          -3.675782,
          -3.7000104,
          -3.8369771,
          -3.6913445,
          -3.6371498,
          -3.7396061,
          -3.3654713,
          -3.7027388,
          -3.6669736,
          -3.6086851,
          -3.7335048,
          -3.7593554,
          -3.7586266,
          -3.7090555,
          -3.6719385,
          -3.6714637,
          -3.6964615,
          -3.7003811,
          -3.7027219,
          -3.6992877,
          -3.8401561,
          -3.8412106,
          -3.7057628,
          -3.6893101,
          -3.7010438,
          -3.4571552,
          -3.673465,
          -3.6734211,
          -3.7808238,
          -3.6559785,
          -3.8310686,
          -3.6932034,
          -3.9198792,
          -3.7146864,
          -3.7823385,
          -3.9192471,
          -3.399456,
          -3.670412,
          -3.6951073,
          -3.4386792,
          -3.6973754,
          -3.6876209,
          -3.6440958,
          -3.6437466,
          -3.6509315,
          -3.6487096,
          -3.5328476,
          -3.7000809,
          -3.5977898,
          -3.6938042,
          -3.7846909,
          -3.7844287,
          -3.7209506,
          -3.7662193,
          -3.7663121,
          -3.6931553,
          -3.4528901,
          -3.799863,
          -3.4732988,
          -3.705415,
          -3.6704777,
          -3.6747216,
          -3.5560799,
          -3.6921004,
          -3.6867638,
          -3.8068037,
          -3.6765599,
          -3.7023081,
          -3.7385885,
          -3.71802,
          -3.7041761,
          -3.7839593,
          -3.8144169,
          -3.7575092,
          -3.7579436,
          -3.6622388,
          -3.8001508,
          -3.7791753,
          -3.7514368,
          -3.7233934,
          -3.7505099,
          -3.7502278,
          -3.8132313,
          -3.7618489,
          -3.6936166,
          -3.6937217,
          -3.7416707,
          -3.8988433,
          -3.6784512,
          -3.6785277,
          -3.4570269,
          -3.7523774,
          -3.3698572,
          -3.6842342,
          -3.8591145,
          -3.8597613,
          -3.8621897,
          -3.8554493,
          -3.863062,
          -3.8632995,
          -3.86193,
          -3.8625612,
          -3.8365473,
          -3.854794,
          -3.6774507,
          -3.5884696,
          -3.5882515,
          -3.5354408,
          -3.5205254,
          -3.6754196,
          -3.4765346,
          -3.7392969,
          -3.678704,
          -3.873839,
          -3.7542899,
          -3.7541136,
          -3.5348096,
          -3.7402091,
          -3.7508802,
          -3.7676001,
          -3.7628977,
          -3.6826004,
          -3.7588328,
          -3.4786229,
          -3.7826215,
          -3.4831755,
          -3.6613603,
          -3.7182773,
          -3.6618136,
          -3.6617879,
          -3.6675198,
          -3.6679102,
          -3.6670747,
          -3.6964904,
          -3.7656725,
          -3.3709392,
          -3.7663832,
          -3.8012467,
          -3.8918982,
          -3.8787961,
          -3.3473275,
          -3.6977579,
          -3.8624058,
          -3.8608142,
          -3.7663323,
          -3.8742742,
          -3.8730917,
          -3.8734672,
          -3.5872774,
          -3.7570497,
          -3.7914707,
          -3.7043864,
          -3.671032,
          -3.7079187,
          -3.707863,
          -3.669277,
          -3.6684172,
          -3.6683936,
          -3.7956244,
          -3.6650739,
          -3.8491533,
          -3.6583748,
          -3.67052,
          -3.6739351,
          -3.6870285,
          -3.7041122,
          -3.8787753,
          -3.7903681,
          -3.8728597,
          -3.6716519,
          -3.7987654,
          -3.7061009,
          -3.6894782,
          -3.6789669,
          -3.6766073,
          -3.6872682,
          -3.6905523,
          -3.8696105,
          -3.6558645,
          -3.3781378,
          -3.6859799,
          -3.3755565,
          -3.6564014,
          -3.6159682,
          -3.8242824,
          -3.8242639,
          -3.8827896,
          -3.7051274,
          -3.667968,
          -3.6896791,
          -3.7634694,
          -3.6917267,
          -3.659639,
          -3.6578232,
          -3.657541,
          -3.6577798,
          -3.6566211,
          -3.6570385,
          -3.6633116,
          -3.6622001,
          -3.6622635,
          -3.6553731,
          -3.6537688,
          -3.650523,
          -3.6533718,
          -3.6510568,
          -3.6491947,
          -3.8736931,
          -3.8722851,
          -3.7031838,
          -3.6834365,
          -3.6596366,
          -3.6578476,
          -3.6584502,
          -3.6596222,
          -3.6596216,
          -3.6578858,
          -3.6524633,
          -3.6528792,
          -3.6756743,
          -3.7349548,
          -3.7340106,
          -3.6711705,
          -3.684188,
          -3.675961,
          -3.668156,
          -3.6301979,
          -3.6312675,
          -3.6961801,
          -3.7035647,
          -3.8846278,
          -3.8955088,
          -3.7120686,
          -3.6957099,
          -3.6605485,
          -3.6649609,
          -3.6662663,
          -3.7267861,
          -3.7268452,
          -3.7271084,
          -3.3761913,
          -3.6491079,
          -3.709685,
          -3.7569233,
          -3.7060845,
          -3.7635542,
          -3.6724653,
          -3.6864593,
          -3.6278125,
          -3.6915252,
          -3.7240133,
          -3.5635915,
          -3.7233996,
          -3.7258827,
          -3.7010499,
          -3.7143927,
          -3.7549649,
          -3.6992769,
          -3.6986112,
          -3.6722959,
          -3.6705633,
          -3.71579,
          -3.7691807,
          -3.696544,
          -3.6989699,
          -3.7545739,
          -3.764615,
          -3.5540122,
          -3.7537428,
          -3.7711497,
          -3.7529568,
          -3.7552071,
          -3.7621063,
          -3.7180379,
          -3.7181199,
          -3.7192009,
          -3.7190042,
          -3.6971401,
          -3.7136863,
          -3.7031323,
          -3.7128671,
          -3.5486682,
          -3.6879804,
          -3.6863475,
          -3.6863605,
          -3.3833181,
          -3.8835828,
          -3.6482399,
          -3.6484867,
          -3.676206,
          -3.6761316,
          -3.7804697,
          -3.6508978,
          -3.7154758,
          -3.6977507,
          -3.4394738,
          -3.6715207,
          -3.9635415,
          -3.691392,
          -3.7009771,
          -3.3494648,
          -3.3504096,
          -3.3451329,
          -3.3466719,
          -3.3438759,
          -3.3456455,
          -3.34649,
          -3.6944514,
          -3.362508,
          -3.7042912,
          -3.3492675,
          -3.3470164,
          -3.7101802,
          -3.3623411,
          -3.6957932,
          -3.6943843,
          -3.6789958,
          -3.6794221,
          -3.7274399,
          -3.5341532,
          -3.6824481,
          -3.6498864,
          -3.5442284,
          -3.698652,
          -3.7202024,
          -3.5819919,
          -3.7509888,
          -3.7344075,
          -3.7206845,
          -3.7200726,
          -3.7247478,
          -3.7238694,
          -3.7213831,
          -3.6916703,
          -3.7185756,
          -3.9091637,
          -3.6788362,
          -3.6434195,
          -3.6448544,
          -3.6403161,
          -3.9010021,
          -3.9012682,
          -3.5650769,
          -3.5540953,
          -3.6976002,
          -3.7139406,
          -3.3665907,
          -3.5493127,
          -3.7097642,
          -3.7118017,
          -3.7002592,
          -3.7777442,
          -3.7358731,
          -3.879518,
          -3.8803113,
          -3.6924381,
          -3.7957648,
          -3.6682521,
          -3.6733194,
          -3.6609478,
          -3.9022511,
          -3.6730636,
          -3.7776446,
          -3.6585165,
          -3.6842016,
          -3.8758105,
          -3.75464,
          -3.7469523,
          -3.751316,
          -3.7544031,
          -3.7546782,
          -3.755149,
          -3.6962837,
          -3.6210494,
          -3.6883939,
          -3.4441765,
          -3.3513812,
          -3.2697199,
          -3.6478765,
          -3.6508099,
          -3.7512836,
          -3.3065635,
          -3.714725,
          -3.6691453,
          -3.6710468,
          -3.6779064,
          -3.6687736,
          -3.6709517,
          -3.8614382,
          -3.6090855,
          -3.6393107,
          -3.6391564,
          -3.9082675,
          -3.9073168,
          -3.2721103,
          -3.2734068,
          -3.6848548,
          -3.6919151,
          -3.6682098,
          -3.6758434,
          -3.6696638,
          -3.669269,
          -3.6666557,
          -3.6787065,
          -3.6632446,
          -3.7050601,
          -3.6008418,
          -3.6007132,
          -3.6010205,
          -3.7194099,
          -3.6946556,
          -3.7077785,
          -3.6722055,
          -3.7935317,
          -3.7434268,
          -3.7166594,
          -3.6958252,
          -3.4091269,
          -3.7146943,
          -3.860845,
          -3.8603125,
          -3.8761144,
          -3.81257,
          -3.8714531,
          -3.7874095,
          -3.7899282,
          -3.8709374,
          -3.8727029,
          -3.7509541,
          -3.7934813,
          -3.7214086,
          -3.3763237,
          -3.7661206,
          -3.744409,
          -3.7523,
          -3.7423992,
          -3.6078746,
          -3.7808181,
          -3.7801306,
          -3.780135,
          -3.7787374,
          -3.9209232,
          -3.6366375,
          -3.783364,
          -3.7836604,
          -3.7784921,
          -3.7785423,
          -3.7093821,
          -3.7094316,
          -3.8694994,
          -3.7942057,
          -3.7718224,
          -3.6764669,
          -3.6754146,
          -3.6739384,
          -3.6807742,
          -3.7773652,
          -3.7769659,
          -3.7033725,
          -3.7728282,
          -3.7728493,
          -3.7743236,
          -3.7737395,
          -3.7737514,
          -3.7948872,
          -3.7982282,
          -3.756167,
          -3.6980718
         ],
         "marker": {
          "color": "#636efa"
         },
         "mode": "markers",
         "name": "parking",
         "showlegend": true,
         "subplot": "mapbox",
         "type": "scattermapbox"
        }
       ],
       "layout": {
        "legend": {
         "title": {
          "text": "tipo"
         },
         "tracegroupgap": 0
        },
        "mapbox": {
         "accesstoken": "pk.eyJ1IjoiZGFvcnRpIiwiYSI6ImNrZnF6M3FlczA3cDEyem16YTNzZmV4M2EifQ.846iF0sMSAXv0kwkwUTYjg",
         "center": {
          "lat": 40.40576267239488,
          "lon": -3.6993252579524682
         },
         "domain": {
          "x": [
           0,
           1
          ],
          "y": [
           0,
           1
          ]
         },
         "zoom": 11
        },
        "margin": {
         "t": 60
        },
        "template": {
         "data": {
          "bar": [
           {
            "error_x": {
             "color": "#2a3f5f"
            },
            "error_y": {
             "color": "#2a3f5f"
            },
            "marker": {
             "line": {
              "color": "#E5ECF6",
              "width": 0.5
             },
             "pattern": {
              "fillmode": "overlay",
              "size": 10,
              "solidity": 0.2
             }
            },
            "type": "bar"
           }
          ],
          "barpolar": [
           {
            "marker": {
             "line": {
              "color": "#E5ECF6",
              "width": 0.5
             },
             "pattern": {
              "fillmode": "overlay",
              "size": 10,
              "solidity": 0.2
             }
            },
            "type": "barpolar"
           }
          ],
          "carpet": [
           {
            "aaxis": {
             "endlinecolor": "#2a3f5f",
             "gridcolor": "white",
             "linecolor": "white",
             "minorgridcolor": "white",
             "startlinecolor": "#2a3f5f"
            },
            "baxis": {
             "endlinecolor": "#2a3f5f",
             "gridcolor": "white",
             "linecolor": "white",
             "minorgridcolor": "white",
             "startlinecolor": "#2a3f5f"
            },
            "type": "carpet"
           }
          ],
          "choropleth": [
           {
            "colorbar": {
             "outlinewidth": 0,
             "ticks": ""
            },
            "type": "choropleth"
           }
          ],
          "contour": [
           {
            "colorbar": {
             "outlinewidth": 0,
             "ticks": ""
            },
            "colorscale": [
             [
              0,
              "#0d0887"
             ],
             [
              0.1111111111111111,
              "#46039f"
             ],
             [
              0.2222222222222222,
              "#7201a8"
             ],
             [
              0.3333333333333333,
              "#9c179e"
             ],
             [
              0.4444444444444444,
              "#bd3786"
             ],
             [
              0.5555555555555556,
              "#d8576b"
             ],
             [
              0.6666666666666666,
              "#ed7953"
             ],
             [
              0.7777777777777778,
              "#fb9f3a"
             ],
             [
              0.8888888888888888,
              "#fdca26"
             ],
             [
              1,
              "#f0f921"
             ]
            ],
            "type": "contour"
           }
          ],
          "contourcarpet": [
           {
            "colorbar": {
             "outlinewidth": 0,
             "ticks": ""
            },
            "type": "contourcarpet"
           }
          ],
          "heatmap": [
           {
            "colorbar": {
             "outlinewidth": 0,
             "ticks": ""
            },
            "colorscale": [
             [
              0,
              "#0d0887"
             ],
             [
              0.1111111111111111,
              "#46039f"
             ],
             [
              0.2222222222222222,
              "#7201a8"
             ],
             [
              0.3333333333333333,
              "#9c179e"
             ],
             [
              0.4444444444444444,
              "#bd3786"
             ],
             [
              0.5555555555555556,
              "#d8576b"
             ],
             [
              0.6666666666666666,
              "#ed7953"
             ],
             [
              0.7777777777777778,
              "#fb9f3a"
             ],
             [
              0.8888888888888888,
              "#fdca26"
             ],
             [
              1,
              "#f0f921"
             ]
            ],
            "type": "heatmap"
           }
          ],
          "heatmapgl": [
           {
            "colorbar": {
             "outlinewidth": 0,
             "ticks": ""
            },
            "colorscale": [
             [
              0,
              "#0d0887"
             ],
             [
              0.1111111111111111,
              "#46039f"
             ],
             [
              0.2222222222222222,
              "#7201a8"
             ],
             [
              0.3333333333333333,
              "#9c179e"
             ],
             [
              0.4444444444444444,
              "#bd3786"
             ],
             [
              0.5555555555555556,
              "#d8576b"
             ],
             [
              0.6666666666666666,
              "#ed7953"
             ],
             [
              0.7777777777777778,
              "#fb9f3a"
             ],
             [
              0.8888888888888888,
              "#fdca26"
             ],
             [
              1,
              "#f0f921"
             ]
            ],
            "type": "heatmapgl"
           }
          ],
          "histogram": [
           {
            "marker": {
             "pattern": {
              "fillmode": "overlay",
              "size": 10,
              "solidity": 0.2
             }
            },
            "type": "histogram"
           }
          ],
          "histogram2d": [
           {
            "colorbar": {
             "outlinewidth": 0,
             "ticks": ""
            },
            "colorscale": [
             [
              0,
              "#0d0887"
             ],
             [
              0.1111111111111111,
              "#46039f"
             ],
             [
              0.2222222222222222,
              "#7201a8"
             ],
             [
              0.3333333333333333,
              "#9c179e"
             ],
             [
              0.4444444444444444,
              "#bd3786"
             ],
             [
              0.5555555555555556,
              "#d8576b"
             ],
             [
              0.6666666666666666,
              "#ed7953"
             ],
             [
              0.7777777777777778,
              "#fb9f3a"
             ],
             [
              0.8888888888888888,
              "#fdca26"
             ],
             [
              1,
              "#f0f921"
             ]
            ],
            "type": "histogram2d"
           }
          ],
          "histogram2dcontour": [
           {
            "colorbar": {
             "outlinewidth": 0,
             "ticks": ""
            },
            "colorscale": [
             [
              0,
              "#0d0887"
             ],
             [
              0.1111111111111111,
              "#46039f"
             ],
             [
              0.2222222222222222,
              "#7201a8"
             ],
             [
              0.3333333333333333,
              "#9c179e"
             ],
             [
              0.4444444444444444,
              "#bd3786"
             ],
             [
              0.5555555555555556,
              "#d8576b"
             ],
             [
              0.6666666666666666,
              "#ed7953"
             ],
             [
              0.7777777777777778,
              "#fb9f3a"
             ],
             [
              0.8888888888888888,
              "#fdca26"
             ],
             [
              1,
              "#f0f921"
             ]
            ],
            "type": "histogram2dcontour"
           }
          ],
          "mesh3d": [
           {
            "colorbar": {
             "outlinewidth": 0,
             "ticks": ""
            },
            "type": "mesh3d"
           }
          ],
          "parcoords": [
           {
            "line": {
             "colorbar": {
              "outlinewidth": 0,
              "ticks": ""
             }
            },
            "type": "parcoords"
           }
          ],
          "pie": [
           {
            "automargin": true,
            "type": "pie"
           }
          ],
          "scatter": [
           {
            "fillpattern": {
             "fillmode": "overlay",
             "size": 10,
             "solidity": 0.2
            },
            "type": "scatter"
           }
          ],
          "scatter3d": [
           {
            "line": {
             "colorbar": {
              "outlinewidth": 0,
              "ticks": ""
             }
            },
            "marker": {
             "colorbar": {
              "outlinewidth": 0,
              "ticks": ""
             }
            },
            "type": "scatter3d"
           }
          ],
          "scattercarpet": [
           {
            "marker": {
             "colorbar": {
              "outlinewidth": 0,
              "ticks": ""
             }
            },
            "type": "scattercarpet"
           }
          ],
          "scattergeo": [
           {
            "marker": {
             "colorbar": {
              "outlinewidth": 0,
              "ticks": ""
             }
            },
            "type": "scattergeo"
           }
          ],
          "scattergl": [
           {
            "marker": {
             "colorbar": {
              "outlinewidth": 0,
              "ticks": ""
             }
            },
            "type": "scattergl"
           }
          ],
          "scattermapbox": [
           {
            "marker": {
             "colorbar": {
              "outlinewidth": 0,
              "ticks": ""
             }
            },
            "type": "scattermapbox"
           }
          ],
          "scatterpolar": [
           {
            "marker": {
             "colorbar": {
              "outlinewidth": 0,
              "ticks": ""
             }
            },
            "type": "scatterpolar"
           }
          ],
          "scatterpolargl": [
           {
            "marker": {
             "colorbar": {
              "outlinewidth": 0,
              "ticks": ""
             }
            },
            "type": "scatterpolargl"
           }
          ],
          "scatterternary": [
           {
            "marker": {
             "colorbar": {
              "outlinewidth": 0,
              "ticks": ""
             }
            },
            "type": "scatterternary"
           }
          ],
          "surface": [
           {
            "colorbar": {
             "outlinewidth": 0,
             "ticks": ""
            },
            "colorscale": [
             [
              0,
              "#0d0887"
             ],
             [
              0.1111111111111111,
              "#46039f"
             ],
             [
              0.2222222222222222,
              "#7201a8"
             ],
             [
              0.3333333333333333,
              "#9c179e"
             ],
             [
              0.4444444444444444,
              "#bd3786"
             ],
             [
              0.5555555555555556,
              "#d8576b"
             ],
             [
              0.6666666666666666,
              "#ed7953"
             ],
             [
              0.7777777777777778,
              "#fb9f3a"
             ],
             [
              0.8888888888888888,
              "#fdca26"
             ],
             [
              1,
              "#f0f921"
             ]
            ],
            "type": "surface"
           }
          ],
          "table": [
           {
            "cells": {
             "fill": {
              "color": "#EBF0F8"
             },
             "line": {
              "color": "white"
             }
            },
            "header": {
             "fill": {
              "color": "#C8D4E3"
             },
             "line": {
              "color": "white"
             }
            },
            "type": "table"
           }
          ]
         },
         "layout": {
          "annotationdefaults": {
           "arrowcolor": "#2a3f5f",
           "arrowhead": 0,
           "arrowwidth": 1
          },
          "autotypenumbers": "strict",
          "coloraxis": {
           "colorbar": {
            "outlinewidth": 0,
            "ticks": ""
           }
          },
          "colorscale": {
           "diverging": [
            [
             0,
             "#8e0152"
            ],
            [
             0.1,
             "#c51b7d"
            ],
            [
             0.2,
             "#de77ae"
            ],
            [
             0.3,
             "#f1b6da"
            ],
            [
             0.4,
             "#fde0ef"
            ],
            [
             0.5,
             "#f7f7f7"
            ],
            [
             0.6,
             "#e6f5d0"
            ],
            [
             0.7,
             "#b8e186"
            ],
            [
             0.8,
             "#7fbc41"
            ],
            [
             0.9,
             "#4d9221"
            ],
            [
             1,
             "#276419"
            ]
           ],
           "sequential": [
            [
             0,
             "#0d0887"
            ],
            [
             0.1111111111111111,
             "#46039f"
            ],
            [
             0.2222222222222222,
             "#7201a8"
            ],
            [
             0.3333333333333333,
             "#9c179e"
            ],
            [
             0.4444444444444444,
             "#bd3786"
            ],
            [
             0.5555555555555556,
             "#d8576b"
            ],
            [
             0.6666666666666666,
             "#ed7953"
            ],
            [
             0.7777777777777778,
             "#fb9f3a"
            ],
            [
             0.8888888888888888,
             "#fdca26"
            ],
            [
             1,
             "#f0f921"
            ]
           ],
           "sequentialminus": [
            [
             0,
             "#0d0887"
            ],
            [
             0.1111111111111111,
             "#46039f"
            ],
            [
             0.2222222222222222,
             "#7201a8"
            ],
            [
             0.3333333333333333,
             "#9c179e"
            ],
            [
             0.4444444444444444,
             "#bd3786"
            ],
            [
             0.5555555555555556,
             "#d8576b"
            ],
            [
             0.6666666666666666,
             "#ed7953"
            ],
            [
             0.7777777777777778,
             "#fb9f3a"
            ],
            [
             0.8888888888888888,
             "#fdca26"
            ],
            [
             1,
             "#f0f921"
            ]
           ]
          },
          "colorway": [
           "#636efa",
           "#EF553B",
           "#00cc96",
           "#ab63fa",
           "#FFA15A",
           "#19d3f3",
           "#FF6692",
           "#B6E880",
           "#FF97FF",
           "#FECB52"
          ],
          "font": {
           "color": "#2a3f5f"
          },
          "geo": {
           "bgcolor": "white",
           "lakecolor": "white",
           "landcolor": "#E5ECF6",
           "showlakes": true,
           "showland": true,
           "subunitcolor": "white"
          },
          "hoverlabel": {
           "align": "left"
          },
          "hovermode": "closest",
          "mapbox": {
           "style": "light"
          },
          "paper_bgcolor": "white",
          "plot_bgcolor": "#E5ECF6",
          "polar": {
           "angularaxis": {
            "gridcolor": "white",
            "linecolor": "white",
            "ticks": ""
           },
           "bgcolor": "#E5ECF6",
           "radialaxis": {
            "gridcolor": "white",
            "linecolor": "white",
            "ticks": ""
           }
          },
          "scene": {
           "xaxis": {
            "backgroundcolor": "#E5ECF6",
            "gridcolor": "white",
            "gridwidth": 2,
            "linecolor": "white",
            "showbackground": true,
            "ticks": "",
            "zerolinecolor": "white"
           },
           "yaxis": {
            "backgroundcolor": "#E5ECF6",
            "gridcolor": "white",
            "gridwidth": 2,
            "linecolor": "white",
            "showbackground": true,
            "ticks": "",
            "zerolinecolor": "white"
           },
           "zaxis": {
            "backgroundcolor": "#E5ECF6",
            "gridcolor": "white",
            "gridwidth": 2,
            "linecolor": "white",
            "showbackground": true,
            "ticks": "",
            "zerolinecolor": "white"
           }
          },
          "shapedefaults": {
           "line": {
            "color": "#2a3f5f"
           }
          },
          "ternary": {
           "aaxis": {
            "gridcolor": "white",
            "linecolor": "white",
            "ticks": ""
           },
           "baxis": {
            "gridcolor": "white",
            "linecolor": "white",
            "ticks": ""
           },
           "bgcolor": "#E5ECF6",
           "caxis": {
            "gridcolor": "white",
            "linecolor": "white",
            "ticks": ""
           }
          },
          "title": {
           "x": 0.05
          },
          "xaxis": {
           "automargin": true,
           "gridcolor": "white",
           "linecolor": "white",
           "ticks": "",
           "title": {
            "standoff": 15
           },
           "zerolinecolor": "white",
           "zerolinewidth": 2
          },
          "yaxis": {
           "automargin": true,
           "gridcolor": "white",
           "linecolor": "white",
           "ticks": "",
           "title": {
            "standoff": 15
           },
           "zerolinecolor": "white",
           "zerolinewidth": 2
          }
         }
        }
       }
      }
     },
     "metadata": {},
     "output_type": "display_data"
    }
   ],
   "source": [
    "pinta_mapa(df)"
   ]
  },
  {
   "cell_type": "code",
   "execution_count": null,
   "metadata": {},
   "outputs": [],
   "source": []
  },
  {
   "cell_type": "markdown",
   "metadata": {},
   "source": [
    "## Mudanza\n",
    "Imagina que te quieres mudar al Berrueco, pero antes te gustaría obtener algún indicador de si hay civilización por esa zona. Mira a ver si existe gasolineras y/o colegios por la zona. Define, al igual que en el caso anterior, un rectángulo mediante dos coordenadas. Busca la manera de realizar una única petición a la API.\n",
    "\n",
    "Representa después en un mapa, por color los colegios y gasolineras"
   ]
  },
  {
   "cell_type": "code",
   "execution_count": 27,
   "metadata": {},
   "outputs": [
    {
     "name": "stdout",
     "output_type": "stream",
     "text": [
      "<Response [200]>\n"
     ]
    },
    {
     "data": {
      "text/html": [
       "<div>\n",
       "<style scoped>\n",
       "    .dataframe tbody tr th:only-of-type {\n",
       "        vertical-align: middle;\n",
       "    }\n",
       "\n",
       "    .dataframe tbody tr th {\n",
       "        vertical-align: top;\n",
       "    }\n",
       "\n",
       "    .dataframe thead th {\n",
       "        text-align: right;\n",
       "    }\n",
       "</style>\n",
       "<table border=\"1\" class=\"dataframe\">\n",
       "  <thead>\n",
       "    <tr style=\"text-align: right;\">\n",
       "      <th></th>\n",
       "      <th>tipo</th>\n",
       "      <th>lat</th>\n",
       "      <th>lon</th>\n",
       "      <th>name</th>\n",
       "      <th>address</th>\n",
       "    </tr>\n",
       "  </thead>\n",
       "  <tbody>\n",
       "    <tr>\n",
       "      <th>0</th>\n",
       "      <td>music_school</td>\n",
       "      <td>40.872876</td>\n",
       "      <td>-3.606421</td>\n",
       "      <td>Escuela Municipal De Musica Y Danza La Cabrera</td>\n",
       "      <td>NO STREET 96</td>\n",
       "    </tr>\n",
       "    <tr>\n",
       "      <th>1</th>\n",
       "      <td>fuel</td>\n",
       "      <td>40.875833</td>\n",
       "      <td>-3.602389</td>\n",
       "      <td>Shell</td>\n",
       "      <td>Avenida de La Cabrera 9999</td>\n",
       "    </tr>\n",
       "  </tbody>\n",
       "</table>\n",
       "</div>"
      ],
      "text/plain": [
       "           tipo        lat       lon  \\\n",
       "0  music_school  40.872876 -3.606421   \n",
       "1          fuel  40.875833 -3.602389   \n",
       "\n",
       "                                             name                     address  \n",
       "0  Escuela Municipal De Musica Y Danza La Cabrera                NO STREET 96  \n",
       "1                                           Shell  Avenida de La Cabrera 9999  "
      ]
     },
     "execution_count": 27,
     "metadata": {},
     "output_type": "execute_result"
    }
   ],
   "source": [
    "overpass_url = \"http://overpass-api.de/api/interpreter\"\n",
    "overpass_query = \"\"\"\n",
    "[out:json];\n",
    "node[\"amenity\"~\"fuel|school\"]\n",
    "  (40.8637, -3.6071, 40.9105, -3.5136);\n",
    "out;\n",
    "\"\"\"\n",
    "\n",
    "response = requests.get(overpass_url, \n",
    "                        params={'data': overpass_query})\n",
    "print(response)\n",
    "data1 = response.json()\n",
    "df1 = json_to_df(data1)\n",
    "df1\n"
   ]
  },
  {
   "cell_type": "code",
   "execution_count": 28,
   "metadata": {},
   "outputs": [
    {
     "data": {
      "application/vnd.plotly.v1+json": {
       "config": {
        "plotlyServerURL": "https://plot.ly"
       },
       "data": [
        {
         "hovertemplate": "tipo=music_school<br>lat=%{lat}<br>lon=%{lon}<extra></extra>",
         "lat": [
          40.8728757
         ],
         "legendgroup": "music_school",
         "lon": [
          -3.6064211
         ],
         "marker": {
          "color": "#636efa"
         },
         "mode": "markers",
         "name": "music_school",
         "showlegend": true,
         "subplot": "mapbox",
         "type": "scattermapbox"
        },
        {
         "hovertemplate": "tipo=fuel<br>lat=%{lat}<br>lon=%{lon}<extra></extra>",
         "lat": [
          40.8758331
         ],
         "legendgroup": "fuel",
         "lon": [
          -3.602389
         ],
         "marker": {
          "color": "#EF553B"
         },
         "mode": "markers",
         "name": "fuel",
         "showlegend": true,
         "subplot": "mapbox",
         "type": "scattermapbox"
        }
       ],
       "layout": {
        "legend": {
         "title": {
          "text": "tipo"
         },
         "tracegroupgap": 0
        },
        "mapbox": {
         "accesstoken": "pk.eyJ1IjoiZGFvcnRpIiwiYSI6ImNrZnF6M3FlczA3cDEyem16YTNzZmV4M2EifQ.846iF0sMSAXv0kwkwUTYjg",
         "center": {
          "lat": 40.8743544,
          "lon": -3.60440505
         },
         "domain": {
          "x": [
           0,
           1
          ],
          "y": [
           0,
           1
          ]
         },
         "zoom": 11
        },
        "margin": {
         "t": 60
        },
        "template": {
         "data": {
          "bar": [
           {
            "error_x": {
             "color": "#2a3f5f"
            },
            "error_y": {
             "color": "#2a3f5f"
            },
            "marker": {
             "line": {
              "color": "#E5ECF6",
              "width": 0.5
             },
             "pattern": {
              "fillmode": "overlay",
              "size": 10,
              "solidity": 0.2
             }
            },
            "type": "bar"
           }
          ],
          "barpolar": [
           {
            "marker": {
             "line": {
              "color": "#E5ECF6",
              "width": 0.5
             },
             "pattern": {
              "fillmode": "overlay",
              "size": 10,
              "solidity": 0.2
             }
            },
            "type": "barpolar"
           }
          ],
          "carpet": [
           {
            "aaxis": {
             "endlinecolor": "#2a3f5f",
             "gridcolor": "white",
             "linecolor": "white",
             "minorgridcolor": "white",
             "startlinecolor": "#2a3f5f"
            },
            "baxis": {
             "endlinecolor": "#2a3f5f",
             "gridcolor": "white",
             "linecolor": "white",
             "minorgridcolor": "white",
             "startlinecolor": "#2a3f5f"
            },
            "type": "carpet"
           }
          ],
          "choropleth": [
           {
            "colorbar": {
             "outlinewidth": 0,
             "ticks": ""
            },
            "type": "choropleth"
           }
          ],
          "contour": [
           {
            "colorbar": {
             "outlinewidth": 0,
             "ticks": ""
            },
            "colorscale": [
             [
              0,
              "#0d0887"
             ],
             [
              0.1111111111111111,
              "#46039f"
             ],
             [
              0.2222222222222222,
              "#7201a8"
             ],
             [
              0.3333333333333333,
              "#9c179e"
             ],
             [
              0.4444444444444444,
              "#bd3786"
             ],
             [
              0.5555555555555556,
              "#d8576b"
             ],
             [
              0.6666666666666666,
              "#ed7953"
             ],
             [
              0.7777777777777778,
              "#fb9f3a"
             ],
             [
              0.8888888888888888,
              "#fdca26"
             ],
             [
              1,
              "#f0f921"
             ]
            ],
            "type": "contour"
           }
          ],
          "contourcarpet": [
           {
            "colorbar": {
             "outlinewidth": 0,
             "ticks": ""
            },
            "type": "contourcarpet"
           }
          ],
          "heatmap": [
           {
            "colorbar": {
             "outlinewidth": 0,
             "ticks": ""
            },
            "colorscale": [
             [
              0,
              "#0d0887"
             ],
             [
              0.1111111111111111,
              "#46039f"
             ],
             [
              0.2222222222222222,
              "#7201a8"
             ],
             [
              0.3333333333333333,
              "#9c179e"
             ],
             [
              0.4444444444444444,
              "#bd3786"
             ],
             [
              0.5555555555555556,
              "#d8576b"
             ],
             [
              0.6666666666666666,
              "#ed7953"
             ],
             [
              0.7777777777777778,
              "#fb9f3a"
             ],
             [
              0.8888888888888888,
              "#fdca26"
             ],
             [
              1,
              "#f0f921"
             ]
            ],
            "type": "heatmap"
           }
          ],
          "heatmapgl": [
           {
            "colorbar": {
             "outlinewidth": 0,
             "ticks": ""
            },
            "colorscale": [
             [
              0,
              "#0d0887"
             ],
             [
              0.1111111111111111,
              "#46039f"
             ],
             [
              0.2222222222222222,
              "#7201a8"
             ],
             [
              0.3333333333333333,
              "#9c179e"
             ],
             [
              0.4444444444444444,
              "#bd3786"
             ],
             [
              0.5555555555555556,
              "#d8576b"
             ],
             [
              0.6666666666666666,
              "#ed7953"
             ],
             [
              0.7777777777777778,
              "#fb9f3a"
             ],
             [
              0.8888888888888888,
              "#fdca26"
             ],
             [
              1,
              "#f0f921"
             ]
            ],
            "type": "heatmapgl"
           }
          ],
          "histogram": [
           {
            "marker": {
             "pattern": {
              "fillmode": "overlay",
              "size": 10,
              "solidity": 0.2
             }
            },
            "type": "histogram"
           }
          ],
          "histogram2d": [
           {
            "colorbar": {
             "outlinewidth": 0,
             "ticks": ""
            },
            "colorscale": [
             [
              0,
              "#0d0887"
             ],
             [
              0.1111111111111111,
              "#46039f"
             ],
             [
              0.2222222222222222,
              "#7201a8"
             ],
             [
              0.3333333333333333,
              "#9c179e"
             ],
             [
              0.4444444444444444,
              "#bd3786"
             ],
             [
              0.5555555555555556,
              "#d8576b"
             ],
             [
              0.6666666666666666,
              "#ed7953"
             ],
             [
              0.7777777777777778,
              "#fb9f3a"
             ],
             [
              0.8888888888888888,
              "#fdca26"
             ],
             [
              1,
              "#f0f921"
             ]
            ],
            "type": "histogram2d"
           }
          ],
          "histogram2dcontour": [
           {
            "colorbar": {
             "outlinewidth": 0,
             "ticks": ""
            },
            "colorscale": [
             [
              0,
              "#0d0887"
             ],
             [
              0.1111111111111111,
              "#46039f"
             ],
             [
              0.2222222222222222,
              "#7201a8"
             ],
             [
              0.3333333333333333,
              "#9c179e"
             ],
             [
              0.4444444444444444,
              "#bd3786"
             ],
             [
              0.5555555555555556,
              "#d8576b"
             ],
             [
              0.6666666666666666,
              "#ed7953"
             ],
             [
              0.7777777777777778,
              "#fb9f3a"
             ],
             [
              0.8888888888888888,
              "#fdca26"
             ],
             [
              1,
              "#f0f921"
             ]
            ],
            "type": "histogram2dcontour"
           }
          ],
          "mesh3d": [
           {
            "colorbar": {
             "outlinewidth": 0,
             "ticks": ""
            },
            "type": "mesh3d"
           }
          ],
          "parcoords": [
           {
            "line": {
             "colorbar": {
              "outlinewidth": 0,
              "ticks": ""
             }
            },
            "type": "parcoords"
           }
          ],
          "pie": [
           {
            "automargin": true,
            "type": "pie"
           }
          ],
          "scatter": [
           {
            "fillpattern": {
             "fillmode": "overlay",
             "size": 10,
             "solidity": 0.2
            },
            "type": "scatter"
           }
          ],
          "scatter3d": [
           {
            "line": {
             "colorbar": {
              "outlinewidth": 0,
              "ticks": ""
             }
            },
            "marker": {
             "colorbar": {
              "outlinewidth": 0,
              "ticks": ""
             }
            },
            "type": "scatter3d"
           }
          ],
          "scattercarpet": [
           {
            "marker": {
             "colorbar": {
              "outlinewidth": 0,
              "ticks": ""
             }
            },
            "type": "scattercarpet"
           }
          ],
          "scattergeo": [
           {
            "marker": {
             "colorbar": {
              "outlinewidth": 0,
              "ticks": ""
             }
            },
            "type": "scattergeo"
           }
          ],
          "scattergl": [
           {
            "marker": {
             "colorbar": {
              "outlinewidth": 0,
              "ticks": ""
             }
            },
            "type": "scattergl"
           }
          ],
          "scattermapbox": [
           {
            "marker": {
             "colorbar": {
              "outlinewidth": 0,
              "ticks": ""
             }
            },
            "type": "scattermapbox"
           }
          ],
          "scatterpolar": [
           {
            "marker": {
             "colorbar": {
              "outlinewidth": 0,
              "ticks": ""
             }
            },
            "type": "scatterpolar"
           }
          ],
          "scatterpolargl": [
           {
            "marker": {
             "colorbar": {
              "outlinewidth": 0,
              "ticks": ""
             }
            },
            "type": "scatterpolargl"
           }
          ],
          "scatterternary": [
           {
            "marker": {
             "colorbar": {
              "outlinewidth": 0,
              "ticks": ""
             }
            },
            "type": "scatterternary"
           }
          ],
          "surface": [
           {
            "colorbar": {
             "outlinewidth": 0,
             "ticks": ""
            },
            "colorscale": [
             [
              0,
              "#0d0887"
             ],
             [
              0.1111111111111111,
              "#46039f"
             ],
             [
              0.2222222222222222,
              "#7201a8"
             ],
             [
              0.3333333333333333,
              "#9c179e"
             ],
             [
              0.4444444444444444,
              "#bd3786"
             ],
             [
              0.5555555555555556,
              "#d8576b"
             ],
             [
              0.6666666666666666,
              "#ed7953"
             ],
             [
              0.7777777777777778,
              "#fb9f3a"
             ],
             [
              0.8888888888888888,
              "#fdca26"
             ],
             [
              1,
              "#f0f921"
             ]
            ],
            "type": "surface"
           }
          ],
          "table": [
           {
            "cells": {
             "fill": {
              "color": "#EBF0F8"
             },
             "line": {
              "color": "white"
             }
            },
            "header": {
             "fill": {
              "color": "#C8D4E3"
             },
             "line": {
              "color": "white"
             }
            },
            "type": "table"
           }
          ]
         },
         "layout": {
          "annotationdefaults": {
           "arrowcolor": "#2a3f5f",
           "arrowhead": 0,
           "arrowwidth": 1
          },
          "autotypenumbers": "strict",
          "coloraxis": {
           "colorbar": {
            "outlinewidth": 0,
            "ticks": ""
           }
          },
          "colorscale": {
           "diverging": [
            [
             0,
             "#8e0152"
            ],
            [
             0.1,
             "#c51b7d"
            ],
            [
             0.2,
             "#de77ae"
            ],
            [
             0.3,
             "#f1b6da"
            ],
            [
             0.4,
             "#fde0ef"
            ],
            [
             0.5,
             "#f7f7f7"
            ],
            [
             0.6,
             "#e6f5d0"
            ],
            [
             0.7,
             "#b8e186"
            ],
            [
             0.8,
             "#7fbc41"
            ],
            [
             0.9,
             "#4d9221"
            ],
            [
             1,
             "#276419"
            ]
           ],
           "sequential": [
            [
             0,
             "#0d0887"
            ],
            [
             0.1111111111111111,
             "#46039f"
            ],
            [
             0.2222222222222222,
             "#7201a8"
            ],
            [
             0.3333333333333333,
             "#9c179e"
            ],
            [
             0.4444444444444444,
             "#bd3786"
            ],
            [
             0.5555555555555556,
             "#d8576b"
            ],
            [
             0.6666666666666666,
             "#ed7953"
            ],
            [
             0.7777777777777778,
             "#fb9f3a"
            ],
            [
             0.8888888888888888,
             "#fdca26"
            ],
            [
             1,
             "#f0f921"
            ]
           ],
           "sequentialminus": [
            [
             0,
             "#0d0887"
            ],
            [
             0.1111111111111111,
             "#46039f"
            ],
            [
             0.2222222222222222,
             "#7201a8"
            ],
            [
             0.3333333333333333,
             "#9c179e"
            ],
            [
             0.4444444444444444,
             "#bd3786"
            ],
            [
             0.5555555555555556,
             "#d8576b"
            ],
            [
             0.6666666666666666,
             "#ed7953"
            ],
            [
             0.7777777777777778,
             "#fb9f3a"
            ],
            [
             0.8888888888888888,
             "#fdca26"
            ],
            [
             1,
             "#f0f921"
            ]
           ]
          },
          "colorway": [
           "#636efa",
           "#EF553B",
           "#00cc96",
           "#ab63fa",
           "#FFA15A",
           "#19d3f3",
           "#FF6692",
           "#B6E880",
           "#FF97FF",
           "#FECB52"
          ],
          "font": {
           "color": "#2a3f5f"
          },
          "geo": {
           "bgcolor": "white",
           "lakecolor": "white",
           "landcolor": "#E5ECF6",
           "showlakes": true,
           "showland": true,
           "subunitcolor": "white"
          },
          "hoverlabel": {
           "align": "left"
          },
          "hovermode": "closest",
          "mapbox": {
           "style": "light"
          },
          "paper_bgcolor": "white",
          "plot_bgcolor": "#E5ECF6",
          "polar": {
           "angularaxis": {
            "gridcolor": "white",
            "linecolor": "white",
            "ticks": ""
           },
           "bgcolor": "#E5ECF6",
           "radialaxis": {
            "gridcolor": "white",
            "linecolor": "white",
            "ticks": ""
           }
          },
          "scene": {
           "xaxis": {
            "backgroundcolor": "#E5ECF6",
            "gridcolor": "white",
            "gridwidth": 2,
            "linecolor": "white",
            "showbackground": true,
            "ticks": "",
            "zerolinecolor": "white"
           },
           "yaxis": {
            "backgroundcolor": "#E5ECF6",
            "gridcolor": "white",
            "gridwidth": 2,
            "linecolor": "white",
            "showbackground": true,
            "ticks": "",
            "zerolinecolor": "white"
           },
           "zaxis": {
            "backgroundcolor": "#E5ECF6",
            "gridcolor": "white",
            "gridwidth": 2,
            "linecolor": "white",
            "showbackground": true,
            "ticks": "",
            "zerolinecolor": "white"
           }
          },
          "shapedefaults": {
           "line": {
            "color": "#2a3f5f"
           }
          },
          "ternary": {
           "aaxis": {
            "gridcolor": "white",
            "linecolor": "white",
            "ticks": ""
           },
           "baxis": {
            "gridcolor": "white",
            "linecolor": "white",
            "ticks": ""
           },
           "bgcolor": "#E5ECF6",
           "caxis": {
            "gridcolor": "white",
            "linecolor": "white",
            "ticks": ""
           }
          },
          "title": {
           "x": 0.05
          },
          "xaxis": {
           "automargin": true,
           "gridcolor": "white",
           "linecolor": "white",
           "ticks": "",
           "title": {
            "standoff": 15
           },
           "zerolinecolor": "white",
           "zerolinewidth": 2
          },
          "yaxis": {
           "automargin": true,
           "gridcolor": "white",
           "linecolor": "white",
           "ticks": "",
           "title": {
            "standoff": 15
           },
           "zerolinecolor": "white",
           "zerolinewidth": 2
          }
         }
        }
       }
      }
     },
     "metadata": {},
     "output_type": "display_data"
    }
   ],
   "source": [
    "pinta_mapa(df1)"
   ]
  },
  {
   "cell_type": "markdown",
   "metadata": {},
   "source": [
    "## Zonas COVID\n",
    "Imagina que trabajas en el ayuntamiento de tu barrio/pueblo/ciudad, y por motivos del COVID tienes que identificar:\n",
    "1. Todas las zonas abiertas de uso común (zonas de barbacoas, fuentes de agua y parques infantiles (kindergarten)), para cerrarlas.\n",
    "2. Todos los hospitales y clínicas de la zona.\n",
    "\n",
    "Como no sabes muy bien qué puntos serán, utilizas la API de OpenStreetMap. Representa todo en un único mapa"
   ]
  },
  {
   "cell_type": "code",
   "execution_count": 19,
   "metadata": {},
   "outputs": [
    {
     "name": "stdout",
     "output_type": "stream",
     "text": [
      "<Response [200]>\n"
     ]
    },
    {
     "data": {
      "text/html": [
       "<div>\n",
       "<style scoped>\n",
       "    .dataframe tbody tr th:only-of-type {\n",
       "        vertical-align: middle;\n",
       "    }\n",
       "\n",
       "    .dataframe tbody tr th {\n",
       "        vertical-align: top;\n",
       "    }\n",
       "\n",
       "    .dataframe thead th {\n",
       "        text-align: right;\n",
       "    }\n",
       "</style>\n",
       "<table border=\"1\" class=\"dataframe\">\n",
       "  <thead>\n",
       "    <tr style=\"text-align: right;\">\n",
       "      <th></th>\n",
       "      <th>tipo</th>\n",
       "      <th>lat</th>\n",
       "      <th>lon</th>\n",
       "      <th>name</th>\n",
       "      <th>address</th>\n",
       "    </tr>\n",
       "  </thead>\n",
       "  <tbody>\n",
       "    <tr>\n",
       "      <th>0</th>\n",
       "      <td>drinking_water</td>\n",
       "      <td>37.387834</td>\n",
       "      <td>-6.001198</td>\n",
       "      <td>Fuente para beber agua potable</td>\n",
       "      <td>NO STREET 9999</td>\n",
       "    </tr>\n",
       "    <tr>\n",
       "      <th>1</th>\n",
       "      <td>drinking_water</td>\n",
       "      <td>37.393873</td>\n",
       "      <td>-5.983184</td>\n",
       "      <td>NO NAME</td>\n",
       "      <td>NO STREET 9999</td>\n",
       "    </tr>\n",
       "    <tr>\n",
       "      <th>2</th>\n",
       "      <td>drinking_water</td>\n",
       "      <td>37.393116</td>\n",
       "      <td>-5.986985</td>\n",
       "      <td>NO NAME</td>\n",
       "      <td>NO STREET 9999</td>\n",
       "    </tr>\n",
       "    <tr>\n",
       "      <th>3</th>\n",
       "      <td>drinking_water</td>\n",
       "      <td>37.392572</td>\n",
       "      <td>-5.989869</td>\n",
       "      <td>NO NAME</td>\n",
       "      <td>NO STREET 9999</td>\n",
       "    </tr>\n",
       "    <tr>\n",
       "      <th>4</th>\n",
       "      <td>drinking_water</td>\n",
       "      <td>37.398458</td>\n",
       "      <td>-5.981853</td>\n",
       "      <td>NO NAME</td>\n",
       "      <td>NO STREET 9999</td>\n",
       "    </tr>\n",
       "    <tr>\n",
       "      <th>...</th>\n",
       "      <td>...</td>\n",
       "      <td>...</td>\n",
       "      <td>...</td>\n",
       "      <td>...</td>\n",
       "      <td>...</td>\n",
       "    </tr>\n",
       "    <tr>\n",
       "      <th>280</th>\n",
       "      <td>clinic</td>\n",
       "      <td>37.374022</td>\n",
       "      <td>-5.994595</td>\n",
       "      <td>Área Salud Ocular - Consultas</td>\n",
       "      <td>NO STREET 9999</td>\n",
       "    </tr>\n",
       "    <tr>\n",
       "      <th>281</th>\n",
       "      <td>clinic</td>\n",
       "      <td>37.376331</td>\n",
       "      <td>-6.001857</td>\n",
       "      <td>Alfamedica Centro de Rehabilitación</td>\n",
       "      <td>Calle Pedro Pérez Fernández 7</td>\n",
       "    </tr>\n",
       "    <tr>\n",
       "      <th>282</th>\n",
       "      <td>clinic</td>\n",
       "      <td>37.388650</td>\n",
       "      <td>-6.011749</td>\n",
       "      <td>NO NAME</td>\n",
       "      <td>Calle Rafael Belmonte García 9999</td>\n",
       "    </tr>\n",
       "    <tr>\n",
       "      <th>283</th>\n",
       "      <td>drinking_water</td>\n",
       "      <td>37.385240</td>\n",
       "      <td>-5.998645</td>\n",
       "      <td>NO NAME</td>\n",
       "      <td>NO STREET 9999</td>\n",
       "    </tr>\n",
       "    <tr>\n",
       "      <th>284</th>\n",
       "      <td>drinking_water</td>\n",
       "      <td>37.347229</td>\n",
       "      <td>-5.980046</td>\n",
       "      <td>NO NAME</td>\n",
       "      <td>NO STREET 9999</td>\n",
       "    </tr>\n",
       "  </tbody>\n",
       "</table>\n",
       "<p>285 rows × 5 columns</p>\n",
       "</div>"
      ],
      "text/plain": [
       "               tipo        lat       lon                                 name  \\\n",
       "0    drinking_water  37.387834 -6.001198       Fuente para beber agua potable   \n",
       "1    drinking_water  37.393873 -5.983184                              NO NAME   \n",
       "2    drinking_water  37.393116 -5.986985                              NO NAME   \n",
       "3    drinking_water  37.392572 -5.989869                              NO NAME   \n",
       "4    drinking_water  37.398458 -5.981853                              NO NAME   \n",
       "..              ...        ...       ...                                  ...   \n",
       "280          clinic  37.374022 -5.994595        Área Salud Ocular - Consultas   \n",
       "281          clinic  37.376331 -6.001857  Alfamedica Centro de Rehabilitación   \n",
       "282          clinic  37.388650 -6.011749                              NO NAME   \n",
       "283  drinking_water  37.385240 -5.998645                              NO NAME   \n",
       "284  drinking_water  37.347229 -5.980046                              NO NAME   \n",
       "\n",
       "                               address  \n",
       "0                       NO STREET 9999  \n",
       "1                       NO STREET 9999  \n",
       "2                       NO STREET 9999  \n",
       "3                       NO STREET 9999  \n",
       "4                       NO STREET 9999  \n",
       "..                                 ...  \n",
       "280                     NO STREET 9999  \n",
       "281      Calle Pedro Pérez Fernández 7  \n",
       "282  Calle Rafael Belmonte García 9999  \n",
       "283                     NO STREET 9999  \n",
       "284                     NO STREET 9999  \n",
       "\n",
       "[285 rows x 5 columns]"
      ]
     },
     "execution_count": 19,
     "metadata": {},
     "output_type": "execute_result"
    }
   ],
   "source": [
    "overpass_url = \"http://overpass-api.de/api/interpreter\"\n",
    "overpass_query = \"\"\"\n",
    "[out:json];\n",
    "node[\"amenity\"~\"clinic|hospital|kindergarten|drinking_water|bbq\"] \n",
    " (37.3434, -6.0171, 37.4411, -5.9388);\n",
    "out;\n",
    "\"\"\"\n",
    "response = requests.get(overpass_url,\n",
    "                        params={'data': overpass_query})\n",
    "print(response)\n",
    "data4 = response.json()\n",
    "df4 = json_to_df(data4)\n",
    "df4\n"
   ]
  },
  {
   "cell_type": "code",
   "execution_count": null,
   "metadata": {},
   "outputs": [],
   "source": []
  },
  {
   "cell_type": "code",
   "execution_count": 21,
   "metadata": {},
   "outputs": [],
   "source": [
    "mapbox_access_token = \"pk.eyJ1IjoiZGFvcnRpIiwiYSI6ImNrZnF6M3FlczA3cDEyem16YTNzZmV4M2EifQ.846iF0sMSAXv0kwkwUTYjg\"\n",
    "\n",
    "def pinta_mapa(df):\n",
    "    fig = px.scatter_mapbox(df,\n",
    "                            lat=\"lat\",\n",
    "                            lon=\"lon\",\n",
    "                            color = \"tipo\",\n",
    "                      color_continuous_scale=px.colors.cyclical.IceFire, size_max=15, zoom=11)\n",
    "    fig.update_layout(\n",
    "        mapbox=dict(\n",
    "            accesstoken=mapbox_access_token\n",
    "        )\n",
    "    )\n",
    "\n",
    "    fig.show()\n"
   ]
  },
  {
   "cell_type": "code",
   "execution_count": 22,
   "metadata": {},
   "outputs": [
    {
     "data": {
      "application/vnd.plotly.v1+json": {
       "config": {
        "plotlyServerURL": "https://plot.ly"
       },
       "data": [
        {
         "hovertemplate": "tipo=drinking_water<br>lat=%{lat}<br>lon=%{lon}<extra></extra>",
         "lat": [
          37.3878336,
          37.3938735,
          37.3931158,
          37.3925718,
          37.3984576,
          37.4031831,
          37.4256568,
          37.4212779,
          37.4156519,
          37.3989909,
          37.3999665,
          37.4022227,
          37.380187,
          37.3827902,
          37.3882815,
          37.3955377,
          37.4118105,
          37.4142788,
          37.4119276,
          37.4142404,
          37.4069465,
          37.4119518,
          37.3883996,
          37.388882,
          37.4015517,
          37.3866247,
          37.4155346,
          37.3978697,
          37.3772498,
          37.3822915,
          37.3838188,
          37.3717371,
          37.3935338,
          37.3715256,
          37.3984843,
          37.392567,
          37.3815053,
          37.4196374,
          37.418862,
          37.4076749,
          37.379314,
          37.3849642,
          37.3907572,
          37.4272506,
          37.4208901,
          37.3654579,
          37.371306,
          37.3999396,
          37.3769269,
          37.4260342,
          37.40989,
          37.3711714,
          37.3826593,
          37.4017375,
          37.3775668,
          37.3543743,
          37.3794504,
          37.3854389,
          37.3776086,
          37.3814542,
          37.3540246,
          37.4037058,
          37.3826449,
          37.346411,
          37.3737444,
          37.3751257,
          37.3774431,
          37.3817902,
          37.3942303,
          37.3753105,
          37.3763948,
          37.4140951,
          37.4118177,
          37.4119831,
          37.401486,
          37.3971266,
          37.3743446,
          37.3459811,
          37.3460495,
          37.3451624,
          37.3469862,
          37.3465881,
          37.3444422,
          37.3979664,
          37.3977478,
          37.403826,
          37.4353234,
          37.4164665,
          37.4013391,
          37.4037198,
          37.3773596,
          37.3749035,
          37.3802156,
          37.3734815,
          37.4289501,
          37.3846484,
          37.3914863,
          37.3909323,
          37.3901498,
          37.3926399,
          37.3926783,
          37.411774,
          37.3952273,
          37.3927517,
          37.3852083,
          37.4179762,
          37.4174603,
          37.3740197,
          37.399131,
          37.4228805,
          37.4084211,
          37.4096399,
          37.4267863,
          37.3764289,
          37.4189717,
          37.3738487,
          37.3777386,
          37.4026046,
          37.3904978,
          37.3912455,
          37.3811344,
          37.3788231,
          37.3735574,
          37.3830945,
          37.3807927,
          37.390255,
          37.383698,
          37.377711,
          37.377355,
          37.392469,
          37.3897789,
          37.35297,
          37.413711,
          37.41284,
          37.370411,
          37.391138,
          37.398006,
          37.3902337,
          37.403242,
          37.3808219,
          37.3695369,
          37.4286141,
          37.3746799,
          37.3748848,
          37.378429,
          37.3724772,
          37.3686312,
          37.368481,
          37.366912,
          37.3845616,
          37.3910715,
          37.4126303,
          37.4209577,
          37.4200299,
          37.4159757,
          37.4174372,
          37.41687,
          37.4210378,
          37.4155605,
          37.4180526,
          37.419606,
          37.4181617,
          37.4176675,
          37.4007354,
          37.384835,
          37.3911955,
          37.3712435,
          37.3735742,
          37.3763237,
          37.3772113,
          37.3852397,
          37.3472292
         ],
         "legendgroup": "drinking_water",
         "lon": [
          -6.0011976,
          -5.9831842,
          -5.9869849,
          -5.9898689,
          -5.9818533,
          -5.9769722,
          -5.9688446,
          -5.9598538,
          -5.9685071,
          -5.9936593,
          -5.9932273,
          -5.9742359,
          -5.986637,
          -5.9473681,
          -5.9726343,
          -5.9832516,
          -5.9647315,
          -5.9624546,
          -5.9619469,
          -5.9615421,
          -5.9646002,
          -5.9631291,
          -5.9960526,
          -5.9950847,
          -5.9973025,
          -5.9799855,
          -5.9944389,
          -6.0019707,
          -5.9975788,
          -5.9933164,
          -5.9926258,
          -5.9819577,
          -5.9766047,
          -6.0022952,
          -5.9564546,
          -6.0053223,
          -5.9497264,
          -5.9952843,
          -5.9951127,
          -5.973913,
          -5.9494294,
          -5.9872129,
          -6.0013305,
          -5.9926953,
          -5.9961801,
          -5.9723972,
          -5.9882425,
          -5.9758421,
          -5.9927602,
          -5.9906574,
          -6.00562,
          -5.9881601,
          -5.9895382,
          -5.9656087,
          -5.961142,
          -5.9849145,
          -6.0042735,
          -5.9867089,
          -5.9885126,
          -5.9392075,
          -5.9772552,
          -5.9929368,
          -5.9461693,
          -5.9795773,
          -6.0043784,
          -5.9900391,
          -5.9892142,
          -5.9892537,
          -5.996392,
          -5.9888985,
          -5.9877382,
          -5.9646338,
          -6.0021161,
          -6.0022888,
          -5.9704154,
          -5.9969074,
          -6.0080379,
          -5.9876271,
          -5.9860946,
          -5.9840836,
          -5.9860742,
          -5.9851043,
          -5.9791358,
          -5.974274,
          -5.9739828,
          -5.9890833,
          -5.9715469,
          -5.997763,
          -5.9529407,
          -5.9564621,
          -5.9883287,
          -5.9869976,
          -5.9874856,
          -6.0050471,
          -5.9675234,
          -5.9925066,
          -5.9753207,
          -6.0031645,
          -5.9923279,
          -5.9953272,
          -5.9921733,
          -5.9637577,
          -5.9909945,
          -5.9922257,
          -5.9986615,
          -5.961268,
          -5.9576694,
          -6.0052324,
          -5.9852744,
          -5.9655391,
          -5.964624,
          -5.9640592,
          -5.9914731,
          -5.989136,
          -5.9966033,
          -5.987403,
          -5.9820273,
          -5.9454628,
          -5.9825407,
          -5.978492,
          -5.9662563,
          -5.9662908,
          -5.987761,
          -5.9729512,
          -5.9736204,
          -5.990592,
          -5.993744,
          -5.993327,
          -5.992789,
          -5.9995385,
          -5.9711436,
          -5.9802861,
          -5.963387,
          -5.965311,
          -5.9890472,
          -5.988365,
          -5.993743,
          -5.9923035,
          -5.9882628,
          -6.0089391,
          -5.9799103,
          -5.9680883,
          -6.0022027,
          -6.0009778,
          -5.9976315,
          -5.9723776,
          -5.9533936,
          -5.9489232,
          -5.9468931,
          -6.0039658,
          -6.002787,
          -5.9975523,
          -5.9991666,
          -5.9962882,
          -5.9927778,
          -5.9928626,
          -5.9931105,
          -5.9991097,
          -5.9981748,
          -6.0007078,
          -6.0006741,
          -5.9986165,
          -5.9953768,
          -5.9884211,
          -5.9905142,
          -5.9972684,
          -5.9900421,
          -6.0068497,
          -5.9747765,
          -5.9714894,
          -5.9986446,
          -5.980046
         ],
         "marker": {
          "color": "#636efa"
         },
         "mode": "markers",
         "name": "drinking_water",
         "showlegend": true,
         "subplot": "mapbox",
         "type": "scattermapbox"
        },
        {
         "hovertemplate": "tipo=kindergarten<br>lat=%{lat}<br>lon=%{lon}<extra></extra>",
         "lat": [
          37.3729617,
          37.3841053,
          37.4214174,
          37.4205597,
          37.3893265,
          37.3814084,
          37.3791741,
          37.3848707,
          37.3814196,
          37.3759724,
          37.4111161,
          37.3482621,
          37.3656592,
          37.378081,
          37.4059767,
          37.4057929,
          37.4055037,
          37.4048439,
          37.4075682
         ],
         "legendgroup": "kindergarten",
         "lon": [
          -5.9713988,
          -5.9880979,
          -5.9859226,
          -5.9859164,
          -6.0020317,
          -6.0012779,
          -6.0011689,
          -6.0068027,
          -6.0069619,
          -5.9988197,
          -5.9764424,
          -5.9749156,
          -5.9826839,
          -5.9412116,
          -5.9759253,
          -5.9761895,
          -5.9756338,
          -5.9728124,
          -5.9716652
         ],
         "marker": {
          "color": "#EF553B"
         },
         "mode": "markers",
         "name": "kindergarten",
         "showlegend": true,
         "subplot": "mapbox",
         "type": "scattermapbox"
        },
        {
         "hovertemplate": "tipo=hospital<br>lat=%{lat}<br>lon=%{lon}<extra></extra>",
         "lat": [
          37.3618571
         ],
         "legendgroup": "hospital",
         "lon": [
          -5.9810517
         ],
         "marker": {
          "color": "#00cc96"
         },
         "mode": "markers",
         "name": "hospital",
         "showlegend": true,
         "subplot": "mapbox",
         "type": "scattermapbox"
        },
        {
         "hovertemplate": "tipo=clinic<br>lat=%{lat}<br>lon=%{lon}<extra></extra>",
         "lat": [
          37.4311183,
          37.3733276,
          37.3745769,
          37.3785795,
          37.3580432,
          37.3777452,
          37.3769468,
          37.3889388,
          37.345521,
          37.3456845,
          37.346117,
          37.3903848,
          37.3905462,
          37.3916616,
          37.3775922,
          37.3809054,
          37.3808122,
          37.377955,
          37.3764879,
          37.368113,
          37.3790133,
          37.3788208,
          37.3776909,
          37.381564,
          37.3920409,
          37.3897881,
          37.3923788,
          37.3922755,
          37.3836905,
          37.3777705,
          37.3742708,
          37.3745926,
          37.3748662,
          37.3774827,
          37.3773779,
          37.3763892,
          37.3767328,
          37.3764507,
          37.3769601,
          37.3786281,
          37.3796107,
          37.379325,
          37.3790832,
          37.3770325,
          37.3765324,
          37.37587,
          37.3751321,
          37.3771141,
          37.3790511,
          37.3790874,
          37.3876837,
          37.3820951,
          37.3793602,
          37.3760122,
          37.3758444,
          37.38127,
          37.38153,
          37.3830998,
          37.3818887,
          37.3849207,
          37.3809817,
          37.379953,
          37.3722168,
          37.3648263,
          37.404837,
          37.3812302,
          37.3811148,
          37.3725118,
          37.3725904,
          37.3800696,
          37.3799836,
          37.379867,
          37.3837157,
          37.3841167,
          37.3716458,
          37.3719857,
          37.3721014,
          37.3720998,
          37.3721093,
          37.3723027,
          37.3719915,
          37.3717669,
          37.3717651,
          37.3717751,
          37.3722736,
          37.3722332,
          37.372184,
          37.3727049,
          37.3729715,
          37.3740224,
          37.376331,
          37.3886497
         ],
         "legendgroup": "clinic",
         "lon": [
          -5.980639,
          -5.994612,
          -5.9951317,
          -6.0086946,
          -5.9857801,
          -6.0118659,
          -6.0126869,
          -6.0032935,
          -5.9828788,
          -5.9815186,
          -5.9786158,
          -6.0020616,
          -6.0015368,
          -6.0010955,
          -5.9737628,
          -6.008178,
          -6.0081015,
          -5.997003,
          -5.9983837,
          -5.9876121,
          -6.0063713,
          -6.0062003,
          -6.0063198,
          -5.9995932,
          -5.9798228,
          -5.9814087,
          -5.9826008,
          -5.9823077,
          -6.0105014,
          -6.002689,
          -5.9947573,
          -5.9957492,
          -5.996235,
          -6.0031118,
          -6.0033108,
          -6.0054728,
          -6.0045951,
          -6.0052055,
          -6.0041235,
          -6.0008667,
          -5.9972848,
          -5.9987034,
          -5.9991804,
          -6.0031311,
          -6.0041108,
          -6.0051463,
          -5.9980921,
          -5.9981706,
          -5.998505,
          -6.0010722,
          -5.98073,
          -6.0083028,
          -6.0072588,
          -5.9960819,
          -5.9961025,
          -6.0012404,
          -6.0011153,
          -6.0035603,
          -6.0060115,
          -6.0060079,
          -6.0001259,
          -6.0002521,
          -6.0023611,
          -5.9817809,
          -5.9744367,
          -6.0072814,
          -6.0074601,
          -5.9949411,
          -5.997594,
          -6.0076262,
          -6.0075357,
          -6.0074379,
          -6.0099483,
          -6.009679,
          -6.0020487,
          -5.9978787,
          -5.9979926,
          -5.9983024,
          -5.9985847,
          -5.9982521,
          -5.998607,
          -5.9972082,
          -5.9965111,
          -5.9963492,
          -5.9956162,
          -5.9952148,
          -5.9956874,
          -5.9948067,
          -5.9946807,
          -5.9945946,
          -6.0018575,
          -6.0117494
         ],
         "marker": {
          "color": "#ab63fa"
         },
         "mode": "markers",
         "name": "clinic",
         "showlegend": true,
         "subplot": "mapbox",
         "type": "scattermapbox"
        },
        {
         "hovertemplate": "tipo=bbq<br>lat=%{lat}<br>lon=%{lon}<extra></extra>",
         "lat": [
          37.3510681
         ],
         "legendgroup": "bbq",
         "lon": [
          -5.9730461
         ],
         "marker": {
          "color": "#FFA15A"
         },
         "mode": "markers",
         "name": "bbq",
         "showlegend": true,
         "subplot": "mapbox",
         "type": "scattermapbox"
        }
       ],
       "layout": {
        "legend": {
         "title": {
          "text": "tipo"
         },
         "tracegroupgap": 0
        },
        "mapbox": {
         "accesstoken": "pk.eyJ1IjoiZGFvcnRpIiwiYSI6ImNrZnF6M3FlczA3cDEyem16YTNzZmV4M2EifQ.846iF0sMSAXv0kwkwUTYjg",
         "center": {
          "lat": 37.38693047122807,
          "lon": -5.988517109824561
         },
         "domain": {
          "x": [
           0,
           1
          ],
          "y": [
           0,
           1
          ]
         },
         "zoom": 11
        },
        "margin": {
         "t": 60
        },
        "template": {
         "data": {
          "bar": [
           {
            "error_x": {
             "color": "#2a3f5f"
            },
            "error_y": {
             "color": "#2a3f5f"
            },
            "marker": {
             "line": {
              "color": "#E5ECF6",
              "width": 0.5
             },
             "pattern": {
              "fillmode": "overlay",
              "size": 10,
              "solidity": 0.2
             }
            },
            "type": "bar"
           }
          ],
          "barpolar": [
           {
            "marker": {
             "line": {
              "color": "#E5ECF6",
              "width": 0.5
             },
             "pattern": {
              "fillmode": "overlay",
              "size": 10,
              "solidity": 0.2
             }
            },
            "type": "barpolar"
           }
          ],
          "carpet": [
           {
            "aaxis": {
             "endlinecolor": "#2a3f5f",
             "gridcolor": "white",
             "linecolor": "white",
             "minorgridcolor": "white",
             "startlinecolor": "#2a3f5f"
            },
            "baxis": {
             "endlinecolor": "#2a3f5f",
             "gridcolor": "white",
             "linecolor": "white",
             "minorgridcolor": "white",
             "startlinecolor": "#2a3f5f"
            },
            "type": "carpet"
           }
          ],
          "choropleth": [
           {
            "colorbar": {
             "outlinewidth": 0,
             "ticks": ""
            },
            "type": "choropleth"
           }
          ],
          "contour": [
           {
            "colorbar": {
             "outlinewidth": 0,
             "ticks": ""
            },
            "colorscale": [
             [
              0,
              "#0d0887"
             ],
             [
              0.1111111111111111,
              "#46039f"
             ],
             [
              0.2222222222222222,
              "#7201a8"
             ],
             [
              0.3333333333333333,
              "#9c179e"
             ],
             [
              0.4444444444444444,
              "#bd3786"
             ],
             [
              0.5555555555555556,
              "#d8576b"
             ],
             [
              0.6666666666666666,
              "#ed7953"
             ],
             [
              0.7777777777777778,
              "#fb9f3a"
             ],
             [
              0.8888888888888888,
              "#fdca26"
             ],
             [
              1,
              "#f0f921"
             ]
            ],
            "type": "contour"
           }
          ],
          "contourcarpet": [
           {
            "colorbar": {
             "outlinewidth": 0,
             "ticks": ""
            },
            "type": "contourcarpet"
           }
          ],
          "heatmap": [
           {
            "colorbar": {
             "outlinewidth": 0,
             "ticks": ""
            },
            "colorscale": [
             [
              0,
              "#0d0887"
             ],
             [
              0.1111111111111111,
              "#46039f"
             ],
             [
              0.2222222222222222,
              "#7201a8"
             ],
             [
              0.3333333333333333,
              "#9c179e"
             ],
             [
              0.4444444444444444,
              "#bd3786"
             ],
             [
              0.5555555555555556,
              "#d8576b"
             ],
             [
              0.6666666666666666,
              "#ed7953"
             ],
             [
              0.7777777777777778,
              "#fb9f3a"
             ],
             [
              0.8888888888888888,
              "#fdca26"
             ],
             [
              1,
              "#f0f921"
             ]
            ],
            "type": "heatmap"
           }
          ],
          "heatmapgl": [
           {
            "colorbar": {
             "outlinewidth": 0,
             "ticks": ""
            },
            "colorscale": [
             [
              0,
              "#0d0887"
             ],
             [
              0.1111111111111111,
              "#46039f"
             ],
             [
              0.2222222222222222,
              "#7201a8"
             ],
             [
              0.3333333333333333,
              "#9c179e"
             ],
             [
              0.4444444444444444,
              "#bd3786"
             ],
             [
              0.5555555555555556,
              "#d8576b"
             ],
             [
              0.6666666666666666,
              "#ed7953"
             ],
             [
              0.7777777777777778,
              "#fb9f3a"
             ],
             [
              0.8888888888888888,
              "#fdca26"
             ],
             [
              1,
              "#f0f921"
             ]
            ],
            "type": "heatmapgl"
           }
          ],
          "histogram": [
           {
            "marker": {
             "pattern": {
              "fillmode": "overlay",
              "size": 10,
              "solidity": 0.2
             }
            },
            "type": "histogram"
           }
          ],
          "histogram2d": [
           {
            "colorbar": {
             "outlinewidth": 0,
             "ticks": ""
            },
            "colorscale": [
             [
              0,
              "#0d0887"
             ],
             [
              0.1111111111111111,
              "#46039f"
             ],
             [
              0.2222222222222222,
              "#7201a8"
             ],
             [
              0.3333333333333333,
              "#9c179e"
             ],
             [
              0.4444444444444444,
              "#bd3786"
             ],
             [
              0.5555555555555556,
              "#d8576b"
             ],
             [
              0.6666666666666666,
              "#ed7953"
             ],
             [
              0.7777777777777778,
              "#fb9f3a"
             ],
             [
              0.8888888888888888,
              "#fdca26"
             ],
             [
              1,
              "#f0f921"
             ]
            ],
            "type": "histogram2d"
           }
          ],
          "histogram2dcontour": [
           {
            "colorbar": {
             "outlinewidth": 0,
             "ticks": ""
            },
            "colorscale": [
             [
              0,
              "#0d0887"
             ],
             [
              0.1111111111111111,
              "#46039f"
             ],
             [
              0.2222222222222222,
              "#7201a8"
             ],
             [
              0.3333333333333333,
              "#9c179e"
             ],
             [
              0.4444444444444444,
              "#bd3786"
             ],
             [
              0.5555555555555556,
              "#d8576b"
             ],
             [
              0.6666666666666666,
              "#ed7953"
             ],
             [
              0.7777777777777778,
              "#fb9f3a"
             ],
             [
              0.8888888888888888,
              "#fdca26"
             ],
             [
              1,
              "#f0f921"
             ]
            ],
            "type": "histogram2dcontour"
           }
          ],
          "mesh3d": [
           {
            "colorbar": {
             "outlinewidth": 0,
             "ticks": ""
            },
            "type": "mesh3d"
           }
          ],
          "parcoords": [
           {
            "line": {
             "colorbar": {
              "outlinewidth": 0,
              "ticks": ""
             }
            },
            "type": "parcoords"
           }
          ],
          "pie": [
           {
            "automargin": true,
            "type": "pie"
           }
          ],
          "scatter": [
           {
            "fillpattern": {
             "fillmode": "overlay",
             "size": 10,
             "solidity": 0.2
            },
            "type": "scatter"
           }
          ],
          "scatter3d": [
           {
            "line": {
             "colorbar": {
              "outlinewidth": 0,
              "ticks": ""
             }
            },
            "marker": {
             "colorbar": {
              "outlinewidth": 0,
              "ticks": ""
             }
            },
            "type": "scatter3d"
           }
          ],
          "scattercarpet": [
           {
            "marker": {
             "colorbar": {
              "outlinewidth": 0,
              "ticks": ""
             }
            },
            "type": "scattercarpet"
           }
          ],
          "scattergeo": [
           {
            "marker": {
             "colorbar": {
              "outlinewidth": 0,
              "ticks": ""
             }
            },
            "type": "scattergeo"
           }
          ],
          "scattergl": [
           {
            "marker": {
             "colorbar": {
              "outlinewidth": 0,
              "ticks": ""
             }
            },
            "type": "scattergl"
           }
          ],
          "scattermapbox": [
           {
            "marker": {
             "colorbar": {
              "outlinewidth": 0,
              "ticks": ""
             }
            },
            "type": "scattermapbox"
           }
          ],
          "scatterpolar": [
           {
            "marker": {
             "colorbar": {
              "outlinewidth": 0,
              "ticks": ""
             }
            },
            "type": "scatterpolar"
           }
          ],
          "scatterpolargl": [
           {
            "marker": {
             "colorbar": {
              "outlinewidth": 0,
              "ticks": ""
             }
            },
            "type": "scatterpolargl"
           }
          ],
          "scatterternary": [
           {
            "marker": {
             "colorbar": {
              "outlinewidth": 0,
              "ticks": ""
             }
            },
            "type": "scatterternary"
           }
          ],
          "surface": [
           {
            "colorbar": {
             "outlinewidth": 0,
             "ticks": ""
            },
            "colorscale": [
             [
              0,
              "#0d0887"
             ],
             [
              0.1111111111111111,
              "#46039f"
             ],
             [
              0.2222222222222222,
              "#7201a8"
             ],
             [
              0.3333333333333333,
              "#9c179e"
             ],
             [
              0.4444444444444444,
              "#bd3786"
             ],
             [
              0.5555555555555556,
              "#d8576b"
             ],
             [
              0.6666666666666666,
              "#ed7953"
             ],
             [
              0.7777777777777778,
              "#fb9f3a"
             ],
             [
              0.8888888888888888,
              "#fdca26"
             ],
             [
              1,
              "#f0f921"
             ]
            ],
            "type": "surface"
           }
          ],
          "table": [
           {
            "cells": {
             "fill": {
              "color": "#EBF0F8"
             },
             "line": {
              "color": "white"
             }
            },
            "header": {
             "fill": {
              "color": "#C8D4E3"
             },
             "line": {
              "color": "white"
             }
            },
            "type": "table"
           }
          ]
         },
         "layout": {
          "annotationdefaults": {
           "arrowcolor": "#2a3f5f",
           "arrowhead": 0,
           "arrowwidth": 1
          },
          "autotypenumbers": "strict",
          "coloraxis": {
           "colorbar": {
            "outlinewidth": 0,
            "ticks": ""
           }
          },
          "colorscale": {
           "diverging": [
            [
             0,
             "#8e0152"
            ],
            [
             0.1,
             "#c51b7d"
            ],
            [
             0.2,
             "#de77ae"
            ],
            [
             0.3,
             "#f1b6da"
            ],
            [
             0.4,
             "#fde0ef"
            ],
            [
             0.5,
             "#f7f7f7"
            ],
            [
             0.6,
             "#e6f5d0"
            ],
            [
             0.7,
             "#b8e186"
            ],
            [
             0.8,
             "#7fbc41"
            ],
            [
             0.9,
             "#4d9221"
            ],
            [
             1,
             "#276419"
            ]
           ],
           "sequential": [
            [
             0,
             "#0d0887"
            ],
            [
             0.1111111111111111,
             "#46039f"
            ],
            [
             0.2222222222222222,
             "#7201a8"
            ],
            [
             0.3333333333333333,
             "#9c179e"
            ],
            [
             0.4444444444444444,
             "#bd3786"
            ],
            [
             0.5555555555555556,
             "#d8576b"
            ],
            [
             0.6666666666666666,
             "#ed7953"
            ],
            [
             0.7777777777777778,
             "#fb9f3a"
            ],
            [
             0.8888888888888888,
             "#fdca26"
            ],
            [
             1,
             "#f0f921"
            ]
           ],
           "sequentialminus": [
            [
             0,
             "#0d0887"
            ],
            [
             0.1111111111111111,
             "#46039f"
            ],
            [
             0.2222222222222222,
             "#7201a8"
            ],
            [
             0.3333333333333333,
             "#9c179e"
            ],
            [
             0.4444444444444444,
             "#bd3786"
            ],
            [
             0.5555555555555556,
             "#d8576b"
            ],
            [
             0.6666666666666666,
             "#ed7953"
            ],
            [
             0.7777777777777778,
             "#fb9f3a"
            ],
            [
             0.8888888888888888,
             "#fdca26"
            ],
            [
             1,
             "#f0f921"
            ]
           ]
          },
          "colorway": [
           "#636efa",
           "#EF553B",
           "#00cc96",
           "#ab63fa",
           "#FFA15A",
           "#19d3f3",
           "#FF6692",
           "#B6E880",
           "#FF97FF",
           "#FECB52"
          ],
          "font": {
           "color": "#2a3f5f"
          },
          "geo": {
           "bgcolor": "white",
           "lakecolor": "white",
           "landcolor": "#E5ECF6",
           "showlakes": true,
           "showland": true,
           "subunitcolor": "white"
          },
          "hoverlabel": {
           "align": "left"
          },
          "hovermode": "closest",
          "mapbox": {
           "style": "light"
          },
          "paper_bgcolor": "white",
          "plot_bgcolor": "#E5ECF6",
          "polar": {
           "angularaxis": {
            "gridcolor": "white",
            "linecolor": "white",
            "ticks": ""
           },
           "bgcolor": "#E5ECF6",
           "radialaxis": {
            "gridcolor": "white",
            "linecolor": "white",
            "ticks": ""
           }
          },
          "scene": {
           "xaxis": {
            "backgroundcolor": "#E5ECF6",
            "gridcolor": "white",
            "gridwidth": 2,
            "linecolor": "white",
            "showbackground": true,
            "ticks": "",
            "zerolinecolor": "white"
           },
           "yaxis": {
            "backgroundcolor": "#E5ECF6",
            "gridcolor": "white",
            "gridwidth": 2,
            "linecolor": "white",
            "showbackground": true,
            "ticks": "",
            "zerolinecolor": "white"
           },
           "zaxis": {
            "backgroundcolor": "#E5ECF6",
            "gridcolor": "white",
            "gridwidth": 2,
            "linecolor": "white",
            "showbackground": true,
            "ticks": "",
            "zerolinecolor": "white"
           }
          },
          "shapedefaults": {
           "line": {
            "color": "#2a3f5f"
           }
          },
          "ternary": {
           "aaxis": {
            "gridcolor": "white",
            "linecolor": "white",
            "ticks": ""
           },
           "baxis": {
            "gridcolor": "white",
            "linecolor": "white",
            "ticks": ""
           },
           "bgcolor": "#E5ECF6",
           "caxis": {
            "gridcolor": "white",
            "linecolor": "white",
            "ticks": ""
           }
          },
          "title": {
           "x": 0.05
          },
          "xaxis": {
           "automargin": true,
           "gridcolor": "white",
           "linecolor": "white",
           "ticks": "",
           "title": {
            "standoff": 15
           },
           "zerolinecolor": "white",
           "zerolinewidth": 2
          },
          "yaxis": {
           "automargin": true,
           "gridcolor": "white",
           "linecolor": "white",
           "ticks": "",
           "title": {
            "standoff": 15
           },
           "zerolinecolor": "white",
           "zerolinewidth": 2
          }
         }
        }
       }
      }
     },
     "metadata": {},
     "output_type": "display_data"
    }
   ],
   "source": [
    "pinta_mapa(df4)"
   ]
  },
  {
   "cell_type": "code",
   "execution_count": null,
   "metadata": {},
   "outputs": [],
   "source": []
  },
  {
   "cell_type": "markdown",
   "metadata": {},
   "source": [
    "## Supermercados\n",
    "Para este ejemplo supondrás que trabajas en una cadena de supermercados en la que se está planteando construir un nuevo local en la provincia de Sevilla. Busca mediante la API de Overpass todos los supermercados de la provincia para poder comprobar en qué nucleos urbanos habría poca competencia.\n",
    "\n",
    "En este caso hay que buscar por área, no por cuadrícula! Investiga en la documentación/Stackoverflow cómo se haría eso."
   ]
  },
  {
   "cell_type": "code",
   "execution_count": 32,
   "metadata": {},
   "outputs": [
    {
     "name": "stdout",
     "output_type": "stream",
     "text": [
      "<Response [200]>\n"
     ]
    },
    {
     "data": {
      "text/html": [
       "<div>\n",
       "<style scoped>\n",
       "    .dataframe tbody tr th:only-of-type {\n",
       "        vertical-align: middle;\n",
       "    }\n",
       "\n",
       "    .dataframe tbody tr th {\n",
       "        vertical-align: top;\n",
       "    }\n",
       "\n",
       "    .dataframe thead th {\n",
       "        text-align: right;\n",
       "    }\n",
       "</style>\n",
       "<table border=\"1\" class=\"dataframe\">\n",
       "  <thead>\n",
       "    <tr style=\"text-align: right;\">\n",
       "      <th></th>\n",
       "      <th>tipo</th>\n",
       "      <th>lat</th>\n",
       "      <th>lon</th>\n",
       "      <th>name</th>\n",
       "      <th>address</th>\n",
       "    </tr>\n",
       "  </thead>\n",
       "  <tbody>\n",
       "    <tr>\n",
       "      <th>0</th>\n",
       "      <td>None</td>\n",
       "      <td>37.390016</td>\n",
       "      <td>-5.973769</td>\n",
       "      <td>Maxi Dia</td>\n",
       "      <td>NO STREET 9999</td>\n",
       "    </tr>\n",
       "    <tr>\n",
       "      <th>1</th>\n",
       "      <td>None</td>\n",
       "      <td>37.406364</td>\n",
       "      <td>-5.976342</td>\n",
       "      <td>El Jamón</td>\n",
       "      <td>NO STREET 9999</td>\n",
       "    </tr>\n",
       "    <tr>\n",
       "      <th>2</th>\n",
       "      <td>None</td>\n",
       "      <td>37.406508</td>\n",
       "      <td>-5.973342</td>\n",
       "      <td>Valdejimena</td>\n",
       "      <td>Avenida de San Juan de la Salle 9999</td>\n",
       "    </tr>\n",
       "    <tr>\n",
       "      <th>3</th>\n",
       "      <td>None</td>\n",
       "      <td>37.406889</td>\n",
       "      <td>-5.972455</td>\n",
       "      <td>Dia</td>\n",
       "      <td>Avenida de San Juan de la Salle 12</td>\n",
       "    </tr>\n",
       "    <tr>\n",
       "      <th>4</th>\n",
       "      <td>None</td>\n",
       "      <td>37.381381</td>\n",
       "      <td>-5.979418</td>\n",
       "      <td>MAS</td>\n",
       "      <td>NO STREET 9999</td>\n",
       "    </tr>\n",
       "    <tr>\n",
       "      <th>...</th>\n",
       "      <td>...</td>\n",
       "      <td>...</td>\n",
       "      <td>...</td>\n",
       "      <td>...</td>\n",
       "      <td>...</td>\n",
       "    </tr>\n",
       "    <tr>\n",
       "      <th>159</th>\n",
       "      <td>None</td>\n",
       "      <td>37.344104</td>\n",
       "      <td>-5.989356</td>\n",
       "      <td>Mercadona</td>\n",
       "      <td>NO STREET 9999</td>\n",
       "    </tr>\n",
       "    <tr>\n",
       "      <th>160</th>\n",
       "      <td>None</td>\n",
       "      <td>37.384955</td>\n",
       "      <td>-5.961366</td>\n",
       "      <td>CensoredShop</td>\n",
       "      <td>NO STREET 9999</td>\n",
       "    </tr>\n",
       "    <tr>\n",
       "      <th>161</th>\n",
       "      <td>None</td>\n",
       "      <td>37.393974</td>\n",
       "      <td>-5.992695</td>\n",
       "      <td>Carrefour Express</td>\n",
       "      <td>NO STREET 9999</td>\n",
       "    </tr>\n",
       "    <tr>\n",
       "      <th>162</th>\n",
       "      <td>None</td>\n",
       "      <td>37.376837</td>\n",
       "      <td>-5.974045</td>\n",
       "      <td>Dia</td>\n",
       "      <td>Avenida Ramón y Cajal 12</td>\n",
       "    </tr>\n",
       "    <tr>\n",
       "      <th>163</th>\n",
       "      <td>None</td>\n",
       "      <td>37.380747</td>\n",
       "      <td>-5.966079</td>\n",
       "      <td>CashFresh</td>\n",
       "      <td>Avenida de la Ciudad Jardin 4</td>\n",
       "    </tr>\n",
       "  </tbody>\n",
       "</table>\n",
       "<p>164 rows × 5 columns</p>\n",
       "</div>"
      ],
      "text/plain": [
       "     tipo        lat       lon               name  \\\n",
       "0    None  37.390016 -5.973769           Maxi Dia   \n",
       "1    None  37.406364 -5.976342           El Jamón   \n",
       "2    None  37.406508 -5.973342        Valdejimena   \n",
       "3    None  37.406889 -5.972455                Dia   \n",
       "4    None  37.381381 -5.979418                MAS   \n",
       "..    ...        ...       ...                ...   \n",
       "159  None  37.344104 -5.989356          Mercadona   \n",
       "160  None  37.384955 -5.961366       CensoredShop   \n",
       "161  None  37.393974 -5.992695  Carrefour Express   \n",
       "162  None  37.376837 -5.974045                Dia   \n",
       "163  None  37.380747 -5.966079          CashFresh   \n",
       "\n",
       "                                  address  \n",
       "0                          NO STREET 9999  \n",
       "1                          NO STREET 9999  \n",
       "2    Avenida de San Juan de la Salle 9999  \n",
       "3      Avenida de San Juan de la Salle 12  \n",
       "4                          NO STREET 9999  \n",
       "..                                    ...  \n",
       "159                        NO STREET 9999  \n",
       "160                        NO STREET 9999  \n",
       "161                        NO STREET 9999  \n",
       "162              Avenida Ramón y Cajal 12  \n",
       "163         Avenida de la Ciudad Jardin 4  \n",
       "\n",
       "[164 rows x 5 columns]"
      ]
     },
     "execution_count": 32,
     "metadata": {},
     "output_type": "execute_result"
    }
   ],
   "source": [
    "overpass_url = \"http://overpass-api.de/api/interpreter\"\n",
    "overpass_query = \"\"\"\n",
    "[out:json];\n",
    "node[\"shop\"=\"supermarket\"] \n",
    " (37.3434, -6.0171, 37.4411, -5.9388);\n",
    "out;\n",
    "\"\"\"\n",
    "response = requests.get(overpass_url,\n",
    "                        params={'data': overpass_query})\n",
    "print(response)\n",
    "data5 = response.json()\n",
    "df5 = json_to_df(data5)\n",
    "df5\n"
   ]
  },
  {
   "cell_type": "code",
   "execution_count": null,
   "metadata": {},
   "outputs": [],
   "source": [
    "def pinta_mapa(df):\n",
    "    fig = px.scatter_mapbox(df,\n",
    "                            lat=\"lat\",\n",
    "                            lon=\"lon\",\n",
    "                            color = \"tipo\",\n",
    "                      color_continuous_scale=px.colors.cyclical.IceFire, size_max=15, zoom=11)\n",
    "    fig.update_layout(\n",
    "        mapbox=dict(\n",
    "            accesstoken=mapbox_access_token\n",
    "        )\n",
    "    )\n",
    "\n",
    "    fig.show()\n"
   ]
  },
  {
   "cell_type": "code",
   "execution_count": 33,
   "metadata": {},
   "outputs": [
    {
     "data": {
      "application/vnd.plotly.v1+json": {
       "config": {
        "plotlyServerURL": "https://plot.ly"
       },
       "data": [
        {
         "hovertemplate": "tipo=None<br>lat=%{lat}<br>lon=%{lon}<extra></extra>",
         "lat": [
          37.3900156,
          37.4063636,
          37.4065076,
          37.4068889,
          37.381381,
          37.3492941,
          37.3931413,
          37.3916239,
          37.3945948,
          37.3928078,
          37.3968266,
          37.39283,
          37.4000193,
          37.3877763,
          37.3782118,
          37.3784637,
          37.4223309,
          37.4210312,
          37.4158443,
          37.408912,
          37.4162977,
          37.4322927,
          37.4265448,
          37.3993597,
          37.4032095,
          37.4040568,
          37.3767341,
          37.3758354,
          37.3709299,
          37.3475816,
          37.3650152,
          37.3666867,
          37.3941226,
          37.3745748,
          37.3821828,
          37.3765331,
          37.3762135,
          37.3828281,
          37.382216,
          37.3750846,
          37.3838793,
          37.3758889,
          37.3994984,
          37.4010345,
          37.395969,
          37.3993031,
          37.3661575,
          37.3716058,
          37.3612925,
          37.390219,
          37.4019062,
          37.3888642,
          37.3878814,
          37.3823229,
          37.3882714,
          37.394668,
          37.387336,
          37.37798,
          37.3828833,
          37.3774228,
          37.3851723,
          37.3838552,
          37.3939616,
          37.4066907,
          37.3439885,
          37.3850834,
          37.3784614,
          37.4245402,
          37.3845859,
          37.3829724,
          37.3926834,
          37.3852201,
          37.3876859,
          37.3755246,
          37.3732443,
          37.3585028,
          37.3720492,
          37.3984032,
          37.3827647,
          37.388112,
          37.3897145,
          37.3816054,
          37.3846396,
          37.3845658,
          37.3901385,
          37.3588696,
          37.3563452,
          37.3757882,
          37.3947584,
          37.3785976,
          37.378052,
          37.4024316,
          37.3979165,
          37.3755652,
          37.3800415,
          37.3793471,
          37.3824855,
          37.4247797,
          37.3774904,
          37.3897096,
          37.426738,
          37.3761087,
          37.3874865,
          37.3726194,
          37.3819894,
          37.3585589,
          37.3593174,
          37.3742039,
          37.3773855,
          37.3905785,
          37.3917556,
          37.3945664,
          37.3798531,
          37.38285,
          37.3662625,
          37.3800582,
          37.372653,
          37.4011565,
          37.3792072,
          37.381944,
          37.3812806,
          37.3856825,
          37.3708759,
          37.3817904,
          37.3729319,
          37.4065108,
          37.3717263,
          37.3716578,
          37.3886902,
          37.3542239,
          37.3748125,
          37.3791269,
          37.3766656,
          37.3751536,
          37.3777005,
          37.378475,
          37.3753009,
          37.3751423,
          37.3819024,
          37.3817406,
          37.407151,
          37.3709124,
          37.3712266,
          37.3809175,
          37.3934557,
          37.4033923,
          37.3762284,
          37.4031917,
          37.4186604,
          37.3828681,
          37.3783874,
          37.3998008,
          37.3654498,
          37.3776589,
          37.4022297,
          37.3878694,
          37.3937347,
          37.3863398,
          37.3722828,
          37.3441038,
          37.3849547,
          37.3939738,
          37.3768372,
          37.3807465
         ],
         "legendgroup": "None",
         "lon": [
          -5.9737693,
          -5.9763418,
          -5.9733419,
          -5.9724546,
          -5.9794179,
          -5.9768997,
          -5.9815793,
          -5.9813217,
          -5.9910877,
          -5.9863711,
          -5.9906521,
          -5.9835362,
          -5.9856329,
          -5.9819761,
          -6.0120047,
          -6.0119015,
          -5.9613759,
          -5.9637284,
          -5.9700072,
          -5.9769987,
          -5.9644557,
          -5.9793319,
          -5.9860088,
          -5.9779561,
          -5.9683925,
          -5.9654044,
          -5.9803391,
          -5.9763155,
          -5.9789718,
          -5.9804517,
          -5.9790562,
          -5.975481,
          -5.9572429,
          -5.9677453,
          -5.9659946,
          -5.969255,
          -5.9689733,
          -5.9654853,
          -5.9532198,
          -5.9538345,
          -5.9469451,
          -5.9545486,
          -5.9527488,
          -5.9406317,
          -5.978107,
          -5.9710998,
          -5.9683973,
          -5.9566624,
          -5.9601058,
          -5.9894762,
          -5.9919191,
          -6.0020476,
          -5.9844847,
          -5.9654876,
          -5.9607582,
          -5.997403,
          -5.9849974,
          -5.997585,
          -5.9536265,
          -5.9472911,
          -5.9482621,
          -5.9514647,
          -5.9956693,
          -5.9730014,
          -5.9754025,
          -5.9812451,
          -5.9412792,
          -5.9849356,
          -6.0059643,
          -6.0060357,
          -5.9818026,
          -5.9772574,
          -5.9673225,
          -6.0045754,
          -5.9952049,
          -5.9859219,
          -5.9620406,
          -5.9991195,
          -6.0030198,
          -5.982929,
          -5.99916,
          -5.9649648,
          -6.0103841,
          -6.0134182,
          -5.9706711,
          -5.9859998,
          -5.9857084,
          -6.0046336,
          -6.0013408,
          -5.9726165,
          -5.9726701,
          -5.9807553,
          -5.9979908,
          -5.9994109,
          -6.0040513,
          -6.0047183,
          -6.0096031,
          -5.9850727,
          -6.0129859,
          -5.9921167,
          -5.9763877,
          -5.9474761,
          -5.9727302,
          -5.9969106,
          -6.0039737,
          -5.9781164,
          -5.9783584,
          -6.0028403,
          -5.973638,
          -5.9799081,
          -5.9804426,
          -5.9969563,
          -5.999686,
          -5.9745482,
          -5.9988958,
          -5.9795246,
          -5.9959523,
          -5.9937657,
          -6.0075123,
          -6.0039569,
          -6.0039747,
          -6.0079664,
          -5.9769946,
          -6.0095526,
          -5.9586408,
          -5.9897152,
          -5.9827216,
          -5.9822434,
          -6.0084614,
          -5.9763565,
          -6.0000997,
          -5.9990942,
          -6.0038452,
          -5.9983526,
          -5.9984998,
          -5.9993465,
          -5.998974,
          -5.998694,
          -6.001493,
          -6.0013333,
          -5.9609781,
          -5.9507914,
          -5.9509086,
          -5.973515,
          -5.9965176,
          -5.9693853,
          -5.9702723,
          -5.969346,
          -5.974322,
          -6.0133269,
          -5.9458035,
          -5.9916412,
          -5.9832585,
          -5.9400413,
          -5.9775511,
          -5.9745354,
          -5.9650252,
          -6.0079746,
          -6.0013942,
          -5.9893559,
          -5.9613663,
          -5.9926949,
          -5.9740448,
          -5.9660787
         ],
         "marker": {
          "color": "#636efa"
         },
         "mode": "markers",
         "name": "None",
         "showlegend": true,
         "subplot": "mapbox",
         "type": "scattermapbox"
        }
       ],
       "layout": {
        "legend": {
         "title": {
          "text": "tipo"
         },
         "tracegroupgap": 0
        },
        "mapbox": {
         "accesstoken": "pk.eyJ1IjoiZGFvcnRpIiwiYSI6ImNrZnF6M3FlczA3cDEyem16YTNzZmV4M2EifQ.846iF0sMSAXv0kwkwUTYjg",
         "center": {
          "lat": 37.38520090792683,
          "lon": -5.981569703658537
         },
         "domain": {
          "x": [
           0,
           1
          ],
          "y": [
           0,
           1
          ]
         },
         "zoom": 11
        },
        "margin": {
         "t": 60
        },
        "template": {
         "data": {
          "bar": [
           {
            "error_x": {
             "color": "#2a3f5f"
            },
            "error_y": {
             "color": "#2a3f5f"
            },
            "marker": {
             "line": {
              "color": "#E5ECF6",
              "width": 0.5
             },
             "pattern": {
              "fillmode": "overlay",
              "size": 10,
              "solidity": 0.2
             }
            },
            "type": "bar"
           }
          ],
          "barpolar": [
           {
            "marker": {
             "line": {
              "color": "#E5ECF6",
              "width": 0.5
             },
             "pattern": {
              "fillmode": "overlay",
              "size": 10,
              "solidity": 0.2
             }
            },
            "type": "barpolar"
           }
          ],
          "carpet": [
           {
            "aaxis": {
             "endlinecolor": "#2a3f5f",
             "gridcolor": "white",
             "linecolor": "white",
             "minorgridcolor": "white",
             "startlinecolor": "#2a3f5f"
            },
            "baxis": {
             "endlinecolor": "#2a3f5f",
             "gridcolor": "white",
             "linecolor": "white",
             "minorgridcolor": "white",
             "startlinecolor": "#2a3f5f"
            },
            "type": "carpet"
           }
          ],
          "choropleth": [
           {
            "colorbar": {
             "outlinewidth": 0,
             "ticks": ""
            },
            "type": "choropleth"
           }
          ],
          "contour": [
           {
            "colorbar": {
             "outlinewidth": 0,
             "ticks": ""
            },
            "colorscale": [
             [
              0,
              "#0d0887"
             ],
             [
              0.1111111111111111,
              "#46039f"
             ],
             [
              0.2222222222222222,
              "#7201a8"
             ],
             [
              0.3333333333333333,
              "#9c179e"
             ],
             [
              0.4444444444444444,
              "#bd3786"
             ],
             [
              0.5555555555555556,
              "#d8576b"
             ],
             [
              0.6666666666666666,
              "#ed7953"
             ],
             [
              0.7777777777777778,
              "#fb9f3a"
             ],
             [
              0.8888888888888888,
              "#fdca26"
             ],
             [
              1,
              "#f0f921"
             ]
            ],
            "type": "contour"
           }
          ],
          "contourcarpet": [
           {
            "colorbar": {
             "outlinewidth": 0,
             "ticks": ""
            },
            "type": "contourcarpet"
           }
          ],
          "heatmap": [
           {
            "colorbar": {
             "outlinewidth": 0,
             "ticks": ""
            },
            "colorscale": [
             [
              0,
              "#0d0887"
             ],
             [
              0.1111111111111111,
              "#46039f"
             ],
             [
              0.2222222222222222,
              "#7201a8"
             ],
             [
              0.3333333333333333,
              "#9c179e"
             ],
             [
              0.4444444444444444,
              "#bd3786"
             ],
             [
              0.5555555555555556,
              "#d8576b"
             ],
             [
              0.6666666666666666,
              "#ed7953"
             ],
             [
              0.7777777777777778,
              "#fb9f3a"
             ],
             [
              0.8888888888888888,
              "#fdca26"
             ],
             [
              1,
              "#f0f921"
             ]
            ],
            "type": "heatmap"
           }
          ],
          "heatmapgl": [
           {
            "colorbar": {
             "outlinewidth": 0,
             "ticks": ""
            },
            "colorscale": [
             [
              0,
              "#0d0887"
             ],
             [
              0.1111111111111111,
              "#46039f"
             ],
             [
              0.2222222222222222,
              "#7201a8"
             ],
             [
              0.3333333333333333,
              "#9c179e"
             ],
             [
              0.4444444444444444,
              "#bd3786"
             ],
             [
              0.5555555555555556,
              "#d8576b"
             ],
             [
              0.6666666666666666,
              "#ed7953"
             ],
             [
              0.7777777777777778,
              "#fb9f3a"
             ],
             [
              0.8888888888888888,
              "#fdca26"
             ],
             [
              1,
              "#f0f921"
             ]
            ],
            "type": "heatmapgl"
           }
          ],
          "histogram": [
           {
            "marker": {
             "pattern": {
              "fillmode": "overlay",
              "size": 10,
              "solidity": 0.2
             }
            },
            "type": "histogram"
           }
          ],
          "histogram2d": [
           {
            "colorbar": {
             "outlinewidth": 0,
             "ticks": ""
            },
            "colorscale": [
             [
              0,
              "#0d0887"
             ],
             [
              0.1111111111111111,
              "#46039f"
             ],
             [
              0.2222222222222222,
              "#7201a8"
             ],
             [
              0.3333333333333333,
              "#9c179e"
             ],
             [
              0.4444444444444444,
              "#bd3786"
             ],
             [
              0.5555555555555556,
              "#d8576b"
             ],
             [
              0.6666666666666666,
              "#ed7953"
             ],
             [
              0.7777777777777778,
              "#fb9f3a"
             ],
             [
              0.8888888888888888,
              "#fdca26"
             ],
             [
              1,
              "#f0f921"
             ]
            ],
            "type": "histogram2d"
           }
          ],
          "histogram2dcontour": [
           {
            "colorbar": {
             "outlinewidth": 0,
             "ticks": ""
            },
            "colorscale": [
             [
              0,
              "#0d0887"
             ],
             [
              0.1111111111111111,
              "#46039f"
             ],
             [
              0.2222222222222222,
              "#7201a8"
             ],
             [
              0.3333333333333333,
              "#9c179e"
             ],
             [
              0.4444444444444444,
              "#bd3786"
             ],
             [
              0.5555555555555556,
              "#d8576b"
             ],
             [
              0.6666666666666666,
              "#ed7953"
             ],
             [
              0.7777777777777778,
              "#fb9f3a"
             ],
             [
              0.8888888888888888,
              "#fdca26"
             ],
             [
              1,
              "#f0f921"
             ]
            ],
            "type": "histogram2dcontour"
           }
          ],
          "mesh3d": [
           {
            "colorbar": {
             "outlinewidth": 0,
             "ticks": ""
            },
            "type": "mesh3d"
           }
          ],
          "parcoords": [
           {
            "line": {
             "colorbar": {
              "outlinewidth": 0,
              "ticks": ""
             }
            },
            "type": "parcoords"
           }
          ],
          "pie": [
           {
            "automargin": true,
            "type": "pie"
           }
          ],
          "scatter": [
           {
            "fillpattern": {
             "fillmode": "overlay",
             "size": 10,
             "solidity": 0.2
            },
            "type": "scatter"
           }
          ],
          "scatter3d": [
           {
            "line": {
             "colorbar": {
              "outlinewidth": 0,
              "ticks": ""
             }
            },
            "marker": {
             "colorbar": {
              "outlinewidth": 0,
              "ticks": ""
             }
            },
            "type": "scatter3d"
           }
          ],
          "scattercarpet": [
           {
            "marker": {
             "colorbar": {
              "outlinewidth": 0,
              "ticks": ""
             }
            },
            "type": "scattercarpet"
           }
          ],
          "scattergeo": [
           {
            "marker": {
             "colorbar": {
              "outlinewidth": 0,
              "ticks": ""
             }
            },
            "type": "scattergeo"
           }
          ],
          "scattergl": [
           {
            "marker": {
             "colorbar": {
              "outlinewidth": 0,
              "ticks": ""
             }
            },
            "type": "scattergl"
           }
          ],
          "scattermapbox": [
           {
            "marker": {
             "colorbar": {
              "outlinewidth": 0,
              "ticks": ""
             }
            },
            "type": "scattermapbox"
           }
          ],
          "scatterpolar": [
           {
            "marker": {
             "colorbar": {
              "outlinewidth": 0,
              "ticks": ""
             }
            },
            "type": "scatterpolar"
           }
          ],
          "scatterpolargl": [
           {
            "marker": {
             "colorbar": {
              "outlinewidth": 0,
              "ticks": ""
             }
            },
            "type": "scatterpolargl"
           }
          ],
          "scatterternary": [
           {
            "marker": {
             "colorbar": {
              "outlinewidth": 0,
              "ticks": ""
             }
            },
            "type": "scatterternary"
           }
          ],
          "surface": [
           {
            "colorbar": {
             "outlinewidth": 0,
             "ticks": ""
            },
            "colorscale": [
             [
              0,
              "#0d0887"
             ],
             [
              0.1111111111111111,
              "#46039f"
             ],
             [
              0.2222222222222222,
              "#7201a8"
             ],
             [
              0.3333333333333333,
              "#9c179e"
             ],
             [
              0.4444444444444444,
              "#bd3786"
             ],
             [
              0.5555555555555556,
              "#d8576b"
             ],
             [
              0.6666666666666666,
              "#ed7953"
             ],
             [
              0.7777777777777778,
              "#fb9f3a"
             ],
             [
              0.8888888888888888,
              "#fdca26"
             ],
             [
              1,
              "#f0f921"
             ]
            ],
            "type": "surface"
           }
          ],
          "table": [
           {
            "cells": {
             "fill": {
              "color": "#EBF0F8"
             },
             "line": {
              "color": "white"
             }
            },
            "header": {
             "fill": {
              "color": "#C8D4E3"
             },
             "line": {
              "color": "white"
             }
            },
            "type": "table"
           }
          ]
         },
         "layout": {
          "annotationdefaults": {
           "arrowcolor": "#2a3f5f",
           "arrowhead": 0,
           "arrowwidth": 1
          },
          "autotypenumbers": "strict",
          "coloraxis": {
           "colorbar": {
            "outlinewidth": 0,
            "ticks": ""
           }
          },
          "colorscale": {
           "diverging": [
            [
             0,
             "#8e0152"
            ],
            [
             0.1,
             "#c51b7d"
            ],
            [
             0.2,
             "#de77ae"
            ],
            [
             0.3,
             "#f1b6da"
            ],
            [
             0.4,
             "#fde0ef"
            ],
            [
             0.5,
             "#f7f7f7"
            ],
            [
             0.6,
             "#e6f5d0"
            ],
            [
             0.7,
             "#b8e186"
            ],
            [
             0.8,
             "#7fbc41"
            ],
            [
             0.9,
             "#4d9221"
            ],
            [
             1,
             "#276419"
            ]
           ],
           "sequential": [
            [
             0,
             "#0d0887"
            ],
            [
             0.1111111111111111,
             "#46039f"
            ],
            [
             0.2222222222222222,
             "#7201a8"
            ],
            [
             0.3333333333333333,
             "#9c179e"
            ],
            [
             0.4444444444444444,
             "#bd3786"
            ],
            [
             0.5555555555555556,
             "#d8576b"
            ],
            [
             0.6666666666666666,
             "#ed7953"
            ],
            [
             0.7777777777777778,
             "#fb9f3a"
            ],
            [
             0.8888888888888888,
             "#fdca26"
            ],
            [
             1,
             "#f0f921"
            ]
           ],
           "sequentialminus": [
            [
             0,
             "#0d0887"
            ],
            [
             0.1111111111111111,
             "#46039f"
            ],
            [
             0.2222222222222222,
             "#7201a8"
            ],
            [
             0.3333333333333333,
             "#9c179e"
            ],
            [
             0.4444444444444444,
             "#bd3786"
            ],
            [
             0.5555555555555556,
             "#d8576b"
            ],
            [
             0.6666666666666666,
             "#ed7953"
            ],
            [
             0.7777777777777778,
             "#fb9f3a"
            ],
            [
             0.8888888888888888,
             "#fdca26"
            ],
            [
             1,
             "#f0f921"
            ]
           ]
          },
          "colorway": [
           "#636efa",
           "#EF553B",
           "#00cc96",
           "#ab63fa",
           "#FFA15A",
           "#19d3f3",
           "#FF6692",
           "#B6E880",
           "#FF97FF",
           "#FECB52"
          ],
          "font": {
           "color": "#2a3f5f"
          },
          "geo": {
           "bgcolor": "white",
           "lakecolor": "white",
           "landcolor": "#E5ECF6",
           "showlakes": true,
           "showland": true,
           "subunitcolor": "white"
          },
          "hoverlabel": {
           "align": "left"
          },
          "hovermode": "closest",
          "mapbox": {
           "style": "light"
          },
          "paper_bgcolor": "white",
          "plot_bgcolor": "#E5ECF6",
          "polar": {
           "angularaxis": {
            "gridcolor": "white",
            "linecolor": "white",
            "ticks": ""
           },
           "bgcolor": "#E5ECF6",
           "radialaxis": {
            "gridcolor": "white",
            "linecolor": "white",
            "ticks": ""
           }
          },
          "scene": {
           "xaxis": {
            "backgroundcolor": "#E5ECF6",
            "gridcolor": "white",
            "gridwidth": 2,
            "linecolor": "white",
            "showbackground": true,
            "ticks": "",
            "zerolinecolor": "white"
           },
           "yaxis": {
            "backgroundcolor": "#E5ECF6",
            "gridcolor": "white",
            "gridwidth": 2,
            "linecolor": "white",
            "showbackground": true,
            "ticks": "",
            "zerolinecolor": "white"
           },
           "zaxis": {
            "backgroundcolor": "#E5ECF6",
            "gridcolor": "white",
            "gridwidth": 2,
            "linecolor": "white",
            "showbackground": true,
            "ticks": "",
            "zerolinecolor": "white"
           }
          },
          "shapedefaults": {
           "line": {
            "color": "#2a3f5f"
           }
          },
          "ternary": {
           "aaxis": {
            "gridcolor": "white",
            "linecolor": "white",
            "ticks": ""
           },
           "baxis": {
            "gridcolor": "white",
            "linecolor": "white",
            "ticks": ""
           },
           "bgcolor": "#E5ECF6",
           "caxis": {
            "gridcolor": "white",
            "linecolor": "white",
            "ticks": ""
           }
          },
          "title": {
           "x": 0.05
          },
          "xaxis": {
           "automargin": true,
           "gridcolor": "white",
           "linecolor": "white",
           "ticks": "",
           "title": {
            "standoff": 15
           },
           "zerolinecolor": "white",
           "zerolinewidth": 2
          },
          "yaxis": {
           "automargin": true,
           "gridcolor": "white",
           "linecolor": "white",
           "ticks": "",
           "title": {
            "standoff": 15
           },
           "zerolinecolor": "white",
           "zerolinewidth": 2
          }
         }
        }
       }
      }
     },
     "metadata": {},
     "output_type": "display_data"
    }
   ],
   "source": [
    "pinta_mapa(df5)"
   ]
  },
  {
   "cell_type": "markdown",
   "metadata": {},
   "source": [
    "## Etiqueta en el mapa\n",
    "Busca la manera de modificar la función `pinta_mapa()`, de tal manera que cuando pases el ratón por encima de cada punto, aparezca el nombre de cada nodo. Por ejemplo, que en el último apartado aparezcan los nombres de los supermercados."
   ]
  },
  {
   "cell_type": "code",
   "execution_count": 37,
   "metadata": {},
   "outputs": [
    {
     "data": {
      "text/html": [
       "<div>\n",
       "<style scoped>\n",
       "    .dataframe tbody tr th:only-of-type {\n",
       "        vertical-align: middle;\n",
       "    }\n",
       "\n",
       "    .dataframe tbody tr th {\n",
       "        vertical-align: top;\n",
       "    }\n",
       "\n",
       "    .dataframe thead th {\n",
       "        text-align: right;\n",
       "    }\n",
       "</style>\n",
       "<table border=\"1\" class=\"dataframe\">\n",
       "  <thead>\n",
       "    <tr style=\"text-align: right;\">\n",
       "      <th></th>\n",
       "      <th>tipo</th>\n",
       "      <th>lat</th>\n",
       "      <th>lon</th>\n",
       "      <th>name</th>\n",
       "      <th>address</th>\n",
       "    </tr>\n",
       "  </thead>\n",
       "  <tbody>\n",
       "    <tr>\n",
       "      <th>0</th>\n",
       "      <td>Maxi Dia</td>\n",
       "      <td>37.390016</td>\n",
       "      <td>-5.973769</td>\n",
       "      <td>Maxi Dia</td>\n",
       "      <td>NO STREET 9999</td>\n",
       "    </tr>\n",
       "    <tr>\n",
       "      <th>1</th>\n",
       "      <td>El Jamón</td>\n",
       "      <td>37.406364</td>\n",
       "      <td>-5.976342</td>\n",
       "      <td>El Jamón</td>\n",
       "      <td>NO STREET 9999</td>\n",
       "    </tr>\n",
       "    <tr>\n",
       "      <th>2</th>\n",
       "      <td>Valdejimena</td>\n",
       "      <td>37.406508</td>\n",
       "      <td>-5.973342</td>\n",
       "      <td>Valdejimena</td>\n",
       "      <td>Avenida de San Juan de la Salle 9999</td>\n",
       "    </tr>\n",
       "    <tr>\n",
       "      <th>3</th>\n",
       "      <td>Dia</td>\n",
       "      <td>37.406889</td>\n",
       "      <td>-5.972455</td>\n",
       "      <td>Dia</td>\n",
       "      <td>Avenida de San Juan de la Salle 12</td>\n",
       "    </tr>\n",
       "    <tr>\n",
       "      <th>4</th>\n",
       "      <td>MAS</td>\n",
       "      <td>37.381381</td>\n",
       "      <td>-5.979418</td>\n",
       "      <td>MAS</td>\n",
       "      <td>NO STREET 9999</td>\n",
       "    </tr>\n",
       "    <tr>\n",
       "      <th>...</th>\n",
       "      <td>...</td>\n",
       "      <td>...</td>\n",
       "      <td>...</td>\n",
       "      <td>...</td>\n",
       "      <td>...</td>\n",
       "    </tr>\n",
       "    <tr>\n",
       "      <th>159</th>\n",
       "      <td>Mercadona</td>\n",
       "      <td>37.344104</td>\n",
       "      <td>-5.989356</td>\n",
       "      <td>Mercadona</td>\n",
       "      <td>NO STREET 9999</td>\n",
       "    </tr>\n",
       "    <tr>\n",
       "      <th>160</th>\n",
       "      <td>CensoredShop</td>\n",
       "      <td>37.384955</td>\n",
       "      <td>-5.961366</td>\n",
       "      <td>CensoredShop</td>\n",
       "      <td>NO STREET 9999</td>\n",
       "    </tr>\n",
       "    <tr>\n",
       "      <th>161</th>\n",
       "      <td>Carrefour Express</td>\n",
       "      <td>37.393974</td>\n",
       "      <td>-5.992695</td>\n",
       "      <td>Carrefour Express</td>\n",
       "      <td>NO STREET 9999</td>\n",
       "    </tr>\n",
       "    <tr>\n",
       "      <th>162</th>\n",
       "      <td>Dia</td>\n",
       "      <td>37.376837</td>\n",
       "      <td>-5.974045</td>\n",
       "      <td>Dia</td>\n",
       "      <td>Avenida Ramón y Cajal 12</td>\n",
       "    </tr>\n",
       "    <tr>\n",
       "      <th>163</th>\n",
       "      <td>CashFresh</td>\n",
       "      <td>37.380747</td>\n",
       "      <td>-5.966079</td>\n",
       "      <td>CashFresh</td>\n",
       "      <td>Avenida de la Ciudad Jardin 4</td>\n",
       "    </tr>\n",
       "  </tbody>\n",
       "</table>\n",
       "<p>164 rows × 5 columns</p>\n",
       "</div>"
      ],
      "text/plain": [
       "                  tipo        lat       lon               name  \\\n",
       "0             Maxi Dia  37.390016 -5.973769           Maxi Dia   \n",
       "1             El Jamón  37.406364 -5.976342           El Jamón   \n",
       "2          Valdejimena  37.406508 -5.973342        Valdejimena   \n",
       "3                  Dia  37.406889 -5.972455                Dia   \n",
       "4                  MAS  37.381381 -5.979418                MAS   \n",
       "..                 ...        ...       ...                ...   \n",
       "159          Mercadona  37.344104 -5.989356          Mercadona   \n",
       "160       CensoredShop  37.384955 -5.961366       CensoredShop   \n",
       "161  Carrefour Express  37.393974 -5.992695  Carrefour Express   \n",
       "162                Dia  37.376837 -5.974045                Dia   \n",
       "163          CashFresh  37.380747 -5.966079          CashFresh   \n",
       "\n",
       "                                  address  \n",
       "0                          NO STREET 9999  \n",
       "1                          NO STREET 9999  \n",
       "2    Avenida de San Juan de la Salle 9999  \n",
       "3      Avenida de San Juan de la Salle 12  \n",
       "4                          NO STREET 9999  \n",
       "..                                    ...  \n",
       "159                        NO STREET 9999  \n",
       "160                        NO STREET 9999  \n",
       "161                        NO STREET 9999  \n",
       "162              Avenida Ramón y Cajal 12  \n",
       "163         Avenida de la Ciudad Jardin 4  \n",
       "\n",
       "[164 rows x 5 columns]"
      ]
     },
     "execution_count": 37,
     "metadata": {},
     "output_type": "execute_result"
    }
   ],
   "source": [
    "df_super = df5.copy()\n",
    "df_super[\"tipo\"] = df5[\"name\"]\n",
    "df_super"
   ]
  },
  {
   "cell_type": "code",
   "execution_count": 38,
   "metadata": {},
   "outputs": [
    {
     "data": {
      "application/vnd.plotly.v1+json": {
       "config": {
        "plotlyServerURL": "https://plot.ly"
       },
       "data": [
        {
         "hovertemplate": "tipo=Maxi Dia<br>lat=%{lat}<br>lon=%{lon}<extra></extra>",
         "lat": [
          37.3900156,
          37.3968266,
          37.3877763,
          37.3941226,
          37.3745748
         ],
         "legendgroup": "Maxi Dia",
         "lon": [
          -5.9737693,
          -5.9906521,
          -5.9819761,
          -5.9572429,
          -5.9677453
         ],
         "marker": {
          "color": "#636efa"
         },
         "mode": "markers",
         "name": "Maxi Dia",
         "showlegend": true,
         "subplot": "mapbox",
         "type": "scattermapbox"
        },
        {
         "hovertemplate": "tipo=El Jamón<br>lat=%{lat}<br>lon=%{lon}<extra></extra>",
         "lat": [
          37.4063636,
          37.3945948,
          37.3762135,
          37.3758889,
          37.3878814,
          37.3563452,
          37.3757882,
          37.3824855,
          37.3593174,
          37.3792072,
          37.3729319
         ],
         "legendgroup": "El Jamón",
         "lon": [
          -5.9763418,
          -5.9910877,
          -5.9689733,
          -5.9545486,
          -5.9844847,
          -5.9857084,
          -6.0046336,
          -6.0096031,
          -5.9783584,
          -6.0075123,
          -5.9586408
         ],
         "marker": {
          "color": "#EF553B"
         },
         "mode": "markers",
         "name": "El Jamón",
         "showlegend": true,
         "subplot": "mapbox",
         "type": "scattermapbox"
        },
        {
         "hovertemplate": "tipo=Valdejimena<br>lat=%{lat}<br>lon=%{lon}<extra></extra>",
         "lat": [
          37.4065076
         ],
         "legendgroup": "Valdejimena",
         "lon": [
          -5.9733419
         ],
         "marker": {
          "color": "#00cc96"
         },
         "mode": "markers",
         "name": "Valdejimena",
         "showlegend": true,
         "subplot": "mapbox",
         "type": "scattermapbox"
        },
        {
         "hovertemplate": "tipo=Dia<br>lat=%{lat}<br>lon=%{lon}<extra></extra>",
         "lat": [
          37.4068889,
          37.3750846,
          37.3716058,
          37.390219,
          37.394668,
          37.3828833,
          37.3774228,
          37.3851723,
          37.3816054,
          37.3846396,
          37.3845658,
          37.3726194,
          37.3800582,
          37.3708759,
          37.3886902,
          37.3777005,
          37.3776589,
          37.4022297,
          37.3768372
         ],
         "legendgroup": "Dia",
         "lon": [
          -5.9724546,
          -5.9538345,
          -5.9566624,
          -5.9894762,
          -5.997403,
          -5.9536265,
          -5.9472911,
          -5.9482621,
          -5.9649648,
          -6.0103841,
          -6.0134182,
          -5.9969106,
          -5.9795246,
          -5.9769946,
          -6.0084614,
          -5.9984998,
          -5.9400413,
          -5.9775511,
          -5.9740448
         ],
         "marker": {
          "color": "#ab63fa"
         },
         "mode": "markers",
         "name": "Dia",
         "showlegend": true,
         "subplot": "mapbox",
         "type": "scattermapbox"
        },
        {
         "hovertemplate": "tipo=MAS<br>lat=%{lat}<br>lon=%{lon}<extra></extra>",
         "lat": [
          37.381381,
          37.4019062,
          37.4066907,
          37.3829724,
          37.3766656,
          37.3751536,
          37.3751423
         ],
         "legendgroup": "MAS",
         "lon": [
          -5.9794179,
          -5.9919191,
          -5.9730014,
          -6.0060357,
          -6.0038452,
          -5.9983526,
          -5.998694
         ],
         "marker": {
          "color": "#FFA15A"
         },
         "mode": "markers",
         "name": "MAS",
         "showlegend": true,
         "subplot": "mapbox",
         "type": "scattermapbox"
        },
        {
         "hovertemplate": "tipo=Mercadona<br>lat=%{lat}<br>lon=%{lon}<extra></extra>",
         "lat": [
          37.3492941,
          37.3993597,
          37.3650152,
          37.3720492,
          37.426738,
          37.3905785,
          37.3798531,
          37.4065108,
          37.3441038
         ],
         "legendgroup": "Mercadona",
         "lon": [
          -5.9768997,
          -5.9779561,
          -5.9790562,
          -5.9620406,
          -5.9763877,
          -5.9799081,
          -5.999686,
          -5.9897152,
          -5.9893559
         ],
         "marker": {
          "color": "#19d3f3"
         },
         "mode": "markers",
         "name": "Mercadona",
         "showlegend": true,
         "subplot": "mapbox",
         "type": "scattermapbox"
        },
        {
         "hovertemplate": "tipo=Supersol<br>lat=%{lat}<br>lon=%{lon}<extra></extra>",
         "lat": [
          37.3931413,
          37.382216,
          37.395969,
          37.37798,
          37.3585028,
          37.3979165,
          37.4247797,
          37.3542239,
          37.3712266
         ],
         "legendgroup": "Supersol",
         "lon": [
          -5.9815793,
          -5.9532198,
          -5.978107,
          -5.997585,
          -5.9859219,
          -5.9979908,
          -5.9850727,
          -5.9763565,
          -5.9509086
         ],
         "marker": {
          "color": "#FF6692"
         },
         "mode": "markers",
         "name": "Supersol",
         "showlegend": true,
         "subplot": "mapbox",
         "type": "scattermapbox"
        },
        {
         "hovertemplate": "tipo=NO NAME<br>lat=%{lat}<br>lon=%{lon}<extra></extra>",
         "lat": [
          37.3916239,
          37.4223309,
          37.4210312,
          37.4158443,
          37.408912,
          37.4162977,
          37.4322927,
          37.4265448,
          37.4032095,
          37.4040568,
          37.3767341,
          37.3666867,
          37.3828281,
          37.3838793,
          37.4010345,
          37.3993031,
          37.3661575,
          37.3612925,
          37.3901385,
          37.4024316,
          37.3742039,
          37.3783874,
          37.3878694
         ],
         "legendgroup": "NO NAME",
         "lon": [
          -5.9813217,
          -5.9613759,
          -5.9637284,
          -5.9700072,
          -5.9769987,
          -5.9644557,
          -5.9793319,
          -5.9860088,
          -5.9683925,
          -5.9654044,
          -5.9803391,
          -5.975481,
          -5.9654853,
          -5.9469451,
          -5.9406317,
          -5.9710998,
          -5.9683973,
          -5.9601058,
          -5.9706711,
          -5.9807553,
          -6.0028403,
          -5.9458035,
          -5.9745354
         ],
         "marker": {
          "color": "#B6E880"
         },
         "mode": "markers",
         "name": "NO NAME",
         "showlegend": true,
         "subplot": "mapbox",
         "type": "scattermapbox"
        },
        {
         "hovertemplate": "tipo=Masymas<br>lat=%{lat}<br>lon=%{lon}<extra></extra>",
         "lat": [
          37.3928078
         ],
         "legendgroup": "Masymas",
         "lon": [
          -5.9863711
         ],
         "marker": {
          "color": "#FF97FF"
         },
         "mode": "markers",
         "name": "Masymas",
         "showlegend": true,
         "subplot": "mapbox",
         "type": "scattermapbox"
        },
        {
         "hovertemplate": "tipo=Dia Market<br>lat=%{lat}<br>lon=%{lon}<extra></extra>",
         "lat": [
          37.39283,
          37.4000193,
          37.3784637,
          37.3819024,
          37.3709124
         ],
         "legendgroup": "Dia Market",
         "lon": [
          -5.9835362,
          -5.9856329,
          -6.0119015,
          -6.001493,
          -5.9507914
         ],
         "marker": {
          "color": "#FECB52"
         },
         "mode": "markers",
         "name": "Dia Market",
         "showlegend": true,
         "subplot": "mapbox",
         "type": "scattermapbox"
        },
        {
         "hovertemplate": "tipo=Supermercado El Jamón<br>lat=%{lat}<br>lon=%{lon}<extra></extra>",
         "lat": [
          37.3782118,
          37.3475816,
          37.3800415
         ],
         "legendgroup": "Supermercado El Jamón",
         "lon": [
          -6.0120047,
          -5.9804517,
          -6.0040513
         ],
         "marker": {
          "color": "#636efa"
         },
         "mode": "markers",
         "name": "Supermercado El Jamón",
         "showlegend": true,
         "subplot": "mapbox",
         "type": "scattermapbox"
        },
        {
         "hovertemplate": "tipo=Supercor<br>lat=%{lat}<br>lon=%{lon}<extra></extra>",
         "lat": [
          37.3758354
         ],
         "legendgroup": "Supercor",
         "lon": [
          -5.9763155
         ],
         "marker": {
          "color": "#EF553B"
         },
         "mode": "markers",
         "name": "Supercor",
         "showlegend": true,
         "subplot": "mapbox",
         "type": "scattermapbox"
        },
        {
         "hovertemplate": "tipo=Supermercados Mas<br>lat=%{lat}<br>lon=%{lon}<extra></extra>",
         "lat": [
          37.3709299,
          37.387336
         ],
         "legendgroup": "Supermercados Mas",
         "lon": [
          -5.9789718,
          -5.9849974
         ],
         "marker": {
          "color": "#00cc96"
         },
         "mode": "markers",
         "name": "Supermercados Mas",
         "showlegend": true,
         "subplot": "mapbox",
         "type": "scattermapbox"
        },
        {
         "hovertemplate": "tipo=OpenCor<br>lat=%{lat}<br>lon=%{lon}<extra></extra>",
         "lat": [
          37.3821828
         ],
         "legendgroup": "OpenCor",
         "lon": [
          -5.9659946
         ],
         "marker": {
          "color": "#ab63fa"
         },
         "mode": "markers",
         "name": "OpenCor",
         "showlegend": true,
         "subplot": "mapbox",
         "type": "scattermapbox"
        },
        {
         "hovertemplate": "tipo=M.A.S.<br>lat=%{lat}<br>lon=%{lon}<extra></extra>",
         "lat": [
          37.3765331
         ],
         "legendgroup": "M.A.S.",
         "lon": [
          -5.969255
         ],
         "marker": {
          "color": "#FFA15A"
         },
         "mode": "markers",
         "name": "M.A.S.",
         "showlegend": true,
         "subplot": "mapbox",
         "type": "scattermapbox"
        },
        {
         "hovertemplate": "tipo=Covirán<br>lat=%{lat}<br>lon=%{lon}<extra></extra>",
         "lat": [
          37.3994984,
          37.3753009
         ],
         "legendgroup": "Covirán",
         "lon": [
          -5.9527488,
          -5.998974
         ],
         "marker": {
          "color": "#19d3f3"
         },
         "mode": "markers",
         "name": "Covirán",
         "showlegend": true,
         "subplot": "mapbox",
         "type": "scattermapbox"
        },
        {
         "hovertemplate": "tipo=Mas<br>lat=%{lat}<br>lon=%{lon}<extra></extra>",
         "lat": [
          37.3888642,
          37.3852201,
          37.3897096,
          37.3585589
         ],
         "legendgroup": "Mas",
         "lon": [
          -6.0020476,
          -5.9772574,
          -5.9921167,
          -5.9781164
         ],
         "marker": {
          "color": "#FF6692"
         },
         "mode": "markers",
         "name": "Mas",
         "showlegend": true,
         "subplot": "mapbox",
         "type": "scattermapbox"
        },
        {
         "hovertemplate": "tipo=Supemercados El Jamón<br>lat=%{lat}<br>lon=%{lon}<extra></extra>",
         "lat": [
          37.3823229
         ],
         "legendgroup": "Supemercados El Jamón",
         "lon": [
          -5.9654876
         ],
         "marker": {
          "color": "#B6E880"
         },
         "mode": "markers",
         "name": "Supemercados El Jamón",
         "showlegend": true,
         "subplot": "mapbox",
         "type": "scattermapbox"
        },
        {
         "hovertemplate": "tipo=Hipercor<br>lat=%{lat}<br>lon=%{lon}<extra></extra>",
         "lat": [
          37.3882714
         ],
         "legendgroup": "Hipercor",
         "lon": [
          -5.9607582
         ],
         "marker": {
          "color": "#FF97FF"
         },
         "mode": "markers",
         "name": "Hipercor",
         "showlegend": true,
         "subplot": "mapbox",
         "type": "scattermapbox"
        },
        {
         "hovertemplate": "tipo=Cash fresh<br>lat=%{lat}<br>lon=%{lon}<extra></extra>",
         "lat": [
          37.3838552
         ],
         "legendgroup": "Cash fresh",
         "lon": [
          -5.9514647
         ],
         "marker": {
          "color": "#FECB52"
         },
         "mode": "markers",
         "name": "Cash fresh",
         "showlegend": true,
         "subplot": "mapbox",
         "type": "scattermapbox"
        },
        {
         "hovertemplate": "tipo=Hiper Oriente<br>lat=%{lat}<br>lon=%{lon}<extra></extra>",
         "lat": [
          37.3939616
         ],
         "legendgroup": "Hiper Oriente",
         "lon": [
          -5.9956693
         ],
         "marker": {
          "color": "#636efa"
         },
         "mode": "markers",
         "name": "Hiper Oriente",
         "showlegend": true,
         "subplot": "mapbox",
         "type": "scattermapbox"
        },
        {
         "hovertemplate": "tipo=Supermercado MAS<br>lat=%{lat}<br>lon=%{lon}<extra></extra>",
         "lat": [
          37.3439885,
          37.3850834,
          37.3755246,
          37.3812806
         ],
         "legendgroup": "Supermercado MAS",
         "lon": [
          -5.9754025,
          -5.9812451,
          -6.0045754,
          -6.0039747
         ],
         "marker": {
          "color": "#EF553B"
         },
         "mode": "markers",
         "name": "Supermercado MAS",
         "showlegend": true,
         "subplot": "mapbox",
         "type": "scattermapbox"
        },
        {
         "hovertemplate": "tipo=Cash Fresh<br>lat=%{lat}<br>lon=%{lon}<extra></extra>",
         "lat": [
          37.3784614,
          37.3793471,
          37.3828681
         ],
         "legendgroup": "Cash Fresh",
         "lon": [
          -5.9412792,
          -6.0047183,
          -6.0133269
         ],
         "marker": {
          "color": "#00cc96"
         },
         "mode": "markers",
         "name": "Cash Fresh",
         "showlegend": true,
         "subplot": "mapbox",
         "type": "scattermapbox"
        },
        {
         "hovertemplate": "tipo=Supermcado \"M.A.S.\"<br>lat=%{lat}<br>lon=%{lon}<extra></extra>",
         "lat": [
          37.4245402
         ],
         "legendgroup": "Supermcado \"M.A.S.\"",
         "lon": [
          -5.9849356
         ],
         "marker": {
          "color": "#ab63fa"
         },
         "mode": "markers",
         "name": "Supermcado \"M.A.S.\"",
         "showlegend": true,
         "subplot": "mapbox",
         "type": "scattermapbox"
        },
        {
         "hovertemplate": "tipo=Supermercados El Jamón<br>lat=%{lat}<br>lon=%{lon}<extra></extra>",
         "lat": [
          37.3845859
         ],
         "legendgroup": "Supermercados El Jamón",
         "lon": [
          -6.0059643
         ],
         "marker": {
          "color": "#FFA15A"
         },
         "mode": "markers",
         "name": "Supermercados El Jamón",
         "showlegend": true,
         "subplot": "mapbox",
         "type": "scattermapbox"
        },
        {
         "hovertemplate": "tipo=Carrefour Market<br>lat=%{lat}<br>lon=%{lon}<extra></extra>",
         "lat": [
          37.3926834
         ],
         "legendgroup": "Carrefour Market",
         "lon": [
          -5.9818026
         ],
         "marker": {
          "color": "#19d3f3"
         },
         "mode": "markers",
         "name": "Carrefour Market",
         "showlegend": true,
         "subplot": "mapbox",
         "type": "scattermapbox"
        },
        {
         "hovertemplate": "tipo=Supermercado<br>lat=%{lat}<br>lon=%{lon}<extra></extra>",
         "lat": [
          37.3876859
         ],
         "legendgroup": "Supermercado",
         "lon": [
          -5.9673225
         ],
         "marker": {
          "color": "#FF6692"
         },
         "mode": "markers",
         "name": "Supermercado",
         "showlegend": true,
         "subplot": "mapbox",
         "type": "scattermapbox"
        },
        {
         "hovertemplate": "tipo=Supermercados MAS<br>lat=%{lat}<br>lon=%{lon}<extra></extra>",
         "lat": [
          37.3732443,
          37.3897145
         ],
         "legendgroup": "Supermercados MAS",
         "lon": [
          -5.9952049,
          -5.99916
         ],
         "marker": {
          "color": "#B6E880"
         },
         "mode": "markers",
         "name": "Supermercados MAS",
         "showlegend": true,
         "subplot": "mapbox",
         "type": "scattermapbox"
        },
        {
         "hovertemplate": "tipo=La Ortiga<br>lat=%{lat}<br>lon=%{lon}<extra></extra>",
         "lat": [
          37.3984032
         ],
         "legendgroup": "La Ortiga",
         "lon": [
          -5.9991195
         ],
         "marker": {
          "color": "#FF97FF"
         },
         "mode": "markers",
         "name": "La Ortiga",
         "showlegend": true,
         "subplot": "mapbox",
         "type": "scattermapbox"
        },
        {
         "hovertemplate": "tipo=Maskom<br>lat=%{lat}<br>lon=%{lon}<extra></extra>",
         "lat": [
          37.3827647
         ],
         "legendgroup": "Maskom",
         "lon": [
          -6.0030198
         ],
         "marker": {
          "color": "#FECB52"
         },
         "mode": "markers",
         "name": "Maskom",
         "showlegend": true,
         "subplot": "mapbox",
         "type": "scattermapbox"
        },
        {
         "hovertemplate": "tipo=Spar<br>lat=%{lat}<br>lon=%{lon}<extra></extra>",
         "lat": [
          37.388112,
          37.3722828
         ],
         "legendgroup": "Spar",
         "lon": [
          -5.982929,
          -6.0013942
         ],
         "marker": {
          "color": "#636efa"
         },
         "mode": "markers",
         "name": "Spar",
         "showlegend": true,
         "subplot": "mapbox",
         "type": "scattermapbox"
        },
        {
         "hovertemplate": "tipo=MAS&Go<br>lat=%{lat}<br>lon=%{lon}<extra></extra>",
         "lat": [
          37.3588696,
          37.3748125
         ],
         "legendgroup": "MAS&Go",
         "lon": [
          -5.9859998,
          -6.0000997
         ],
         "marker": {
          "color": "#EF553B"
         },
         "mode": "markers",
         "name": "MAS&Go",
         "showlegend": true,
         "subplot": "mapbox",
         "type": "scattermapbox"
        },
        {
         "hovertemplate": "tipo=Supermrecados Mas<br>lat=%{lat}<br>lon=%{lon}<extra></extra>",
         "lat": [
          37.3947584
         ],
         "legendgroup": "Supermrecados Mas",
         "lon": [
          -6.0013408
         ],
         "marker": {
          "color": "#00cc96"
         },
         "mode": "markers",
         "name": "Supermrecados Mas",
         "showlegend": true,
         "subplot": "mapbox",
         "type": "scattermapbox"
        },
        {
         "hovertemplate": "tipo=La Coriana<br>lat=%{lat}<br>lon=%{lon}<extra></extra>",
         "lat": [
          37.3785976
         ],
         "legendgroup": "La Coriana",
         "lon": [
          -5.9726165
         ],
         "marker": {
          "color": "#ab63fa"
         },
         "mode": "markers",
         "name": "La Coriana",
         "showlegend": true,
         "subplot": "mapbox",
         "type": "scattermapbox"
        },
        {
         "hovertemplate": "tipo=El Toni<br>lat=%{lat}<br>lon=%{lon}<extra></extra>",
         "lat": [
          37.378052
         ],
         "legendgroup": "El Toni",
         "lon": [
          -5.9726701
         ],
         "marker": {
          "color": "#FFA15A"
         },
         "mode": "markers",
         "name": "El Toni",
         "showlegend": true,
         "subplot": "mapbox",
         "type": "scattermapbox"
        },
        {
         "hovertemplate": "tipo=Lidl<br>lat=%{lat}<br>lon=%{lon}<extra></extra>",
         "lat": [
          37.3755652,
          37.4033923,
          37.4031917
         ],
         "legendgroup": "Lidl",
         "lon": [
          -5.9994109,
          -5.9693853,
          -5.969346
         ],
         "marker": {
          "color": "#19d3f3"
         },
         "mode": "markers",
         "name": "Lidl",
         "showlegend": true,
         "subplot": "mapbox",
         "type": "scattermapbox"
        },
        {
         "hovertemplate": "tipo=Autoservicio Rosa<br>lat=%{lat}<br>lon=%{lon}<extra></extra>",
         "lat": [
          37.3774904
         ],
         "legendgroup": "Autoservicio Rosa",
         "lon": [
          -6.0129859
         ],
         "marker": {
          "color": "#FF6692"
         },
         "mode": "markers",
         "name": "Autoservicio Rosa",
         "showlegend": true,
         "subplot": "mapbox",
         "type": "scattermapbox"
        },
        {
         "hovertemplate": "tipo=Jamón<br>lat=%{lat}<br>lon=%{lon}<extra></extra>",
         "lat": [
          37.3761087
         ],
         "legendgroup": "Jamón",
         "lon": [
          -5.9474761
         ],
         "marker": {
          "color": "#B6E880"
         },
         "mode": "markers",
         "name": "Jamón",
         "showlegend": true,
         "subplot": "mapbox",
         "type": "scattermapbox"
        },
        {
         "hovertemplate": "tipo=Super Oriental<br>lat=%{lat}<br>lon=%{lon}<extra></extra>",
         "lat": [
          37.3874865
         ],
         "legendgroup": "Super Oriental",
         "lon": [
          -5.9727302
         ],
         "marker": {
          "color": "#FF97FF"
         },
         "mode": "markers",
         "name": "Super Oriental",
         "showlegend": true,
         "subplot": "mapbox",
         "type": "scattermapbox"
        },
        {
         "hovertemplate": "tipo=Supermercado Ecológico.Herboteca<br>lat=%{lat}<br>lon=%{lon}<extra></extra>",
         "lat": [
          37.3819894
         ],
         "legendgroup": "Supermercado Ecológico.Herboteca",
         "lon": [
          -6.0039737
         ],
         "marker": {
          "color": "#FECB52"
         },
         "mode": "markers",
         "name": "Supermercado Ecológico.Herboteca",
         "showlegend": true,
         "subplot": "mapbox",
         "type": "scattermapbox"
        },
        {
         "hovertemplate": "tipo=El Colmado de Pimpi<br>lat=%{lat}<br>lon=%{lon}<extra></extra>",
         "lat": [
          37.3773855
         ],
         "legendgroup": "El Colmado de Pimpi",
         "lon": [
          -5.973638
         ],
         "marker": {
          "color": "#636efa"
         },
         "mode": "markers",
         "name": "El Colmado de Pimpi",
         "showlegend": true,
         "subplot": "mapbox",
         "type": "scattermapbox"
        },
        {
         "hovertemplate": "tipo=ALDI<br>lat=%{lat}<br>lon=%{lon}<extra></extra>",
         "lat": [
          37.3917556,
          37.378475
         ],
         "legendgroup": "ALDI",
         "lon": [
          -5.9804426,
          -5.9993465
         ],
         "marker": {
          "color": "#EF553B"
         },
         "mode": "markers",
         "name": "ALDI",
         "showlegend": true,
         "subplot": "mapbox",
         "type": "scattermapbox"
        },
        {
         "hovertemplate": "tipo=Mas&go<br>lat=%{lat}<br>lon=%{lon}<extra></extra>",
         "lat": [
          37.3945664
         ],
         "legendgroup": "Mas&go",
         "lon": [
          -5.9969563
         ],
         "marker": {
          "color": "#00cc96"
         },
         "mode": "markers",
         "name": "Mas&go",
         "showlegend": true,
         "subplot": "mapbox",
         "type": "scattermapbox"
        },
        {
         "hovertemplate": "tipo=Fresh DIA<br>lat=%{lat}<br>lon=%{lon}<extra></extra>",
         "lat": [
          37.38285
         ],
         "legendgroup": "Fresh DIA",
         "lon": [
          -5.9745482
         ],
         "marker": {
          "color": "#ab63fa"
         },
         "mode": "markers",
         "name": "Fresh DIA",
         "showlegend": true,
         "subplot": "mapbox",
         "type": "scattermapbox"
        },
        {
         "hovertemplate": "tipo=Aldi<br>lat=%{lat}<br>lon=%{lon}<extra></extra>",
         "lat": [
          37.3662625
         ],
         "legendgroup": "Aldi",
         "lon": [
          -5.9988958
         ],
         "marker": {
          "color": "#FFA15A"
         },
         "mode": "markers",
         "name": "Aldi",
         "showlegend": true,
         "subplot": "mapbox",
         "type": "scattermapbox"
        },
        {
         "hovertemplate": "tipo=Supermercado Lin<br>lat=%{lat}<br>lon=%{lon}<extra></extra>",
         "lat": [
          37.372653
         ],
         "legendgroup": "Supermercado Lin",
         "lon": [
          -5.9959523
         ],
         "marker": {
          "color": "#19d3f3"
         },
         "mode": "markers",
         "name": "Supermercado Lin",
         "showlegend": true,
         "subplot": "mapbox",
         "type": "scattermapbox"
        },
        {
         "hovertemplate": "tipo=Supermercado Alameda<br>lat=%{lat}<br>lon=%{lon}<extra></extra>",
         "lat": [
          37.4011565
         ],
         "legendgroup": "Supermercado Alameda",
         "lon": [
          -5.9937657
         ],
         "marker": {
          "color": "#FF6692"
         },
         "mode": "markers",
         "name": "Supermercado Alameda",
         "showlegend": true,
         "subplot": "mapbox",
         "type": "scattermapbox"
        },
        {
         "hovertemplate": "tipo=Supermercado Ecológico Herboteca<br>lat=%{lat}<br>lon=%{lon}<extra></extra>",
         "lat": [
          37.381944
         ],
         "legendgroup": "Supermercado Ecológico Herboteca",
         "lon": [
          -6.0039569
         ],
         "marker": {
          "color": "#B6E880"
         },
         "mode": "markers",
         "name": "Supermercado Ecológico Herboteca",
         "showlegend": true,
         "subplot": "mapbox",
         "type": "scattermapbox"
        },
        {
         "hovertemplate": "tipo=Mezcla - Productos Ecológicos<br>lat=%{lat}<br>lon=%{lon}<extra></extra>",
         "lat": [
          37.3856825
         ],
         "legendgroup": "Mezcla - Productos Ecológicos",
         "lon": [
          -6.0079664
         ],
         "marker": {
          "color": "#FF97FF"
         },
         "mode": "markers",
         "name": "Mezcla - Productos Ecológicos",
         "showlegend": true,
         "subplot": "mapbox",
         "type": "scattermapbox"
        },
        {
         "hovertemplate": "tipo=Suma<br>lat=%{lat}<br>lon=%{lon}<extra></extra>",
         "lat": [
          37.3817904
         ],
         "legendgroup": "Suma",
         "lon": [
          -6.0095526
         ],
         "marker": {
          "color": "#FECB52"
         },
         "mode": "markers",
         "name": "Suma",
         "showlegend": true,
         "subplot": "mapbox",
         "type": "scattermapbox"
        },
        {
         "hovertemplate": "tipo=Carrefour Express<br>lat=%{lat}<br>lon=%{lon}<extra></extra>",
         "lat": [
          37.3717263,
          37.3939738
         ],
         "legendgroup": "Carrefour Express",
         "lon": [
          -5.9827216,
          -5.9926949
         ],
         "marker": {
          "color": "#636efa"
         },
         "mode": "markers",
         "name": "Carrefour Express",
         "showlegend": true,
         "subplot": "mapbox",
         "type": "scattermapbox"
        },
        {
         "hovertemplate": "tipo=Mas&Go<br>lat=%{lat}<br>lon=%{lon}<extra></extra>",
         "lat": [
          37.3716578
         ],
         "legendgroup": "Mas&Go",
         "lon": [
          -5.9822434
         ],
         "marker": {
          "color": "#EF553B"
         },
         "mode": "markers",
         "name": "Mas&Go",
         "showlegend": true,
         "subplot": "mapbox",
         "type": "scattermapbox"
        },
        {
         "hovertemplate": "tipo=MAS & go<br>lat=%{lat}<br>lon=%{lon}<extra></extra>",
         "lat": [
          37.3791269
         ],
         "legendgroup": "MAS & go",
         "lon": [
          -5.9990942
         ],
         "marker": {
          "color": "#00cc96"
         },
         "mode": "markers",
         "name": "MAS & go",
         "showlegend": true,
         "subplot": "mapbox",
         "type": "scattermapbox"
        },
        {
         "hovertemplate": "tipo=Supermercados La Cesta<br>lat=%{lat}<br>lon=%{lon}<extra></extra>",
         "lat": [
          37.3817406
         ],
         "legendgroup": "Supermercados La Cesta",
         "lon": [
          -6.0013333
         ],
         "marker": {
          "color": "#ab63fa"
         },
         "mode": "markers",
         "name": "Supermercados La Cesta",
         "showlegend": true,
         "subplot": "mapbox",
         "type": "scattermapbox"
        },
        {
         "hovertemplate": "tipo=Mercadrink<br>lat=%{lat}<br>lon=%{lon}<extra></extra>",
         "lat": [
          37.407151
         ],
         "legendgroup": "Mercadrink",
         "lon": [
          -5.9609781
         ],
         "marker": {
          "color": "#FFA15A"
         },
         "mode": "markers",
         "name": "Mercadrink",
         "showlegend": true,
         "subplot": "mapbox",
         "type": "scattermapbox"
        },
        {
         "hovertemplate": "tipo=supermercado sur<br>lat=%{lat}<br>lon=%{lon}<extra></extra>",
         "lat": [
          37.3809175
         ],
         "legendgroup": "supermercado sur",
         "lon": [
          -5.973515
         ],
         "marker": {
          "color": "#19d3f3"
         },
         "mode": "markers",
         "name": "supermercado sur",
         "showlegend": true,
         "subplot": "mapbox",
         "type": "scattermapbox"
        },
        {
         "hovertemplate": "tipo=El Corte Ingles<br>lat=%{lat}<br>lon=%{lon}<extra></extra>",
         "lat": [
          37.3934557
         ],
         "legendgroup": "El Corte Ingles",
         "lon": [
          -5.9965176
         ],
         "marker": {
          "color": "#FF6692"
         },
         "mode": "markers",
         "name": "El Corte Ingles",
         "showlegend": true,
         "subplot": "mapbox",
         "type": "scattermapbox"
        },
        {
         "hovertemplate": "tipo=Alimentación Mei Bazar<br>lat=%{lat}<br>lon=%{lon}<extra></extra>",
         "lat": [
          37.3762284
         ],
         "legendgroup": "Alimentación Mei Bazar",
         "lon": [
          -5.9702723
         ],
         "marker": {
          "color": "#B6E880"
         },
         "mode": "markers",
         "name": "Alimentación Mei Bazar",
         "showlegend": true,
         "subplot": "mapbox",
         "type": "scattermapbox"
        },
        {
         "hovertemplate": "tipo=Carrefour<br>lat=%{lat}<br>lon=%{lon}<extra></extra>",
         "lat": [
          37.4186604
         ],
         "legendgroup": "Carrefour",
         "lon": [
          -5.974322
         ],
         "marker": {
          "color": "#FF97FF"
         },
         "mode": "markers",
         "name": "Carrefour",
         "showlegend": true,
         "subplot": "mapbox",
         "type": "scattermapbox"
        },
        {
         "hovertemplate": "tipo=Doña Aceituna<br>lat=%{lat}<br>lon=%{lon}<extra></extra>",
         "lat": [
          37.3998008
         ],
         "legendgroup": "Doña Aceituna",
         "lon": [
          -5.9916412
         ],
         "marker": {
          "color": "#FECB52"
         },
         "mode": "markers",
         "name": "Doña Aceituna",
         "showlegend": true,
         "subplot": "mapbox",
         "type": "scattermapbox"
        },
        {
         "hovertemplate": "tipo=CASH FRESH<br>lat=%{lat}<br>lon=%{lon}<extra></extra>",
         "lat": [
          37.3654498
         ],
         "legendgroup": "CASH FRESH",
         "lon": [
          -5.9832585
         ],
         "marker": {
          "color": "#636efa"
         },
         "mode": "markers",
         "name": "CASH FRESH",
         "showlegend": true,
         "subplot": "mapbox",
         "type": "scattermapbox"
        },
        {
         "hovertemplate": "tipo=Supermercado DIA<br>lat=%{lat}<br>lon=%{lon}<extra></extra>",
         "lat": [
          37.3937347
         ],
         "legendgroup": "Supermercado DIA",
         "lon": [
          -5.9650252
         ],
         "marker": {
          "color": "#EF553B"
         },
         "mode": "markers",
         "name": "Supermercado DIA",
         "showlegend": true,
         "subplot": "mapbox",
         "type": "scattermapbox"
        },
        {
         "hovertemplate": "tipo=Carrefour Expres<br>lat=%{lat}<br>lon=%{lon}<extra></extra>",
         "lat": [
          37.3863398
         ],
         "legendgroup": "Carrefour Expres",
         "lon": [
          -6.0079746
         ],
         "marker": {
          "color": "#00cc96"
         },
         "mode": "markers",
         "name": "Carrefour Expres",
         "showlegend": true,
         "subplot": "mapbox",
         "type": "scattermapbox"
        },
        {
         "hovertemplate": "tipo=CensoredShop<br>lat=%{lat}<br>lon=%{lon}<extra></extra>",
         "lat": [
          37.3849547
         ],
         "legendgroup": "CensoredShop",
         "lon": [
          -5.9613663
         ],
         "marker": {
          "color": "#ab63fa"
         },
         "mode": "markers",
         "name": "CensoredShop",
         "showlegend": true,
         "subplot": "mapbox",
         "type": "scattermapbox"
        },
        {
         "hovertemplate": "tipo=CashFresh<br>lat=%{lat}<br>lon=%{lon}<extra></extra>",
         "lat": [
          37.3807465
         ],
         "legendgroup": "CashFresh",
         "lon": [
          -5.9660787
         ],
         "marker": {
          "color": "#FFA15A"
         },
         "mode": "markers",
         "name": "CashFresh",
         "showlegend": true,
         "subplot": "mapbox",
         "type": "scattermapbox"
        }
       ],
       "layout": {
        "legend": {
         "title": {
          "text": "tipo"
         },
         "tracegroupgap": 0
        },
        "mapbox": {
         "accesstoken": "pk.eyJ1IjoiZGFvcnRpIiwiYSI6ImNrZnF6M3FlczA3cDEyem16YTNzZmV4M2EifQ.846iF0sMSAXv0kwkwUTYjg",
         "center": {
          "lat": 37.38520090792683,
          "lon": -5.981569703658537
         },
         "domain": {
          "x": [
           0,
           1
          ],
          "y": [
           0,
           1
          ]
         },
         "zoom": 11
        },
        "margin": {
         "t": 60
        },
        "template": {
         "data": {
          "bar": [
           {
            "error_x": {
             "color": "#2a3f5f"
            },
            "error_y": {
             "color": "#2a3f5f"
            },
            "marker": {
             "line": {
              "color": "#E5ECF6",
              "width": 0.5
             },
             "pattern": {
              "fillmode": "overlay",
              "size": 10,
              "solidity": 0.2
             }
            },
            "type": "bar"
           }
          ],
          "barpolar": [
           {
            "marker": {
             "line": {
              "color": "#E5ECF6",
              "width": 0.5
             },
             "pattern": {
              "fillmode": "overlay",
              "size": 10,
              "solidity": 0.2
             }
            },
            "type": "barpolar"
           }
          ],
          "carpet": [
           {
            "aaxis": {
             "endlinecolor": "#2a3f5f",
             "gridcolor": "white",
             "linecolor": "white",
             "minorgridcolor": "white",
             "startlinecolor": "#2a3f5f"
            },
            "baxis": {
             "endlinecolor": "#2a3f5f",
             "gridcolor": "white",
             "linecolor": "white",
             "minorgridcolor": "white",
             "startlinecolor": "#2a3f5f"
            },
            "type": "carpet"
           }
          ],
          "choropleth": [
           {
            "colorbar": {
             "outlinewidth": 0,
             "ticks": ""
            },
            "type": "choropleth"
           }
          ],
          "contour": [
           {
            "colorbar": {
             "outlinewidth": 0,
             "ticks": ""
            },
            "colorscale": [
             [
              0,
              "#0d0887"
             ],
             [
              0.1111111111111111,
              "#46039f"
             ],
             [
              0.2222222222222222,
              "#7201a8"
             ],
             [
              0.3333333333333333,
              "#9c179e"
             ],
             [
              0.4444444444444444,
              "#bd3786"
             ],
             [
              0.5555555555555556,
              "#d8576b"
             ],
             [
              0.6666666666666666,
              "#ed7953"
             ],
             [
              0.7777777777777778,
              "#fb9f3a"
             ],
             [
              0.8888888888888888,
              "#fdca26"
             ],
             [
              1,
              "#f0f921"
             ]
            ],
            "type": "contour"
           }
          ],
          "contourcarpet": [
           {
            "colorbar": {
             "outlinewidth": 0,
             "ticks": ""
            },
            "type": "contourcarpet"
           }
          ],
          "heatmap": [
           {
            "colorbar": {
             "outlinewidth": 0,
             "ticks": ""
            },
            "colorscale": [
             [
              0,
              "#0d0887"
             ],
             [
              0.1111111111111111,
              "#46039f"
             ],
             [
              0.2222222222222222,
              "#7201a8"
             ],
             [
              0.3333333333333333,
              "#9c179e"
             ],
             [
              0.4444444444444444,
              "#bd3786"
             ],
             [
              0.5555555555555556,
              "#d8576b"
             ],
             [
              0.6666666666666666,
              "#ed7953"
             ],
             [
              0.7777777777777778,
              "#fb9f3a"
             ],
             [
              0.8888888888888888,
              "#fdca26"
             ],
             [
              1,
              "#f0f921"
             ]
            ],
            "type": "heatmap"
           }
          ],
          "heatmapgl": [
           {
            "colorbar": {
             "outlinewidth": 0,
             "ticks": ""
            },
            "colorscale": [
             [
              0,
              "#0d0887"
             ],
             [
              0.1111111111111111,
              "#46039f"
             ],
             [
              0.2222222222222222,
              "#7201a8"
             ],
             [
              0.3333333333333333,
              "#9c179e"
             ],
             [
              0.4444444444444444,
              "#bd3786"
             ],
             [
              0.5555555555555556,
              "#d8576b"
             ],
             [
              0.6666666666666666,
              "#ed7953"
             ],
             [
              0.7777777777777778,
              "#fb9f3a"
             ],
             [
              0.8888888888888888,
              "#fdca26"
             ],
             [
              1,
              "#f0f921"
             ]
            ],
            "type": "heatmapgl"
           }
          ],
          "histogram": [
           {
            "marker": {
             "pattern": {
              "fillmode": "overlay",
              "size": 10,
              "solidity": 0.2
             }
            },
            "type": "histogram"
           }
          ],
          "histogram2d": [
           {
            "colorbar": {
             "outlinewidth": 0,
             "ticks": ""
            },
            "colorscale": [
             [
              0,
              "#0d0887"
             ],
             [
              0.1111111111111111,
              "#46039f"
             ],
             [
              0.2222222222222222,
              "#7201a8"
             ],
             [
              0.3333333333333333,
              "#9c179e"
             ],
             [
              0.4444444444444444,
              "#bd3786"
             ],
             [
              0.5555555555555556,
              "#d8576b"
             ],
             [
              0.6666666666666666,
              "#ed7953"
             ],
             [
              0.7777777777777778,
              "#fb9f3a"
             ],
             [
              0.8888888888888888,
              "#fdca26"
             ],
             [
              1,
              "#f0f921"
             ]
            ],
            "type": "histogram2d"
           }
          ],
          "histogram2dcontour": [
           {
            "colorbar": {
             "outlinewidth": 0,
             "ticks": ""
            },
            "colorscale": [
             [
              0,
              "#0d0887"
             ],
             [
              0.1111111111111111,
              "#46039f"
             ],
             [
              0.2222222222222222,
              "#7201a8"
             ],
             [
              0.3333333333333333,
              "#9c179e"
             ],
             [
              0.4444444444444444,
              "#bd3786"
             ],
             [
              0.5555555555555556,
              "#d8576b"
             ],
             [
              0.6666666666666666,
              "#ed7953"
             ],
             [
              0.7777777777777778,
              "#fb9f3a"
             ],
             [
              0.8888888888888888,
              "#fdca26"
             ],
             [
              1,
              "#f0f921"
             ]
            ],
            "type": "histogram2dcontour"
           }
          ],
          "mesh3d": [
           {
            "colorbar": {
             "outlinewidth": 0,
             "ticks": ""
            },
            "type": "mesh3d"
           }
          ],
          "parcoords": [
           {
            "line": {
             "colorbar": {
              "outlinewidth": 0,
              "ticks": ""
             }
            },
            "type": "parcoords"
           }
          ],
          "pie": [
           {
            "automargin": true,
            "type": "pie"
           }
          ],
          "scatter": [
           {
            "fillpattern": {
             "fillmode": "overlay",
             "size": 10,
             "solidity": 0.2
            },
            "type": "scatter"
           }
          ],
          "scatter3d": [
           {
            "line": {
             "colorbar": {
              "outlinewidth": 0,
              "ticks": ""
             }
            },
            "marker": {
             "colorbar": {
              "outlinewidth": 0,
              "ticks": ""
             }
            },
            "type": "scatter3d"
           }
          ],
          "scattercarpet": [
           {
            "marker": {
             "colorbar": {
              "outlinewidth": 0,
              "ticks": ""
             }
            },
            "type": "scattercarpet"
           }
          ],
          "scattergeo": [
           {
            "marker": {
             "colorbar": {
              "outlinewidth": 0,
              "ticks": ""
             }
            },
            "type": "scattergeo"
           }
          ],
          "scattergl": [
           {
            "marker": {
             "colorbar": {
              "outlinewidth": 0,
              "ticks": ""
             }
            },
            "type": "scattergl"
           }
          ],
          "scattermapbox": [
           {
            "marker": {
             "colorbar": {
              "outlinewidth": 0,
              "ticks": ""
             }
            },
            "type": "scattermapbox"
           }
          ],
          "scatterpolar": [
           {
            "marker": {
             "colorbar": {
              "outlinewidth": 0,
              "ticks": ""
             }
            },
            "type": "scatterpolar"
           }
          ],
          "scatterpolargl": [
           {
            "marker": {
             "colorbar": {
              "outlinewidth": 0,
              "ticks": ""
             }
            },
            "type": "scatterpolargl"
           }
          ],
          "scatterternary": [
           {
            "marker": {
             "colorbar": {
              "outlinewidth": 0,
              "ticks": ""
             }
            },
            "type": "scatterternary"
           }
          ],
          "surface": [
           {
            "colorbar": {
             "outlinewidth": 0,
             "ticks": ""
            },
            "colorscale": [
             [
              0,
              "#0d0887"
             ],
             [
              0.1111111111111111,
              "#46039f"
             ],
             [
              0.2222222222222222,
              "#7201a8"
             ],
             [
              0.3333333333333333,
              "#9c179e"
             ],
             [
              0.4444444444444444,
              "#bd3786"
             ],
             [
              0.5555555555555556,
              "#d8576b"
             ],
             [
              0.6666666666666666,
              "#ed7953"
             ],
             [
              0.7777777777777778,
              "#fb9f3a"
             ],
             [
              0.8888888888888888,
              "#fdca26"
             ],
             [
              1,
              "#f0f921"
             ]
            ],
            "type": "surface"
           }
          ],
          "table": [
           {
            "cells": {
             "fill": {
              "color": "#EBF0F8"
             },
             "line": {
              "color": "white"
             }
            },
            "header": {
             "fill": {
              "color": "#C8D4E3"
             },
             "line": {
              "color": "white"
             }
            },
            "type": "table"
           }
          ]
         },
         "layout": {
          "annotationdefaults": {
           "arrowcolor": "#2a3f5f",
           "arrowhead": 0,
           "arrowwidth": 1
          },
          "autotypenumbers": "strict",
          "coloraxis": {
           "colorbar": {
            "outlinewidth": 0,
            "ticks": ""
           }
          },
          "colorscale": {
           "diverging": [
            [
             0,
             "#8e0152"
            ],
            [
             0.1,
             "#c51b7d"
            ],
            [
             0.2,
             "#de77ae"
            ],
            [
             0.3,
             "#f1b6da"
            ],
            [
             0.4,
             "#fde0ef"
            ],
            [
             0.5,
             "#f7f7f7"
            ],
            [
             0.6,
             "#e6f5d0"
            ],
            [
             0.7,
             "#b8e186"
            ],
            [
             0.8,
             "#7fbc41"
            ],
            [
             0.9,
             "#4d9221"
            ],
            [
             1,
             "#276419"
            ]
           ],
           "sequential": [
            [
             0,
             "#0d0887"
            ],
            [
             0.1111111111111111,
             "#46039f"
            ],
            [
             0.2222222222222222,
             "#7201a8"
            ],
            [
             0.3333333333333333,
             "#9c179e"
            ],
            [
             0.4444444444444444,
             "#bd3786"
            ],
            [
             0.5555555555555556,
             "#d8576b"
            ],
            [
             0.6666666666666666,
             "#ed7953"
            ],
            [
             0.7777777777777778,
             "#fb9f3a"
            ],
            [
             0.8888888888888888,
             "#fdca26"
            ],
            [
             1,
             "#f0f921"
            ]
           ],
           "sequentialminus": [
            [
             0,
             "#0d0887"
            ],
            [
             0.1111111111111111,
             "#46039f"
            ],
            [
             0.2222222222222222,
             "#7201a8"
            ],
            [
             0.3333333333333333,
             "#9c179e"
            ],
            [
             0.4444444444444444,
             "#bd3786"
            ],
            [
             0.5555555555555556,
             "#d8576b"
            ],
            [
             0.6666666666666666,
             "#ed7953"
            ],
            [
             0.7777777777777778,
             "#fb9f3a"
            ],
            [
             0.8888888888888888,
             "#fdca26"
            ],
            [
             1,
             "#f0f921"
            ]
           ]
          },
          "colorway": [
           "#636efa",
           "#EF553B",
           "#00cc96",
           "#ab63fa",
           "#FFA15A",
           "#19d3f3",
           "#FF6692",
           "#B6E880",
           "#FF97FF",
           "#FECB52"
          ],
          "font": {
           "color": "#2a3f5f"
          },
          "geo": {
           "bgcolor": "white",
           "lakecolor": "white",
           "landcolor": "#E5ECF6",
           "showlakes": true,
           "showland": true,
           "subunitcolor": "white"
          },
          "hoverlabel": {
           "align": "left"
          },
          "hovermode": "closest",
          "mapbox": {
           "style": "light"
          },
          "paper_bgcolor": "white",
          "plot_bgcolor": "#E5ECF6",
          "polar": {
           "angularaxis": {
            "gridcolor": "white",
            "linecolor": "white",
            "ticks": ""
           },
           "bgcolor": "#E5ECF6",
           "radialaxis": {
            "gridcolor": "white",
            "linecolor": "white",
            "ticks": ""
           }
          },
          "scene": {
           "xaxis": {
            "backgroundcolor": "#E5ECF6",
            "gridcolor": "white",
            "gridwidth": 2,
            "linecolor": "white",
            "showbackground": true,
            "ticks": "",
            "zerolinecolor": "white"
           },
           "yaxis": {
            "backgroundcolor": "#E5ECF6",
            "gridcolor": "white",
            "gridwidth": 2,
            "linecolor": "white",
            "showbackground": true,
            "ticks": "",
            "zerolinecolor": "white"
           },
           "zaxis": {
            "backgroundcolor": "#E5ECF6",
            "gridcolor": "white",
            "gridwidth": 2,
            "linecolor": "white",
            "showbackground": true,
            "ticks": "",
            "zerolinecolor": "white"
           }
          },
          "shapedefaults": {
           "line": {
            "color": "#2a3f5f"
           }
          },
          "ternary": {
           "aaxis": {
            "gridcolor": "white",
            "linecolor": "white",
            "ticks": ""
           },
           "baxis": {
            "gridcolor": "white",
            "linecolor": "white",
            "ticks": ""
           },
           "bgcolor": "#E5ECF6",
           "caxis": {
            "gridcolor": "white",
            "linecolor": "white",
            "ticks": ""
           }
          },
          "title": {
           "x": 0.05
          },
          "xaxis": {
           "automargin": true,
           "gridcolor": "white",
           "linecolor": "white",
           "ticks": "",
           "title": {
            "standoff": 15
           },
           "zerolinecolor": "white",
           "zerolinewidth": 2
          },
          "yaxis": {
           "automargin": true,
           "gridcolor": "white",
           "linecolor": "white",
           "ticks": "",
           "title": {
            "standoff": 15
           },
           "zerolinecolor": "white",
           "zerolinewidth": 2
          }
         }
        }
       }
      }
     },
     "metadata": {},
     "output_type": "display_data"
    }
   ],
   "source": [
    "pinta_mapa(df_super)\n"
   ]
  }
 ],
 "metadata": {
  "kernelspec": {
   "display_name": "Python 3.7.4 64-bit",
   "language": "python",
   "name": "python3"
  },
  "language_info": {
   "codemirror_mode": {
    "name": "ipython",
    "version": 3
   },
   "file_extension": ".py",
   "mimetype": "text/x-python",
   "name": "python",
   "nbconvert_exporter": "python",
   "pygments_lexer": "ipython3",
   "version": "3.7.4"
  },
  "vscode": {
   "interpreter": {
    "hash": "b00c257d8044ebdf3de0db553b92a3dd43b22b3b5ac011b6e6d9354f099532d2"
   }
  }
 },
 "nbformat": 4,
 "nbformat_minor": 4
}
