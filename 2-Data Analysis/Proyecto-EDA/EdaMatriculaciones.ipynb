{
 "cells": [
  {
   "cell_type": "markdown",
   "metadata": {},
   "source": [
    "# **Cargando los diferentes CSV que vamos a usar en el proyecto EDA**"
   ]
  },
  {
   "cell_type": "markdown",
   "metadata": {},
   "source": [
    "**Primero cargare los CSV correspondientes a los datos de las matriculaciones por comunidades autonomas de los años 2017 a 2021**"
   ]
  },
  {
   "cell_type": "code",
   "execution_count": 1,
   "metadata": {},
   "outputs": [],
   "source": [
    "import pandas as pd\n",
    "import numpy as np\n",
    "import seaborn as sns\n",
    "import matplotlib.pyplot as plt"
   ]
  },
  {
   "cell_type": "markdown",
   "metadata": {},
   "source": [
    "Para facilitar la comprensión y no poner nombres de variables muy largos en este primer caso he decidido acortar Comunidad Autónoma como Ca, posteriormente poner el año del documento. "
   ]
  },
  {
   "cell_type": "code",
   "execution_count": 2,
   "metadata": {},
   "outputs": [],
   "source": [
    "Ca2017 = pd.read_csv('C:\\\\Users\\\\lopez\\\\OneDrive\\\\Escritorio\\\\CTBPush\\\\TheBrigde2022\\\\2-Data Analysis\\\\Proyecto-EDA\\\\CSV vehiculos\\\\CA\\\\Matriculaciones2017CA.csv', sep=';')\n",
    "Ca2018 = pd.read_csv('C:\\\\Users\\\\lopez\\\\OneDrive\\\\Escritorio\\\\CTBPush\\\\TheBrigde2022\\\\2-Data Analysis\\\\Proyecto-EDA\\\\CSV vehiculos\\\\CA\\\\Matriculaciones2018CA.csv', sep=';')\n",
    "Ca2019 = pd.read_csv('C:\\\\Users\\\\lopez\\\\OneDrive\\\\Escritorio\\\\CTBPush\\\\TheBrigde2022\\\\2-Data Analysis\\\\Proyecto-EDA\\\\CSV vehiculos\\\\CA\\\\Matriculaciones2019CA.csv', sep=';')\n",
    "Ca2020 = pd.read_csv('C:\\\\Users\\\\lopez\\\\OneDrive\\\\Escritorio\\\\CTBPush\\\\TheBrigde2022\\\\2-Data Analysis\\\\Proyecto-EDA\\\\CSV vehiculos\\\\CA\\\\Matriculaciones2020CA.csv', sep=';')\n",
    "Ca2021 = pd.read_csv('C:\\\\Users\\\\lopez\\\\OneDrive\\\\Escritorio\\\\CTBPush\\\\TheBrigde2022\\\\2-Data Analysis\\\\Proyecto-EDA\\\\CSV vehiculos\\\\CA\\\\Matriculaciones2021CA.csv', sep=';')"
   ]
  },
  {
   "cell_type": "markdown",
   "metadata": {},
   "source": [
    "**Voy a cargar los csv correspondientes a las matriculaciones por meses de los años 2017 a 2021**"
   ]
  },
  {
   "cell_type": "markdown",
   "metadata": {},
   "source": [
    "Para facilitar la comprensión al igual que en el apartado anterior usare de nombre de las variables meses, seguidos del año del documento."
   ]
  },
  {
   "cell_type": "code",
   "execution_count": 3,
   "metadata": {},
   "outputs": [],
   "source": [
    "meses2017 = pd.read_csv('C:\\\\Users\\\\lopez\\\\OneDrive\\\\Escritorio\\\\CTBPush\\\\TheBrigde2022\\\\2-Data Analysis\\\\Proyecto-EDA\\\\CSV vehiculos\\\\Meses\\\\Matriculaciones2017meses.csv', on_bad_lines='skip', sep=';')\n",
    "meses2018 = pd.read_csv('C:\\\\Users\\\\lopez\\\\OneDrive\\\\Escritorio\\\\CTBPush\\\\TheBrigde2022\\\\2-Data Analysis\\\\Proyecto-EDA\\\\CSV vehiculos\\\\Meses\\\\Matriculaciones2018meses.csv', on_bad_lines='skip', sep=';')\n",
    "meses2019 = pd.read_csv('C:\\\\Users\\\\lopez\\\\OneDrive\\\\Escritorio\\\\CTBPush\\\\TheBrigde2022\\\\2-Data Analysis\\\\Proyecto-EDA\\\\CSV vehiculos\\\\Meses\\\\Matriculaciones2019meses.csv', on_bad_lines='skip', sep=';')\n",
    "meses2020 = pd.read_csv('C:\\\\Users\\\\lopez\\\\OneDrive\\\\Escritorio\\\\CTBPush\\\\TheBrigde2022\\\\2-Data Analysis\\\\Proyecto-EDA\\\\CSV vehiculos\\\\Meses\\\\Matriculaciones2020meses.csv', on_bad_lines='skip', sep=';')\n",
    "meses2021 = pd.read_csv('C:\\\\Users\\\\lopez\\\\OneDrive\\\\Escritorio\\\\CTBPush\\\\TheBrigde2022\\\\2-Data Analysis\\\\Proyecto-EDA\\\\CSV vehiculos\\\\Meses\\\\Matriculaciones2021meses.csv', on_bad_lines='skip', sep=';')\n"
   ]
  },
  {
   "cell_type": "markdown",
   "metadata": {},
   "source": [
    "**A continuación voy a cargar los csv correspondientes a la matriculaciones de motocicletas de los años 2017 a 2021**"
   ]
  },
  {
   "cell_type": "markdown",
   "metadata": {},
   "source": [
    "Al igual que en los apartados anteriores voy a usar una acortacion en las variables usando moto, seguido del año del documento. "
   ]
  },
  {
   "cell_type": "code",
   "execution_count": 4,
   "metadata": {},
   "outputs": [],
   "source": [
    "moto2017 = pd.read_csv('C:\\\\Users\\\\lopez\\\\OneDrive\\\\Escritorio\\\\CTBPush\\\\TheBrigde2022\\\\2-Data Analysis\\\\Proyecto-EDA\\\\CSV vehiculos\\\\Motocicletas\\\\Matriculaciones2017Motocicleta.csv', sep=';')\n",
    "moto2018 = pd.read_csv('C:\\\\Users\\\\lopez\\\\OneDrive\\\\Escritorio\\\\CTBPush\\\\TheBrigde2022\\\\2-Data Analysis\\\\Proyecto-EDA\\\\CSV vehiculos\\\\Motocicletas\\\\Matriculaciones2018Motocicleta.csv', sep=';')\n",
    "moto2019 = pd.read_csv('C:\\\\Users\\\\lopez\\\\OneDrive\\\\Escritorio\\\\CTBPush\\\\TheBrigde2022\\\\2-Data Analysis\\\\Proyecto-EDA\\\\CSV vehiculos\\\\Motocicletas\\\\Matriculaciones2019Motocicleta.csv', sep=';')\n",
    "moto2020 = pd.read_csv('C:\\\\Users\\\\lopez\\\\OneDrive\\\\Escritorio\\\\CTBPush\\\\TheBrigde2022\\\\2-Data Analysis\\\\Proyecto-EDA\\\\CSV vehiculos\\\\Motocicletas\\\\Matriculaciones2020Motocicleta.csv', sep=';')\n",
    "moto2021 = pd.read_csv('C:\\\\Users\\\\lopez\\\\OneDrive\\\\Escritorio\\\\CTBPush\\\\TheBrigde2022\\\\2-Data Analysis\\\\Proyecto-EDA\\\\CSV vehiculos\\\\Motocicletas\\\\Matriculaciones2021Motocicleta.csv', sep=';')"
   ]
  },
  {
   "cell_type": "markdown",
   "metadata": {},
   "source": [
    "**Por último voy a cargar los csv de las matriculaciones de turismos de los años 2017 a 2021** "
   ]
  },
  {
   "cell_type": "markdown",
   "metadata": {},
   "source": [
    "Voy a usar la acortación de Tu en las variables en vez de turismos, seguido del año al que corresponde el documento. "
   ]
  },
  {
   "cell_type": "code",
   "execution_count": 5,
   "metadata": {},
   "outputs": [],
   "source": [
    "Tu2017 = pd.read_csv('C:\\\\Users\\\\lopez\\\\OneDrive\\\\Escritorio\\\\CTBPush\\\\TheBrigde2022\\\\2-Data Analysis\\\\Proyecto-EDA\\\\CSV vehiculos\\\\Turismos\\\\Matriculaciones2017Turismo.csv', sep=';')\n",
    "Tu2018 = pd.read_csv('C:\\\\Users\\\\lopez\\\\OneDrive\\\\Escritorio\\\\CTBPush\\\\TheBrigde2022\\\\2-Data Analysis\\\\Proyecto-EDA\\\\CSV vehiculos\\\\Turismos\\\\Matriculaciones2018Turismo.csv', sep=';')\n",
    "Tu2019 = pd.read_csv('C:\\\\Users\\\\lopez\\\\OneDrive\\\\Escritorio\\\\CTBPush\\\\TheBrigde2022\\\\2-Data Analysis\\\\Proyecto-EDA\\\\CSV vehiculos\\\\Turismos\\\\Matriculaciones2019Turismo.csv', sep=';')\n",
    "Tu2020 = pd.read_csv('C:\\\\Users\\\\lopez\\\\OneDrive\\\\Escritorio\\\\CTBPush\\\\TheBrigde2022\\\\2-Data Analysis\\\\Proyecto-EDA\\\\CSV vehiculos\\\\Turismos\\\\Matriculaciones2020Turismo.csv', sep=';')\n",
    "Tu2021 = pd.read_csv('C:\\\\Users\\\\lopez\\\\OneDrive\\\\Escritorio\\\\CTBPush\\\\TheBrigde2022\\\\2-Data Analysis\\\\Proyecto-EDA\\\\CSV vehiculos\\\\Turismos\\\\Matriculaciones2021Turismo.csv', sep=';')\n"
   ]
  },
  {
   "attachments": {},
   "cell_type": "markdown",
   "metadata": {},
   "source": [
    "# **Creación de los Dataframe**"
   ]
  },
  {
   "attachments": {},
   "cell_type": "markdown",
   "metadata": {},
   "source": [
    "**Los iré creando por separado, según los distintos csv, los primeros serán los referentes a las Comunidades Autónomas.**"
   ]
  },
  {
   "attachments": {},
   "cell_type": "markdown",
   "metadata": {},
   "source": [
    "Para ello usare la acortación de Cat seguido del año pare hacer referencia a dichos csv con sus correspondientes variables. Añadire una columna con los años correspondientes al dataframe. "
   ]
  },
  {
   "cell_type": "code",
   "execution_count": 8,
   "metadata": {},
   "outputs": [],
   "source": [
    "Cat2017 = pd.DataFrame(Ca2017)\n",
    "Cat2017['anios']=2017\n",
    "Cat2018 = pd.DataFrame(Ca2018)\n",
    "Cat2018['anios']=2018\n",
    "Cat2019 = pd.DataFrame(Ca2019)\n",
    "Cat2019['anios']=2019\n",
    "Cat2020 = pd.DataFrame(Ca2020)\n",
    "Cat2020['anios']=2020\n",
    "Cat2021 = pd.DataFrame(Ca2021)\n",
    "Cat2021['anios']=2021\n",
    "\n"
   ]
  },
  {
   "attachments": {},
   "cell_type": "markdown",
   "metadata": {},
   "source": [
    "Para la creación de los dataframes correspondientes a las matriculaciones de los meses, usare la letra Me junto al año para nombrarlas. "
   ]
  },
  {
   "cell_type": "code",
   "execution_count": 10,
   "metadata": {},
   "outputs": [],
   "source": [
    "Me2017 = pd.DataFrame(meses2017)\n",
    "Me2017['anios']=2017\n",
    "Me2018 = pd.DataFrame(meses2018)\n",
    "Me2018['anios']=2018\n",
    "Me2019 = pd.DataFrame(meses2019)\n",
    "Me2019['anios']=2019\n",
    "Me2020 = pd.DataFrame(meses2020)\n",
    "Me2020['anios']=2020\n",
    "Me2021 = pd.DataFrame(meses2021)\n",
    "Me2021['anios']=2021"
   ]
  },
  {
   "attachments": {},
   "cell_type": "markdown",
   "metadata": {},
   "source": [
    "Para la creación de los dataframes relativos a las matriculaciones de las motocicletas usaré la acortación Mo seguido del año. "
   ]
  },
  {
   "cell_type": "code",
   "execution_count": 12,
   "metadata": {},
   "outputs": [],
   "source": [
    "Mo2017 = pd.DataFrame(moto2017)\n",
    "Mo2017['anios']=2017\n",
    "Mo2018 = pd.DataFrame(moto2018)\n",
    "Mo2018['anios']=2018\n",
    "Mo2019 = pd.DataFrame(moto2019)\n",
    "Mo2019['anios']=2019\n",
    "Mo2020 = pd.DataFrame(moto2020)\n",
    "Mo2020['anios']=2020\n",
    "Mo2021 = pd.DataFrame(moto2021)\n",
    "Mo2021['anios']=2021"
   ]
  },
  {
   "attachments": {},
   "cell_type": "markdown",
   "metadata": {},
   "source": [
    "Para la creación de los dataframes relacionados a las matriculaciones de los turismos, usaré la acortación Tur seguido del año. \n"
   ]
  },
  {
   "cell_type": "code",
   "execution_count": 13,
   "metadata": {},
   "outputs": [],
   "source": [
    "Tur2017 = pd.DataFrame(Tu2017)\n",
    "Tur2017['anios']=2017\n",
    "Tur2018 = pd.DataFrame(Tu2018)\n",
    "Tur2018['anios']=2018\n",
    "Tur2019 = pd.DataFrame(Tu2019)\n",
    "Tur2019['anios']=2019\n",
    "Tur2020 = pd.DataFrame(Tu2020)\n",
    "Tur2020['anios']=2020\n",
    "Tur2021 = pd.DataFrame(Tu2021)\n",
    "Tur2021['anios']=2021"
   ]
  },
  {
   "cell_type": "markdown",
   "metadata": {},
   "source": []
  },
  {
   "attachments": {},
   "cell_type": "markdown",
   "metadata": {},
   "source": [
    "# **Voy a proceder a concatenar los diferentes Dataframes de matriculaciones de Comunidades Autónomas, meses, motocicletas y turismos.**"
   ]
  },
  {
   "cell_type": "code",
   "execution_count": null,
   "metadata": {},
   "outputs": [],
   "source": []
  }
 ],
 "metadata": {
  "kernelspec": {
   "display_name": "Python 3.7.4 64-bit",
   "language": "python",
   "name": "python3"
  },
  "language_info": {
   "codemirror_mode": {
    "name": "ipython",
    "version": 3
   },
   "file_extension": ".py",
   "mimetype": "text/x-python",
   "name": "python",
   "nbconvert_exporter": "python",
   "pygments_lexer": "ipython3",
   "version": "3.7.4"
  },
  "orig_nbformat": 4,
  "vscode": {
   "interpreter": {
    "hash": "b00c257d8044ebdf3de0db553b92a3dd43b22b3b5ac011b6e6d9354f099532d2"
   }
  }
 },
 "nbformat": 4,
 "nbformat_minor": 2
}
