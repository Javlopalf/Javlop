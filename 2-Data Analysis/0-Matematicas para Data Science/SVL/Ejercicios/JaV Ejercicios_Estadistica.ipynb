{
 "cells": [
  {
   "cell_type": "markdown",
   "metadata": {},
   "source": [
    "# Ejercicios de Estadística Descriptiva"
   ]
  },
  {
   "cell_type": "markdown",
   "metadata": {},
   "source": [
    "## Univariante"
   ]
  },
  {
   "cell_type": "markdown",
   "metadata": {},
   "source": [
    "# Ejercicio 1\n",
    "\n",
    "Las cifras dadas en la tabla adjunta corresponden a miligramos de hidroxiprolina absorbidos por 1 miligramo de masa intestinal, analizados en distintos pacientes:\n",
    "\n",
    "| hidroxipolina (mg) | 77.3 | 61.2 | 82.4 | 75.9 | 61 | 70.2 | 65 | 80 |\n",
    "|--------------------|------|------|------|------|----|------|----|----|\n",
    "| nº pacientes       | 3    | 10   | 15   | 13   | 8  | 5    | 2  | 0  |\n",
    "\n",
    "Se pide:\n",
    "\n",
    "1. Confeccionar la tabla de frecuencias.\n",
    "2. Calcular la media, mediana, moda y cuartiles.\n",
    "3. Calcular la desviación típica de la muestra.\n",
    "4. ¿Qué porcentaje de observaciones se concentra en el intervalo $(x −5\\sigma,x +5\\sigma)$?"
   ]
  },
  {
   "cell_type": "code",
   "execution_count": 2,
   "metadata": {},
   "outputs": [
    {
     "name": "stdout",
     "output_type": "stream",
     "text": [
      "    X_i  n_i\n",
      "4  61.0    8\n",
      "1  61.2   10\n",
      "6  65.0    2\n",
      "5  70.2    5\n",
      "3  75.9   13\n",
      "0  77.3    3\n",
      "7  80.0    0\n",
      "2  82.4   15\n"
     ]
    }
   ],
   "source": [
    "hidrox = [77.3, 61.2,82.4,75.9, 61,70.2,65,80]\n",
    "pacientes = [3,10,15,13,8,5,2,0]\n",
    "\n",
    "tabla = pd.DataFrame({\"X_i\": hidrox, \"n_i\": pacientes})\n",
    "tabla = tabla.sort_values(\"X_i\")\n",
    "\n",
    "\n",
    "print(tabla)"
   ]
  },
  {
   "cell_type": "code",
   "execution_count": 1,
   "metadata": {},
   "outputs": [],
   "source": [
    "import pandas as pd\n",
    "import numpy as np"
   ]
  },
  {
   "cell_type": "code",
   "execution_count": 54,
   "metadata": {},
   "outputs": [
    {
     "name": "stdout",
     "output_type": "stream",
     "text": [
      "    X_i  n_i  N_i\n",
      "0  77.3    3    3\n",
      "1  61.2   10   13\n",
      "2  82.4   15   28\n",
      "3  75.9   13   41\n",
      "4  61.0    8   49\n",
      "5  70.2    5   54\n",
      "6  65.0    2   56\n",
      "7  80.0    0   56\n"
     ]
    }
   ],
   "source": [
    "tabla[\"N_i\"] = tabla[\"n_i\"].cumsum()\n",
    "print(tabla)\n",
    "\n",
    "tabla[\"f_i\"] = tabla[\"n_i\"] / tabla[\"n_i\"].sum()\n",
    "tabla[\"f_i(%)\"] = tabla[\"f_i\"] * 100\n",
    "\n"
   ]
  },
  {
   "cell_type": "code",
   "execution_count": 55,
   "metadata": {},
   "outputs": [
    {
     "name": "stdout",
     "output_type": "stream",
     "text": [
      "    X_i  n_i  N_i       f_i     f_i(%)\n",
      "0  77.3    3    3  0.053571   5.357143\n",
      "1  61.2   10   13  0.178571  17.857143\n",
      "2  82.4   15   28  0.267857  26.785714\n",
      "3  75.9   13   41  0.232143  23.214286\n",
      "4  61.0    8   49  0.142857  14.285714\n",
      "5  70.2    5   54  0.089286   8.928571\n",
      "6  65.0    2   56  0.035714   3.571429\n",
      "7  80.0    0   56  0.000000   0.000000\n"
     ]
    }
   ],
   "source": [
    "tabla[\"f_i\"] = tabla[\"n_i\"] / tabla[\"n_i\"].sum()\n",
    "tabla[\"f_i(%)\"] = tabla[\"f_i\"] * 100\n",
    "\n",
    "print(tabla)"
   ]
  },
  {
   "cell_type": "code",
   "execution_count": 56,
   "metadata": {},
   "outputs": [
    {
     "name": "stdout",
     "output_type": "stream",
     "text": [
      "    X_i  n_i  N_i       f_i     f_i(%)       F_i     F_i (%)\n",
      "0  77.3    3    3  0.053571   5.357143  0.053571    5.357143\n",
      "1  61.2   10   13  0.178571  17.857143  0.232143   23.214286\n",
      "2  82.4   15   28  0.267857  26.785714  0.500000   50.000000\n",
      "3  75.9   13   41  0.232143  23.214286  0.732143   73.214286\n",
      "4  61.0    8   49  0.142857  14.285714  0.875000   87.500000\n",
      "5  70.2    5   54  0.089286   8.928571  0.964286   96.428571\n",
      "6  65.0    2   56  0.035714   3.571429  1.000000  100.000000\n",
      "7  80.0    0   56  0.000000   0.000000  1.000000  100.000000\n"
     ]
    }
   ],
   "source": [
    "tabla[\"F_i\"] = tabla[\"f_i\"].cumsum()\n",
    "tabla[\"F_i (%)\"] = tabla[\"f_i(%)\"].cumsum()\n",
    "\n",
    "print(tabla)"
   ]
  },
  {
   "cell_type": "code",
   "execution_count": 57,
   "metadata": {},
   "outputs": [
    {
     "data": {
      "text/plain": [
       "X_i        82.400000\n",
       "n_i        15.000000\n",
       "N_i        28.000000\n",
       "f_i         0.267857\n",
       "f_i(%)     26.785714\n",
       "F_i         0.500000\n",
       "F_i (%)    50.000000\n",
       "Name: 2, dtype: float64"
      ]
     },
     "execution_count": 57,
     "metadata": {},
     "output_type": "execute_result"
    }
   ],
   "source": [
    "tabla[tabla['F_i'] >= 0.5].iloc[0]"
   ]
  },
  {
   "cell_type": "code",
   "execution_count": 58,
   "metadata": {},
   "outputs": [
    {
     "name": "stdout",
     "output_type": "stream",
     "text": [
      "72.06428571428572\n"
     ]
    }
   ],
   "source": [
    "media = sum([x * y for x, y in zip(hidrox, pacientes)]) / sum(pacientes)\n",
    "print(format(media))"
   ]
  },
  {
   "cell_type": "code",
   "execution_count": 5,
   "metadata": {},
   "outputs": [
    {
     "ename": "KeyError",
     "evalue": "'F_i'",
     "output_type": "error",
     "traceback": [
      "\u001b[1;31m---------------------------------------------------------------------------\u001b[0m",
      "\u001b[1;31mKeyError\u001b[0m                                  Traceback (most recent call last)",
      "\u001b[1;32mc:\\Users\\lopez\\AppData\\Local\\Programs\\Python\\Python37\\lib\\site-packages\\pandas\\core\\indexes\\base.py\u001b[0m in \u001b[0;36mget_loc\u001b[1;34m(self, key, method, tolerance)\u001b[0m\n\u001b[0;32m   3360\u001b[0m             \u001b[1;32mtry\u001b[0m\u001b[1;33m:\u001b[0m\u001b[1;33m\u001b[0m\u001b[1;33m\u001b[0m\u001b[0m\n\u001b[1;32m-> 3361\u001b[1;33m                 \u001b[1;32mreturn\u001b[0m \u001b[0mself\u001b[0m\u001b[1;33m.\u001b[0m\u001b[0m_engine\u001b[0m\u001b[1;33m.\u001b[0m\u001b[0mget_loc\u001b[0m\u001b[1;33m(\u001b[0m\u001b[0mcasted_key\u001b[0m\u001b[1;33m)\u001b[0m\u001b[1;33m\u001b[0m\u001b[1;33m\u001b[0m\u001b[0m\n\u001b[0m\u001b[0;32m   3362\u001b[0m             \u001b[1;32mexcept\u001b[0m \u001b[0mKeyError\u001b[0m \u001b[1;32mas\u001b[0m \u001b[0merr\u001b[0m\u001b[1;33m:\u001b[0m\u001b[1;33m\u001b[0m\u001b[1;33m\u001b[0m\u001b[0m\n",
      "\u001b[1;32mc:\\Users\\lopez\\AppData\\Local\\Programs\\Python\\Python37\\lib\\site-packages\\pandas\\_libs\\index.pyx\u001b[0m in \u001b[0;36mpandas._libs.index.IndexEngine.get_loc\u001b[1;34m()\u001b[0m\n",
      "\u001b[1;32mc:\\Users\\lopez\\AppData\\Local\\Programs\\Python\\Python37\\lib\\site-packages\\pandas\\_libs\\index.pyx\u001b[0m in \u001b[0;36mpandas._libs.index.IndexEngine.get_loc\u001b[1;34m()\u001b[0m\n",
      "\u001b[1;32mpandas\\_libs\\hashtable_class_helper.pxi\u001b[0m in \u001b[0;36mpandas._libs.hashtable.PyObjectHashTable.get_item\u001b[1;34m()\u001b[0m\n",
      "\u001b[1;32mpandas\\_libs\\hashtable_class_helper.pxi\u001b[0m in \u001b[0;36mpandas._libs.hashtable.PyObjectHashTable.get_item\u001b[1;34m()\u001b[0m\n",
      "\u001b[1;31mKeyError\u001b[0m: 'F_i'",
      "\nThe above exception was the direct cause of the following exception:\n",
      "\u001b[1;31mKeyError\u001b[0m                                  Traceback (most recent call last)",
      "\u001b[1;32m~\\AppData\\Local\\Temp\\ipykernel_1576\\153131030.py\u001b[0m in \u001b[0;36m<module>\u001b[1;34m\u001b[0m\n\u001b[1;32m----> 1\u001b[1;33m \u001b[0mmedian\u001b[0m \u001b[1;33m=\u001b[0m \u001b[0mtabla\u001b[0m\u001b[1;33m[\u001b[0m\u001b[0mtabla\u001b[0m\u001b[1;33m[\u001b[0m\u001b[1;34m'F_i'\u001b[0m\u001b[1;33m]\u001b[0m \u001b[1;33m>=\u001b[0m \u001b[1;36m0.5\u001b[0m\u001b[1;33m]\u001b[0m\u001b[1;33m.\u001b[0m\u001b[0miloc\u001b[0m\u001b[1;33m[\u001b[0m\u001b[1;36m0\u001b[0m\u001b[1;33m,\u001b[0m\u001b[1;36m0\u001b[0m\u001b[1;33m]\u001b[0m\u001b[1;33m\u001b[0m\u001b[1;33m\u001b[0m\u001b[0m\n\u001b[0m\u001b[0;32m      2\u001b[0m \u001b[0mprint\u001b[0m\u001b[1;33m(\u001b[0m\u001b[0mmedian\u001b[0m\u001b[1;33m)\u001b[0m\u001b[1;33m\u001b[0m\u001b[1;33m\u001b[0m\u001b[0m\n",
      "\u001b[1;32mc:\\Users\\lopez\\AppData\\Local\\Programs\\Python\\Python37\\lib\\site-packages\\pandas\\core\\frame.py\u001b[0m in \u001b[0;36m__getitem__\u001b[1;34m(self, key)\u001b[0m\n\u001b[0;32m   3456\u001b[0m             \u001b[1;32mif\u001b[0m \u001b[0mself\u001b[0m\u001b[1;33m.\u001b[0m\u001b[0mcolumns\u001b[0m\u001b[1;33m.\u001b[0m\u001b[0mnlevels\u001b[0m \u001b[1;33m>\u001b[0m \u001b[1;36m1\u001b[0m\u001b[1;33m:\u001b[0m\u001b[1;33m\u001b[0m\u001b[1;33m\u001b[0m\u001b[0m\n\u001b[0;32m   3457\u001b[0m                 \u001b[1;32mreturn\u001b[0m \u001b[0mself\u001b[0m\u001b[1;33m.\u001b[0m\u001b[0m_getitem_multilevel\u001b[0m\u001b[1;33m(\u001b[0m\u001b[0mkey\u001b[0m\u001b[1;33m)\u001b[0m\u001b[1;33m\u001b[0m\u001b[1;33m\u001b[0m\u001b[0m\n\u001b[1;32m-> 3458\u001b[1;33m             \u001b[0mindexer\u001b[0m \u001b[1;33m=\u001b[0m \u001b[0mself\u001b[0m\u001b[1;33m.\u001b[0m\u001b[0mcolumns\u001b[0m\u001b[1;33m.\u001b[0m\u001b[0mget_loc\u001b[0m\u001b[1;33m(\u001b[0m\u001b[0mkey\u001b[0m\u001b[1;33m)\u001b[0m\u001b[1;33m\u001b[0m\u001b[1;33m\u001b[0m\u001b[0m\n\u001b[0m\u001b[0;32m   3459\u001b[0m             \u001b[1;32mif\u001b[0m \u001b[0mis_integer\u001b[0m\u001b[1;33m(\u001b[0m\u001b[0mindexer\u001b[0m\u001b[1;33m)\u001b[0m\u001b[1;33m:\u001b[0m\u001b[1;33m\u001b[0m\u001b[1;33m\u001b[0m\u001b[0m\n\u001b[0;32m   3460\u001b[0m                 \u001b[0mindexer\u001b[0m \u001b[1;33m=\u001b[0m \u001b[1;33m[\u001b[0m\u001b[0mindexer\u001b[0m\u001b[1;33m]\u001b[0m\u001b[1;33m\u001b[0m\u001b[1;33m\u001b[0m\u001b[0m\n",
      "\u001b[1;32mc:\\Users\\lopez\\AppData\\Local\\Programs\\Python\\Python37\\lib\\site-packages\\pandas\\core\\indexes\\base.py\u001b[0m in \u001b[0;36mget_loc\u001b[1;34m(self, key, method, tolerance)\u001b[0m\n\u001b[0;32m   3361\u001b[0m                 \u001b[1;32mreturn\u001b[0m \u001b[0mself\u001b[0m\u001b[1;33m.\u001b[0m\u001b[0m_engine\u001b[0m\u001b[1;33m.\u001b[0m\u001b[0mget_loc\u001b[0m\u001b[1;33m(\u001b[0m\u001b[0mcasted_key\u001b[0m\u001b[1;33m)\u001b[0m\u001b[1;33m\u001b[0m\u001b[1;33m\u001b[0m\u001b[0m\n\u001b[0;32m   3362\u001b[0m             \u001b[1;32mexcept\u001b[0m \u001b[0mKeyError\u001b[0m \u001b[1;32mas\u001b[0m \u001b[0merr\u001b[0m\u001b[1;33m:\u001b[0m\u001b[1;33m\u001b[0m\u001b[1;33m\u001b[0m\u001b[0m\n\u001b[1;32m-> 3363\u001b[1;33m                 \u001b[1;32mraise\u001b[0m \u001b[0mKeyError\u001b[0m\u001b[1;33m(\u001b[0m\u001b[0mkey\u001b[0m\u001b[1;33m)\u001b[0m \u001b[1;32mfrom\u001b[0m \u001b[0merr\u001b[0m\u001b[1;33m\u001b[0m\u001b[1;33m\u001b[0m\u001b[0m\n\u001b[0m\u001b[0;32m   3364\u001b[0m \u001b[1;33m\u001b[0m\u001b[0m\n\u001b[0;32m   3365\u001b[0m         \u001b[1;32mif\u001b[0m \u001b[0mis_scalar\u001b[0m\u001b[1;33m(\u001b[0m\u001b[0mkey\u001b[0m\u001b[1;33m)\u001b[0m \u001b[1;32mand\u001b[0m \u001b[0misna\u001b[0m\u001b[1;33m(\u001b[0m\u001b[0mkey\u001b[0m\u001b[1;33m)\u001b[0m \u001b[1;32mand\u001b[0m \u001b[1;32mnot\u001b[0m \u001b[0mself\u001b[0m\u001b[1;33m.\u001b[0m\u001b[0mhasnans\u001b[0m\u001b[1;33m:\u001b[0m\u001b[1;33m\u001b[0m\u001b[1;33m\u001b[0m\u001b[0m\n",
      "\u001b[1;31mKeyError\u001b[0m: 'F_i'"
     ]
    }
   ],
   "source": [
    "median = tabla[tabla['F_i'] >= 0.5].iloc[0,0]\n",
    "print(median)"
   ]
  },
  {
   "cell_type": "code",
   "execution_count": 60,
   "metadata": {},
   "outputs": [
    {
     "name": "stdout",
     "output_type": "stream",
     "text": [
      "[82.4]\n"
     ]
    }
   ],
   "source": [
    "moda = tabla[\"X_i\"][tabla[\"n_i\"]==tabla[\"n_i\"].max()].values\n",
    "\n",
    "print(moda)\n"
   ]
  },
  {
   "cell_type": "code",
   "execution_count": 61,
   "metadata": {},
   "outputs": [
    {
     "name": "stdout",
     "output_type": "stream",
     "text": [
      "82.4\n",
      "82.4\n",
      "61.0\n"
     ]
    }
   ],
   "source": [
    "q1 = tabla[tabla['F_i'] >= 0.25].iloc[0, 0]\n",
    "print(q1)\n",
    "\n",
    "q2 = tabla[tabla['F_i'] >= 0.50].iloc[0, 0]\n",
    "print(q2)\n",
    "\n",
    "q3 = tabla[tabla['F_i'] >= 0.75].iloc[0, 0]\n",
    "print(q3)"
   ]
  },
  {
   "cell_type": "code",
   "execution_count": 62,
   "metadata": {},
   "outputs": [
    {
     "name": "stdout",
     "output_type": "stream",
     "text": [
      "0      82.238112\n",
      "1    1180.327041\n",
      "2    1602.404847\n",
      "3     191.265153\n",
      "4     979.347347\n",
      "5      17.377806\n",
      "6      99.808265\n",
      "7       0.000000\n",
      "dtype: float64\n",
      "74.15658163265309\n",
      "8.611421580241737\n"
     ]
    }
   ],
   "source": [
    "desviaciones = ((tabla[\"X_i\"] - media)**2) * tabla[\"n_i\"]\n",
    "var = desviaciones.sum() / tabla[\"N_i\"].iloc[-1]\n",
    "std = var ** 0.5\n",
    "\n",
    "print(desviaciones)\n",
    "print(var)\n",
    "print(std)"
   ]
  },
  {
   "cell_type": "code",
   "execution_count": 63,
   "metadata": {},
   "outputs": [
    {
     "name": "stdout",
     "output_type": "stream",
     "text": [
      "4.280000000000001\n"
     ]
    }
   ],
   "source": [
    "hidrox = [77.3, 61.2,82.4,75.9, 61,70.2,65,80]\n",
    "intervalo = (max(hidrox)- min(hidrox)) / 5\n",
    "print(intervalo)"
   ]
  },
  {
   "cell_type": "code",
   "execution_count": 64,
   "metadata": {},
   "outputs": [
    {
     "name": "stdout",
     "output_type": "stream",
     "text": [
      "[(61.0, 66.28), (66.28, 71.56), (71.56, 76.84), (76.84, 82.12)]\n"
     ]
    }
   ],
   "source": [
    "arr1 = np.arange(min(hidrox), max(hidrox) + intervalo, step=intervalo+1)\n",
    "intervals = list(zip(arr1, arr1[1:]))\n",
    "print(intervals)"
   ]
  },
  {
   "cell_type": "markdown",
   "metadata": {},
   "source": [
    "# Multivariante"
   ]
  },
  {
   "cell_type": "markdown",
   "metadata": {},
   "source": [
    "# Ejercicio 2"
   ]
  },
  {
   "cell_type": "markdown",
   "metadata": {},
   "source": [
    "Los valores del pH sanguíneo de 32 individuos son los siguientes:\n",
    "\n",
    "|7.33 |7.31 |7.26 |7.33 |7.37 |7.27 |7.30 |7.33|\n",
    "|-----|-----|-----|-----|-----|-----|-----|----|\n",
    "|7.33 |7.32 |7.35 |7.39 |7.33 |7.38 |7.33 |7.31|\n",
    "|7.37 |7.35 |7.34 |7.32 |7.29 |7.35 |7.38 |7.32|\n",
    "|7.32 |7.33 |7.32 |7.40 |7.33 |7.32 |7.34 |7.33|\n",
    "\n",
    "1. Agrupar los datos en 5 intervalos y confeccionar la tabla de frecuencias.\n",
    "2. Calcular la media aritmética, la moda y la mediana.\n",
    "3. Hallar el tercer decil.\n",
    "4. Determinar el porcentaje de individuos que se concentra fuera del intervalo $(x −4\\sigma,x +4\\sigma)$"
   ]
  },
  {
   "cell_type": "code",
   "execution_count": 65,
   "metadata": {},
   "outputs": [
    {
     "name": "stdout",
     "output_type": "stream",
     "text": [
      "       0\n",
      "0   7.33\n",
      "1   7.31\n",
      "2   7.26\n",
      "3   7.33\n",
      "4   7.37\n",
      "5   7.27\n",
      "6   7.30\n",
      "7   7.33\n",
      "8   7.33\n",
      "9   7.32\n",
      "10  7.35\n",
      "11  7.39\n",
      "12  7.33\n",
      "13  7.38\n",
      "14  7.33\n",
      "15  7.31\n",
      "16  7.37\n",
      "17  7.35\n",
      "18  7.34\n",
      "19  7.32\n",
      "20  7.29\n",
      "21  7.35\n",
      "22  7.38\n",
      "23  7.32\n",
      "24  7.32\n",
      "25  7.33\n",
      "26  7.32\n",
      "27  7.40\n",
      "28  7.33\n",
      "29  7.32\n",
      "30  7.34\n",
      "31  7.33\n"
     ]
    }
   ],
   "source": [
    "datos = [7.33, 7.31, 7.26, 7.33, 7.37, 7.27, 7.30, 7.33, 7.33, 7.32,7.35, 7.39, 7.33, 7.38, 7.33,7.31, 7.37, 7.35, 7.34, 7.32, 7.29, 7.35, 7.38,7.32, 7.32,7.33,7.32,7.40,7.33,7.32,7.34,7.33 ]\n",
    "\n",
    "tabla1 = pd.DataFrame(datos)\n",
    "\n",
    "print(tabla1)"
   ]
  },
  {
   "cell_type": "code",
   "execution_count": 66,
   "metadata": {},
   "outputs": [],
   "source": [
    "import pandas as pd\n",
    "import numpy as np"
   ]
  },
  {
   "cell_type": "code",
   "execution_count": null,
   "metadata": {},
   "outputs": [],
   "source": []
  },
  {
   "cell_type": "code",
   "execution_count": 67,
   "metadata": {},
   "outputs": [
    {
     "data": {
      "text/plain": [
       "0.028000000000000115"
      ]
     },
     "execution_count": 67,
     "metadata": {},
     "output_type": "execute_result"
    }
   ],
   "source": [
    "intervalo1 =  (max(datos) - min(datos)) / 5\n",
    "intervalo1\n",
    "\n"
   ]
  },
  {
   "cell_type": "code",
   "execution_count": 68,
   "metadata": {},
   "outputs": [
    {
     "name": "stdout",
     "output_type": "stream",
     "text": [
      "[]\n"
     ]
    }
   ],
   "source": [
    "arr2 = np.arange(min(tabla1), max(tabla1) + intervalo1, step=intervalo1+1)\n",
    "intervals2 = list(zip(arr2, arr2[1:]))\n",
    "print(intervals2)"
   ]
  },
  {
   "cell_type": "code",
   "execution_count": null,
   "metadata": {},
   "outputs": [],
   "source": []
  },
  {
   "cell_type": "markdown",
   "metadata": {},
   "source": [
    "# Ejercicio 3"
   ]
  },
  {
   "cell_type": "markdown",
   "metadata": {},
   "source": [
    "En pacientes con distrofia muscular progresiva (enfermedad de Duchenne), la actividad de creatinquinasa sérica se eleva llamativamente sobre el valor normal de 50 unidades por litro. Los siguientes\n",
    "datos son niveles séricos de creatinquinasa (en unidades por litro) medidos en 24 jóvenes pacientes con la enfermedad confirmada:\n",
    "\n",
    "|3720 |3795 |3340 |5600 |3800 |3580|\n",
    "|-----|-----|-----|-----|-----|----|\n",
    "|5500 |2000 |1570 |2360 |1500 |1840|\n",
    "|3725 |3790 |3345 |3805 |5595 |3575|\n",
    "|1995 |5505 |2055 |1575 |1835 |1505|\n",
    "\n",
    "Se pide:\n",
    "\n",
    "1. Agrupar los datos en 5 intervalos de clase.\n",
    "2. Determinar la media y la desviación típica. Calcular la moda y la mediana.\n",
    "3. Determinar el tercer cuartil, el séptimo decil y el centil 25."
   ]
  },
  {
   "cell_type": "markdown",
   "metadata": {},
   "source": []
  },
  {
   "cell_type": "code",
   "execution_count": 69,
   "metadata": {},
   "outputs": [
    {
     "name": "stdout",
     "output_type": "stream",
     "text": [
      "       0\n",
      "0   3720\n",
      "1   3795\n",
      "2   3340\n",
      "3   5600\n",
      "4   3800\n",
      "5   3580\n",
      "6   5500\n",
      "7   2000\n",
      "8   1570\n",
      "9   2360\n",
      "10  1500\n",
      "11  1840\n",
      "12  3725\n",
      "13  3790\n",
      "14  3345\n",
      "15  3805\n",
      "16  5595\n",
      "17  3575\n",
      "18  1995\n",
      "19  5505\n",
      "20  2055\n",
      "21  1575\n",
      "22  1835\n",
      "23  1505\n"
     ]
    }
   ],
   "source": [
    "Truño = [3720, 3795, 3340, 5600, 3800, 3580,\n",
    "        5500, 2000, 1570, 2360, 1500, 1840,\n",
    "        3725, 3790,3345, 3805, 5595, 3575,\n",
    "        1995, 5505, 2055, 1575, 1835, 1505]\n",
    "\n",
    "truñito = pd.DataFrame(Truño)\n",
    "\n",
    "print(truñito)\n",
    "\n"
   ]
  },
  {
   "cell_type": "code",
   "execution_count": 71,
   "metadata": {},
   "outputs": [
    {
     "name": "stdout",
     "output_type": "stream",
     "text": [
      "820.0\n"
     ]
    }
   ],
   "source": [
    "intervalo3 =  (max(Truño) - min(Truño)) / 5\n",
    "print(intervalo3)\n"
   ]
  },
  {
   "cell_type": "code",
   "execution_count": 72,
   "metadata": {},
   "outputs": [
    {
     "name": "stdout",
     "output_type": "stream",
     "text": [
      "[(1500.0, 2321.0), (2321.0, 3142.0), (3142.0, 3963.0), (3963.0, 4784.0), (4784.0, 5605.0)]\n"
     ]
    }
   ],
   "source": [
    "arr3 = np.arange(min(Truño), max(Truño) + intervalo3, step=intervalo3+1)\n",
    "intervals3 = list(zip(arr3, arr3[1:]))\n",
    "print(intervals3)"
   ]
  },
  {
   "cell_type": "code",
   "execution_count": 76,
   "metadata": {},
   "outputs": [
    {
     "data": {
      "text/plain": [
       "[1910.5, 2731.5, 3552.5, 4373.5, 5194.5]"
      ]
     },
     "execution_count": 76,
     "metadata": {},
     "output_type": "execute_result"
    }
   ],
   "source": [
    "media = [(x + y)/2 for x, y in intervals3]\n",
    "media"
   ]
  },
  {
   "cell_type": "code",
   "execution_count": 77,
   "metadata": {},
   "outputs": [
    {
     "ename": "TypeError",
     "evalue": "list indices must be integers or slices, not str",
     "output_type": "error",
     "traceback": [
      "\u001b[1;31m---------------------------------------------------------------------------\u001b[0m",
      "\u001b[1;31mTypeError\u001b[0m                                 Traceback (most recent call last)",
      "\u001b[1;32m~\\AppData\\Local\\Temp\\ipykernel_18368\\1050291421.py\u001b[0m in \u001b[0;36m<module>\u001b[1;34m\u001b[0m\n\u001b[1;32m----> 1\u001b[1;33m \u001b[0mdesviaciones2\u001b[0m \u001b[1;33m=\u001b[0m \u001b[1;33m(\u001b[0m\u001b[1;33m(\u001b[0m\u001b[0mTruño\u001b[0m\u001b[1;33m[\u001b[0m\u001b[1;34m\"X_i\"\u001b[0m\u001b[1;33m]\u001b[0m \u001b[1;33m-\u001b[0m \u001b[0mmedia\u001b[0m\u001b[1;33m)\u001b[0m\u001b[1;33m**\u001b[0m\u001b[1;36m2\u001b[0m\u001b[1;33m)\u001b[0m \u001b[1;33m*\u001b[0m \u001b[0mTruño\u001b[0m\u001b[1;33m[\u001b[0m\u001b[1;34m\"n_i\"\u001b[0m\u001b[1;33m]\u001b[0m\u001b[1;33m\u001b[0m\u001b[1;33m\u001b[0m\u001b[0m\n\u001b[0m\u001b[0;32m      2\u001b[0m \u001b[0mvar2\u001b[0m \u001b[1;33m=\u001b[0m \u001b[0mdesviaciones2\u001b[0m\u001b[1;33m.\u001b[0m\u001b[0msum\u001b[0m\u001b[1;33m(\u001b[0m\u001b[1;33m)\u001b[0m \u001b[1;33m/\u001b[0m \u001b[0mTruño\u001b[0m\u001b[1;33m[\u001b[0m\u001b[1;34m\"N_i\"\u001b[0m\u001b[1;33m]\u001b[0m\u001b[1;33m.\u001b[0m\u001b[0miloc\u001b[0m\u001b[1;33m[\u001b[0m\u001b[1;33m-\u001b[0m\u001b[1;36m1\u001b[0m\u001b[1;33m]\u001b[0m\u001b[1;33m\u001b[0m\u001b[1;33m\u001b[0m\u001b[0m\n\u001b[0;32m      3\u001b[0m \u001b[0mstd2\u001b[0m\u001b[1;33m=\u001b[0m \u001b[0mvar2\u001b[0m \u001b[1;33m**\u001b[0m \u001b[1;36m0.5\u001b[0m\u001b[1;33m\u001b[0m\u001b[1;33m\u001b[0m\u001b[0m\n\u001b[0;32m      4\u001b[0m \u001b[1;33m\u001b[0m\u001b[0m\n\u001b[0;32m      5\u001b[0m \u001b[0mprint\u001b[0m\u001b[1;33m(\u001b[0m\u001b[0mdesviaciones2\u001b[0m\u001b[1;33m)\u001b[0m\u001b[1;33m\u001b[0m\u001b[1;33m\u001b[0m\u001b[0m\n",
      "\u001b[1;31mTypeError\u001b[0m: list indices must be integers or slices, not str"
     ]
    }
   ],
   "source": []
  },
  {
   "cell_type": "code",
   "execution_count": 82,
   "metadata": {},
   "outputs": [
    {
     "name": "stdout",
     "output_type": "stream",
     "text": [
      "0    3204.583333\n",
      "dtype: float64\n",
      "0    1.916539e+06\n",
      "dtype: float64\n"
     ]
    }
   ],
   "source": [
    "media2 = truñito.mean()\n",
    "print(media2)\n",
    "\n",
    "varianza2= truñito.var()\n",
    "print(varianza2)\n",
    " "
   ]
  },
  {
   "cell_type": "code",
   "execution_count": 83,
   "metadata": {},
   "outputs": [
    {
     "name": "stdout",
     "output_type": "stream",
     "text": [
      "0    1384.391184\n",
      "dtype: float64\n"
     ]
    }
   ],
   "source": [
    "std2 = varianza2**0.5\n",
    "print(std2)"
   ]
  },
  {
   "cell_type": "code",
   "execution_count": 84,
   "metadata": {},
   "outputs": [],
   "source": [
    "from scipy import stats"
   ]
  },
  {
   "cell_type": "code",
   "execution_count": 87,
   "metadata": {},
   "outputs": [
    {
     "name": "stdout",
     "output_type": "stream",
     "text": [
      "ModeResult(mode=array([[1500]], dtype=int64), count=array([[1]]))\n",
      "ModeResult(mode=array([[1500]], dtype=int64), count=array([[1]]))\n"
     ]
    }
   ],
   "source": [
    "\n",
    "print(stats.mode(truñito))\n",
    "moda2 = stats.mode(truñito)\n",
    "print(moda2)\n"
   ]
  },
  {
   "cell_type": "code",
   "execution_count": 88,
   "metadata": {},
   "outputs": [
    {
     "name": "stdout",
     "output_type": "stream",
     "text": [
      "3460.0\n"
     ]
    }
   ],
   "source": [
    "mediana = np.median(truñito)\n",
    "print(mediana)\n",
    "\n"
   ]
  },
  {
   "cell_type": "code",
   "execution_count": 89,
   "metadata": {},
   "outputs": [
    {
     "data": {
      "text/html": [
       "<div>\n",
       "<style scoped>\n",
       "    .dataframe tbody tr th:only-of-type {\n",
       "        vertical-align: middle;\n",
       "    }\n",
       "\n",
       "    .dataframe tbody tr th {\n",
       "        vertical-align: top;\n",
       "    }\n",
       "\n",
       "    .dataframe thead th {\n",
       "        text-align: right;\n",
       "    }\n",
       "</style>\n",
       "<table border=\"1\" class=\"dataframe\">\n",
       "  <thead>\n",
       "    <tr style=\"text-align: right;\">\n",
       "      <th></th>\n",
       "      <th>0</th>\n",
       "    </tr>\n",
       "  </thead>\n",
       "  <tbody>\n",
       "    <tr>\n",
       "      <th>count</th>\n",
       "      <td>24.000000</td>\n",
       "    </tr>\n",
       "    <tr>\n",
       "      <th>mean</th>\n",
       "      <td>3204.583333</td>\n",
       "    </tr>\n",
       "    <tr>\n",
       "      <th>std</th>\n",
       "      <td>1384.391184</td>\n",
       "    </tr>\n",
       "    <tr>\n",
       "      <th>min</th>\n",
       "      <td>1500.000000</td>\n",
       "    </tr>\n",
       "    <tr>\n",
       "      <th>25%</th>\n",
       "      <td>1956.250000</td>\n",
       "    </tr>\n",
       "    <tr>\n",
       "      <th>50%</th>\n",
       "      <td>3460.000000</td>\n",
       "    </tr>\n",
       "    <tr>\n",
       "      <th>75%</th>\n",
       "      <td>3796.250000</td>\n",
       "    </tr>\n",
       "    <tr>\n",
       "      <th>max</th>\n",
       "      <td>5600.000000</td>\n",
       "    </tr>\n",
       "  </tbody>\n",
       "</table>\n",
       "</div>"
      ],
      "text/plain": [
       "                 0\n",
       "count    24.000000\n",
       "mean   3204.583333\n",
       "std    1384.391184\n",
       "min    1500.000000\n",
       "25%    1956.250000\n",
       "50%    3460.000000\n",
       "75%    3796.250000\n",
       "max    5600.000000"
      ]
     },
     "execution_count": 89,
     "metadata": {},
     "output_type": "execute_result"
    }
   ],
   "source": [
    "truñito.describe()"
   ]
  },
  {
   "cell_type": "code",
   "execution_count": 91,
   "metadata": {},
   "outputs": [
    {
     "name": "stdout",
     "output_type": "stream",
     "text": [
      "16.8\n"
     ]
    }
   ],
   "source": [
    "decil = 24 * 7 / 10\n",
    "print(decil)"
   ]
  },
  {
   "cell_type": "code",
   "execution_count": 92,
   "metadata": {},
   "outputs": [
    {
     "name": "stdout",
     "output_type": "stream",
     "text": [
      "6.0\n"
     ]
    }
   ],
   "source": [
    "centil = 24 * 25 / 100\n",
    "print(centil)\n"
   ]
  }
 ],
 "metadata": {
  "kernelspec": {
   "display_name": "Python 3.7.4 64-bit",
   "language": "python",
   "name": "python3"
  },
  "language_info": {
   "codemirror_mode": {
    "name": "ipython",
    "version": 3
   },
   "file_extension": ".py",
   "mimetype": "text/x-python",
   "name": "python",
   "nbconvert_exporter": "python",
   "pygments_lexer": "ipython3",
   "version": "3.7.4"
  },
  "orig_nbformat": 4,
  "vscode": {
   "interpreter": {
    "hash": "b00c257d8044ebdf3de0db553b92a3dd43b22b3b5ac011b6e6d9354f099532d2"
   }
  }
 },
 "nbformat": 4,
 "nbformat_minor": 2
}
