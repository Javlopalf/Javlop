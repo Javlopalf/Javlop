{
 "cells": [
  {
   "cell_type": "markdown",
   "metadata": {},
   "source": [
    "# Conexiones a BBDD usando Python"
   ]
  },
  {
   "cell_type": "markdown",
   "metadata": {},
   "source": [
    "<img width=\"600\" height=\"300\" src=\"./img/sqlpython.png\" align='middle'>"
   ]
  },
  {
   "cell_type": "markdown",
   "metadata": {},
   "source": [
    "`Python` es un lenguaje de programación de alto nivel, de propósito general y muy popular. Básicamente, fue diseñado con énfasis en la legibilidad del código y los programadores pueden expresar sus conceptos en menos líneas de código. También podemos usar `Python` con `SQL`. En este artículo, aprenderemos cómo conectar `SQL` con `Python` usando el módulo `'MySQL Connector Python'`. El diagrama que se muestra a continuación ilustra cómo se envía una solicitud de conexión al conector Python de `MySQL`, cómo se acepta desde la base de datos y cómo se ejecuta el cursor con los datos de resultados.\n",
    "\n",
    "<img width=\"630\" height=\"300\" src=\"./img/SQLConnection.jpg\">"
   ]
  },
  {
   "cell_type": "markdown",
   "metadata": {},
   "source": [
    "## Conectar SQL con Python"
   ]
  },
  {
   "cell_type": "markdown",
   "metadata": {},
   "source": [
    "Para crear una conexión entre la base de datos MySQL y Python, se utiliza el método `connect()` del módulo `mysql.connector`. Pasamos los detalles de la base de datos como *HostName*, *nombre de usuario* y *contraseña* en la llamada al método, y luego el método devuelve el *objeto de conexión*.\n",
    "\n",
    "Se requieren los siguientes pasos para conectar `SQL` con `Python`:\n",
    "\n",
    "- **Paso 1**: **Descargue e instale** la base de datos `MySQL` gratuita.\n",
    "\n",
    "- **Paso 2**: ahora ejecute los comandos que se indican a continuación para descargar e instalar `\"Conector MySQL\"`. Aquí, la instrucción `mysql.connector` lo ayudará a comunicarse con la base de datos `MySQL`.\n",
    "\n",
    "- **Paso 3**: ahora ejecute los comandos que se indican a continuación para descargar e instalar `\"Conector MySQL\"`. \n",
    "\n",
    "    `pip install mysql-connector-python`\n",
    "\n",
    "- **Paso 4**: para **verificar si la instalación fue exitosa** o si ya instaló `\"MySQL Connector\"`, vaya a su IDE y ejecute el siguiente código:\n",
    "\n",
    "    `import mysql.connector`\n",
    "\n",
    "- **Paso 5**: Ahora, para conectar `SQL` con `Python`, ejecute el código que se proporciona a continuación en su IDE."
   ]
  },
  {
   "cell_type": "code",
   "execution_count": 1,
   "metadata": {},
   "outputs": [
    {
     "name": "stdout",
     "output_type": "stream",
     "text": [
      "SUCCESSFUL\n",
      "\n",
      "\n"
     ]
    }
   ],
   "source": [
    "from getpass import getpass\n",
    "from mysql.connector import connect, Error\n",
    "\n",
    "try:\n",
    "    # Si la conexion se da satisfactoriamente, tendremos \n",
    "    # un mensaje de éxito. \n",
    "    conn = connect(\n",
    "                    host=\"localhost\",\n",
    "                    user=input(\"Enter username: \"),\n",
    "                    password=getpass(\"Enter password: \"),\n",
    "                    database=\"chinook\")\n",
    "         \n",
    "    print('SUCCESSFUL\\n\\n')\n",
    "except Error as e:\n",
    "    # En caso de tener un error de conexión, lo mostramos\n",
    "    print(e)"
   ]
  },
  {
   "cell_type": "code",
   "execution_count": 2,
   "metadata": {},
   "outputs": [
    {
     "data": {
      "text/plain": [
       "<mysql.connector.connection_cext.CMySQLConnection at 0x1ed06a83548>"
      ]
     },
     "execution_count": 2,
     "metadata": {},
     "output_type": "execute_result"
    }
   ],
   "source": [
    "conn"
   ]
  },
  {
   "cell_type": "markdown",
   "metadata": {},
   "source": [
    "Explicación de cada componente"
   ]
  },
  {
   "cell_type": "markdown",
   "metadata": {},
   "source": [
    "<img src=\"./img/connect-props.jpg\">"
   ]
  },
  {
   "cell_type": "markdown",
   "metadata": {},
   "source": [
    "- **`mysql.connector`** permite que los programas de `Python` accedan a bases de datos `MySQL`.\n",
    "- El método **``connect()``** de la clase MySQL Connector con los argumentos se conectará a ``MySQL`` y devolverá un objeto ``MySQLConnection`` si la conexión se establece correctamente.\n",
    "- **usuario = “tunombredeusuario”**, aquí “tunombredeusuario” debe ser el mismo nombre de usuario que estableciste durante la instalación de ``MySQL``.\n",
    "- **contraseña = “tu_contraseña”**, aquí “tu_contraseña” debe ser la misma contraseña que estableciste durante la instalación de ``MySQL``.\n",
    "- **``cursor()``** se usa para ejecutar las declaraciones ``SQL`` en ``Python``.\n",
    "- El método **``execute()``** se usa para compilar una declaración ``SQL``."
   ]
  },
  {
   "cell_type": "markdown",
   "metadata": {},
   "source": [
    "## Acceder a tablas en la BBDD"
   ]
  },
  {
   "cell_type": "markdown",
   "metadata": {},
   "source": [
    "Primero mostramos las tablas disponibles en nuestra base de datos"
   ]
  },
  {
   "cell_type": "code",
   "execution_count": 3,
   "metadata": {},
   "outputs": [
    {
     "name": "stdout",
     "output_type": "stream",
     "text": [
      "('album',)\n",
      "('artist',)\n",
      "('customer',)\n",
      "('employee',)\n",
      "('genre',)\n",
      "('invoice',)\n",
      "('invoiceline',)\n",
      "('mediatype',)\n",
      "('playlist',)\n",
      "('playlisttrack',)\n",
      "('track',)\n"
     ]
    }
   ],
   "source": [
    "cursor = conn.cursor()\n",
    "cursor.execute(\"SHOW TABLES\")\n",
    " \n",
    "for x in cursor:\n",
    "  print(x)"
   ]
  },
  {
   "cell_type": "code",
   "execution_count": 11,
   "metadata": {},
   "outputs": [
    {
     "name": "stdout",
     "output_type": "stream",
     "text": [
      "SHOW DATABASES\n",
      "('chinook',)\n",
      "('information_schema',)\n",
      "('mysql',)\n",
      "('performance_schema',)\n",
      "('sys',)\n",
      "('thebridgedb',)\n",
      "\n",
      "\n",
      "\n",
      "/* Hola Mundo */ SELECT * FROM album LIMIT 5\n",
      "(1, 'For Those About To Rock We Salute You', 1)\n",
      "(2, 'Balls to the Wall', 2)\n",
      "(3, 'Restless and Wild', 2)\n",
      "(4, 'Let There Be Rock', 1)\n",
      "(5, 'Big Ones', 3)\n",
      "\n",
      " ('AlbumId', 'Title', 'ArtistId')\n"
     ]
    }
   ],
   "source": [
    "show_db_query = \"SHOW DATABASES\"\n",
    "print(show_db_query)\n",
    "with conn.cursor() as cursor:\n",
    "    cursor.execute(show_db_query)\n",
    "    for db in cursor:\n",
    "        print(db)\n",
    "print(\"\\n\\n\")\n",
    "\n",
    "select_movies_query = \"/* Hola Mundo */ SELECT * FROM album LIMIT 5\"\n",
    "print(select_movies_query)\n",
    "with conn.cursor() as cursor:\n",
    "    cursor.execute(select_movies_query)\n",
    "    result = cursor.fetchall()\n",
    "    for row in result:\n",
    "        print(row)\n",
    "\n",
    "    print('\\n', cursor.column_names)\n",
    "\n",
    "# conn.close()"
   ]
  },
  {
   "cell_type": "code",
   "execution_count": null,
   "metadata": {},
   "outputs": [],
   "source": [
    "cursor.fetchall()"
   ]
  },
  {
   "cell_type": "markdown",
   "metadata": {},
   "source": [
    "## Crear nueva BBDD"
   ]
  },
  {
   "cell_type": "code",
   "execution_count": 4,
   "metadata": {},
   "outputs": [
    {
     "ename": "ProgrammingError",
     "evalue": "1045 (28000): Access denied for user 'q'@'localhost' (using password: YES)",
     "output_type": "error",
     "traceback": [
      "\u001b[1;31m---------------------------------------------------------------------------\u001b[0m",
      "\u001b[1;31mMySQLInterfaceError\u001b[0m                       Traceback (most recent call last)",
      "\u001b[1;32mc:\\Users\\lopez\\AppData\\Local\\Programs\\Python\\Python37\\lib\\site-packages\\mysql\\connector\\connection_cext.py\u001b[0m in \u001b[0;36m_open_connection\u001b[1;34m(self)\u001b[0m\n\u001b[0;32m    267\u001b[0m         \u001b[1;32mtry\u001b[0m\u001b[1;33m:\u001b[0m\u001b[1;33m\u001b[0m\u001b[1;33m\u001b[0m\u001b[0m\n\u001b[1;32m--> 268\u001b[1;33m             \u001b[0mself\u001b[0m\u001b[1;33m.\u001b[0m\u001b[0m_cmysql\u001b[0m\u001b[1;33m.\u001b[0m\u001b[0mconnect\u001b[0m\u001b[1;33m(\u001b[0m\u001b[1;33m**\u001b[0m\u001b[0mcnx_kwargs\u001b[0m\u001b[1;33m)\u001b[0m\u001b[1;33m\u001b[0m\u001b[1;33m\u001b[0m\u001b[0m\n\u001b[0m\u001b[0;32m    269\u001b[0m             \u001b[0mself\u001b[0m\u001b[1;33m.\u001b[0m\u001b[0m_cmysql\u001b[0m\u001b[1;33m.\u001b[0m\u001b[0mconverter_str_fallback\u001b[0m \u001b[1;33m=\u001b[0m \u001b[0mself\u001b[0m\u001b[1;33m.\u001b[0m\u001b[0m_converter_str_fallback\u001b[0m\u001b[1;33m\u001b[0m\u001b[1;33m\u001b[0m\u001b[0m\n",
      "\u001b[1;31mMySQLInterfaceError\u001b[0m: Access denied for user 'q'@'localhost' (using password: YES)",
      "\nThe above exception was the direct cause of the following exception:\n",
      "\u001b[1;31mProgrammingError\u001b[0m                          Traceback (most recent call last)",
      "\u001b[1;32m~\\AppData\\Local\\Temp\\ipykernel_22804\\1483205993.py\u001b[0m in \u001b[0;36m<module>\u001b[1;34m\u001b[0m\n\u001b[0;32m      2\u001b[0m         \u001b[0mhost\u001b[0m\u001b[1;33m=\u001b[0m\u001b[1;34m\"localhost\"\u001b[0m\u001b[1;33m,\u001b[0m\u001b[1;33m\u001b[0m\u001b[1;33m\u001b[0m\u001b[0m\n\u001b[0;32m      3\u001b[0m         \u001b[0muser\u001b[0m\u001b[1;33m=\u001b[0m\u001b[0minput\u001b[0m\u001b[1;33m(\u001b[0m\u001b[1;34m\"Enter username: \"\u001b[0m\u001b[1;33m)\u001b[0m\u001b[1;33m,\u001b[0m\u001b[1;33m\u001b[0m\u001b[1;33m\u001b[0m\u001b[0m\n\u001b[1;32m----> 4\u001b[1;33m         \u001b[0mpassword\u001b[0m\u001b[1;33m=\u001b[0m\u001b[0mgetpass\u001b[0m\u001b[1;33m(\u001b[0m\u001b[1;34m\"Enter password: \"\u001b[0m\u001b[1;33m)\u001b[0m\u001b[1;33m,\u001b[0m\u001b[1;33m\u001b[0m\u001b[1;33m\u001b[0m\u001b[0m\n\u001b[0m\u001b[0;32m      5\u001b[0m )\n\u001b[0;32m      6\u001b[0m \u001b[1;33m\u001b[0m\u001b[0m\n",
      "\u001b[1;32mc:\\Users\\lopez\\AppData\\Local\\Programs\\Python\\Python37\\lib\\site-packages\\mysql\\connector\\pooling.py\u001b[0m in \u001b[0;36mconnect\u001b[1;34m(*args, **kwargs)\u001b[0m\n\u001b[0;32m    284\u001b[0m \u001b[1;33m\u001b[0m\u001b[0m\n\u001b[0;32m    285\u001b[0m     \u001b[1;32mif\u001b[0m \u001b[0mCMySQLConnection\u001b[0m \u001b[1;32mand\u001b[0m \u001b[1;32mnot\u001b[0m \u001b[0muse_pure\u001b[0m\u001b[1;33m:\u001b[0m\u001b[1;33m\u001b[0m\u001b[1;33m\u001b[0m\u001b[0m\n\u001b[1;32m--> 286\u001b[1;33m         \u001b[1;32mreturn\u001b[0m \u001b[0mCMySQLConnection\u001b[0m\u001b[1;33m(\u001b[0m\u001b[1;33m*\u001b[0m\u001b[0margs\u001b[0m\u001b[1;33m,\u001b[0m \u001b[1;33m**\u001b[0m\u001b[0mkwargs\u001b[0m\u001b[1;33m)\u001b[0m\u001b[1;33m\u001b[0m\u001b[1;33m\u001b[0m\u001b[0m\n\u001b[0m\u001b[0;32m    287\u001b[0m     \u001b[1;32mreturn\u001b[0m \u001b[0mMySQLConnection\u001b[0m\u001b[1;33m(\u001b[0m\u001b[1;33m*\u001b[0m\u001b[0margs\u001b[0m\u001b[1;33m,\u001b[0m \u001b[1;33m**\u001b[0m\u001b[0mkwargs\u001b[0m\u001b[1;33m)\u001b[0m\u001b[1;33m\u001b[0m\u001b[1;33m\u001b[0m\u001b[0m\n\u001b[0;32m    288\u001b[0m \u001b[1;33m\u001b[0m\u001b[0m\n",
      "\u001b[1;32mc:\\Users\\lopez\\AppData\\Local\\Programs\\Python\\Python37\\lib\\site-packages\\mysql\\connector\\connection_cext.py\u001b[0m in \u001b[0;36m__init__\u001b[1;34m(self, **kwargs)\u001b[0m\n\u001b[0;32m     99\u001b[0m \u001b[1;33m\u001b[0m\u001b[0m\n\u001b[0;32m    100\u001b[0m         \u001b[1;32mif\u001b[0m \u001b[0mkwargs\u001b[0m\u001b[1;33m:\u001b[0m\u001b[1;33m\u001b[0m\u001b[1;33m\u001b[0m\u001b[0m\n\u001b[1;32m--> 101\u001b[1;33m             \u001b[0mself\u001b[0m\u001b[1;33m.\u001b[0m\u001b[0mconnect\u001b[0m\u001b[1;33m(\u001b[0m\u001b[1;33m**\u001b[0m\u001b[0mkwargs\u001b[0m\u001b[1;33m)\u001b[0m\u001b[1;33m\u001b[0m\u001b[1;33m\u001b[0m\u001b[0m\n\u001b[0m\u001b[0;32m    102\u001b[0m \u001b[1;33m\u001b[0m\u001b[0m\n\u001b[0;32m    103\u001b[0m     \u001b[1;32mdef\u001b[0m \u001b[0m_add_default_conn_attrs\u001b[0m\u001b[1;33m(\u001b[0m\u001b[0mself\u001b[0m\u001b[1;33m)\u001b[0m\u001b[1;33m:\u001b[0m\u001b[1;33m\u001b[0m\u001b[1;33m\u001b[0m\u001b[0m\n",
      "\u001b[1;32mc:\\Users\\lopez\\AppData\\Local\\Programs\\Python\\Python37\\lib\\site-packages\\mysql\\connector\\abstracts.py\u001b[0m in \u001b[0;36mconnect\u001b[1;34m(self, **kwargs)\u001b[0m\n\u001b[0;32m   1106\u001b[0m \u001b[1;33m\u001b[0m\u001b[0m\n\u001b[0;32m   1107\u001b[0m         \u001b[0mself\u001b[0m\u001b[1;33m.\u001b[0m\u001b[0mdisconnect\u001b[0m\u001b[1;33m(\u001b[0m\u001b[1;33m)\u001b[0m\u001b[1;33m\u001b[0m\u001b[1;33m\u001b[0m\u001b[0m\n\u001b[1;32m-> 1108\u001b[1;33m         \u001b[0mself\u001b[0m\u001b[1;33m.\u001b[0m\u001b[0m_open_connection\u001b[0m\u001b[1;33m(\u001b[0m\u001b[1;33m)\u001b[0m\u001b[1;33m\u001b[0m\u001b[1;33m\u001b[0m\u001b[0m\n\u001b[0m\u001b[0;32m   1109\u001b[0m         \u001b[1;31m# Server does not allow to run any other statement different from ALTER\u001b[0m\u001b[1;33m\u001b[0m\u001b[1;33m\u001b[0m\u001b[1;33m\u001b[0m\u001b[0m\n\u001b[0;32m   1110\u001b[0m         \u001b[1;31m# when user's password has been expired.\u001b[0m\u001b[1;33m\u001b[0m\u001b[1;33m\u001b[0m\u001b[1;33m\u001b[0m\u001b[0m\n",
      "\u001b[1;32mc:\\Users\\lopez\\AppData\\Local\\Programs\\Python\\Python37\\lib\\site-packages\\mysql\\connector\\connection_cext.py\u001b[0m in \u001b[0;36m_open_connection\u001b[1;34m(self)\u001b[0m\n\u001b[0;32m    273\u001b[0m             raise get_mysql_exception(\n\u001b[0;32m    274\u001b[0m                 \u001b[0mmsg\u001b[0m\u001b[1;33m=\u001b[0m\u001b[0merr\u001b[0m\u001b[1;33m.\u001b[0m\u001b[0mmsg\u001b[0m\u001b[1;33m,\u001b[0m \u001b[0merrno\u001b[0m\u001b[1;33m=\u001b[0m\u001b[0merr\u001b[0m\u001b[1;33m.\u001b[0m\u001b[0merrno\u001b[0m\u001b[1;33m,\u001b[0m \u001b[0msqlstate\u001b[0m\u001b[1;33m=\u001b[0m\u001b[0merr\u001b[0m\u001b[1;33m.\u001b[0m\u001b[0msqlstate\u001b[0m\u001b[1;33m\u001b[0m\u001b[1;33m\u001b[0m\u001b[0m\n\u001b[1;32m--> 275\u001b[1;33m             ) from err\n\u001b[0m\u001b[0;32m    276\u001b[0m \u001b[1;33m\u001b[0m\u001b[0m\n\u001b[0;32m    277\u001b[0m         \u001b[0mself\u001b[0m\u001b[1;33m.\u001b[0m\u001b[0m_do_handshake\u001b[0m\u001b[1;33m(\u001b[0m\u001b[1;33m)\u001b[0m\u001b[1;33m\u001b[0m\u001b[1;33m\u001b[0m\u001b[0m\n",
      "\u001b[1;31mProgrammingError\u001b[0m: 1045 (28000): Access denied for user 'q'@'localhost' (using password: YES)"
     ]
    }
   ],
   "source": [
    "mydb = connect(\n",
    "        host=\"localhost\",\n",
    "        user=input(\"Enter username: \"),\n",
    "        password=getpass(\"Enter password: \"),\n",
    ")\n",
    " \n",
    "# Creating an instance of 'cursor' class\n",
    "# which is used to execute the 'SQL'\n",
    "# statements in 'Python'\n",
    "cursor = mydb.cursor()\n",
    " \n",
    "# Creating a database with a name\n",
    "# 'geeksforgeeks' execute() method\n",
    "# is used to compile a SQL statement\n",
    "# below statement is used to create\n",
    "# the 'geeksforgeeks' database\n",
    "cursor.execute(\"CREATE DATABASE newdatabase\")"
   ]
  },
  {
   "cell_type": "code",
   "execution_count": 13,
   "metadata": {},
   "outputs": [
    {
     "name": "stdout",
     "output_type": "stream",
     "text": [
      "SHOW DATABASES\n",
      "('chinook',)\n",
      "('information_schema',)\n",
      "('mysql',)\n",
      "('newdatabase',)\n",
      "('performance_schema',)\n",
      "('sys',)\n",
      "('thebridgedb',)\n",
      "\n",
      "\n",
      "\n"
     ]
    }
   ],
   "source": [
    "show_db_query = \"SHOW DATABASES\"\n",
    "print(show_db_query)\n",
    "with mydb.cursor() as cursor:\n",
    "    cursor.execute(show_db_query)\n",
    "    for db in cursor:\n",
    "        print(db)\n",
    "print(\"\\n\\n\")"
   ]
  },
  {
   "cell_type": "code",
   "execution_count": 14,
   "metadata": {},
   "outputs": [],
   "source": [
    "mydb.close()"
   ]
  },
  {
   "cell_type": "code",
   "execution_count": 22,
   "metadata": {},
   "outputs": [
    {
     "name": "stdout",
     "output_type": "stream",
     "text": [
      "SUCCESSFUL\n",
      "\n",
      "\n"
     ]
    }
   ],
   "source": [
    "try:\n",
    "    # Si la conexion se da satisfactoriamente, tendremos \n",
    "    # un mensaje de éxito. \n",
    "    mydb = connect(\n",
    "        host=\"localhost\",\n",
    "        user=input(\"Enter username: \"),\n",
    "        password=getpass(\"Enter password: \"),\n",
    "        database=\"newdatabase\")\n",
    "         \n",
    "    print('SUCCESSFUL\\n\\n')\n",
    "except Error as e:\n",
    "    # En caso de tener un error de conexión, lo mostramos\n",
    "    print(e)\n",
    " \n",
    "cursor = mydb.cursor()\n",
    " \n",
    "# Creating a table called 'gfg' in the\n",
    "# 'geeksforgeeks' database\n",
    "# cursor.execute(\"CREATE TABLE codewars (name VARCHAR(255), user_name VARCHAR(255))\")"
   ]
  },
  {
   "cell_type": "code",
   "execution_count": 23,
   "metadata": {},
   "outputs": [
    {
     "name": "stdout",
     "output_type": "stream",
     "text": [
      "('codewars',)\n"
     ]
    }
   ],
   "source": [
    "# Show existing tables\n",
    "cursor.execute(\"SHOW TABLES\")\n",
    "\n",
    "for x in cursor:\n",
    "  print(x)"
   ]
  },
  {
   "cell_type": "code",
   "execution_count": 24,
   "metadata": {},
   "outputs": [],
   "source": [
    "cursor.execute(\"\"\"INSERT INTO codewars (name, user_name) VALUES (\"Nani\", \"thebridge1\")\"\"\")\n"
   ]
  },
  {
   "cell_type": "code",
   "execution_count": 25,
   "metadata": {},
   "outputs": [],
   "source": [
    "mydb.commit()"
   ]
  },
  {
   "cell_type": "code",
   "execution_count": 18,
   "metadata": {},
   "outputs": [
    {
     "ename": "AttributeError",
     "evalue": "'NoneType' object has no attribute 'fetchall'",
     "output_type": "error",
     "traceback": [
      "\u001b[1;31m---------------------------------------------------------------------------\u001b[0m",
      "\u001b[1;31mAttributeError\u001b[0m                            Traceback (most recent call last)",
      "\u001b[1;32m~\\AppData\\Local\\Temp\\ipykernel_15504\\2608464486.py\u001b[0m in \u001b[0;36m<module>\u001b[1;34m\u001b[0m\n\u001b[0;32m      1\u001b[0m cursor.execute('''\n\u001b[0;32m      2\u001b[0m \u001b[0mSELECT\u001b[0m \u001b[1;33m*\u001b[0m \u001b[0mFROM\u001b[0m \u001b[0mcodewars\u001b[0m\u001b[1;33m\u001b[0m\u001b[1;33m\u001b[0m\u001b[0m\n\u001b[1;32m----> 3\u001b[1;33m ''').fetchall()\n\u001b[0m",
      "\u001b[1;31mAttributeError\u001b[0m: 'NoneType' object has no attribute 'fetchall'"
     ]
    }
   ],
   "source": [
    "cursor.execute('''\n",
    "SELECT * FROM codewars\n",
    "''').fetchall()"
   ]
  },
  {
   "cell_type": "code",
   "execution_count": 21,
   "metadata": {},
   "outputs": [],
   "source": [
    "mydb.close()"
   ]
  }
 ],
 "metadata": {
  "kernelspec": {
   "display_name": "Python 3",
   "language": "python",
   "name": "python3"
  },
  "language_info": {
   "codemirror_mode": {
    "name": "ipython",
    "version": 3
   },
   "file_extension": ".py",
   "mimetype": "text/x-python",
   "name": "python",
   "nbconvert_exporter": "python",
   "pygments_lexer": "ipython3",
   "version": "3.7.4 (tags/v3.7.4:e09359112e, Jul  8 2019, 20:34:20) [MSC v.1916 64 bit (AMD64)]"
  },
  "orig_nbformat": 4,
  "vscode": {
   "interpreter": {
    "hash": "b00c257d8044ebdf3de0db553b92a3dd43b22b3b5ac011b6e6d9354f099532d2"
   }
  }
 },
 "nbformat": 4,
 "nbformat_minor": 2
}
