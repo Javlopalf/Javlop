{
 "cells": [
  {
   "cell_type": "code",
   "execution_count": 1,
   "metadata": {},
   "outputs": [],
   "source": [
    "# Examen Ramp-Up Sevilla Septiembre 2022"
   ]
  },
  {
   "cell_type": "markdown",
   "metadata": {},
   "source": [
    "**Aviso**: En todos los ejercicios se valorarán las buenas prácticas de programación como una parte importante de la calificación (comentarios, nombres de variables autoexplicativas)."
   ]
  },
  {
   "cell_type": "markdown",
   "metadata": {},
   "source": [
    "## Ejercicio 1: Tipos de Datos (4 puntos)"
   ]
  },
  {
   "cell_type": "markdown",
   "metadata": {},
   "source": [
    "En este ejercicio se va a crear una lista con los siguientes elementos. \n",
    "\n",
    "**IMPORTANTE**: En todos los casos, hacer print del resultado y del tipo.\n",
    "\n",
    "Primero, crearemos las variables que luego añadiremos a la lista. Las variables son las siguientes:\n",
    "\n",
    "1. Crea una variable llamada `edad` de tipo Integer que represente tu edad en años. \n",
    "2. Crea una variable llamada `nombre` de tipo String con tu nombre y otra `apellidos` con tus apellidos\n",
    "3. Concatena tu nombre seguido de un espacio en blanco y la inicial de tu primer apellido a partir de `nombre` y `apellidos`. Guárdala en `nombre_y_apellidos`.\n",
    "4. Crea una variable llamada `altura` con el valor de tu altura en metros de tipo float.\n",
    "5. Crea una variable llamada `tipo_ord` de tipo Boolean True si usas Windows y False si usas Mac.\n",
    "6. Crea una variable llamada `nada` de tipo None cuyo valor sea None.\n",
    "\n",
    "#### Listas\n",
    "8. Crea una variable llamada `lista_series` de tipo List que contenga las 5 series de TV que más te gusten. Cada elemento ha de ser de tipo String.\n",
    "9.  Añade todos estos elementos en una lista llamada `lista_examen` en el orden de aparición **usando métodos de lista**. \n",
    "10. Crea `lista_examen_mod_edad` idéntica a `lista_examen` pero sustituyendo la edad por la edad + 10.\n",
    "11. Elimina un elemento de `lista_examen_mod_edad` y guárdalo en una variable.\n",
    "\n",
    "#### Diccionarios\n",
    "11. Crea una variable llamada `dict_info` con dos keys y dos values. Una key es `ciudad`, teniendo como value la ciudad en la que vives. Otra key es `portal`, teniendo como value el número de tu calle.\n",
    "12. Muestra las claves, valores e items de `dict_info`\n",
    "13. Elimina un item usando su clave.\n",
    "\n",
    "#### Tuplas\n",
    "13. Crea una variable llamada `tupla_ropa` de tipo Tuple con la marca de la prenda superior, inferior y calzado que llevas puesto.\n",
    "14. Accede a los elementos de `tupla_ropa` y muéstralos por pantalla\n",
    "15. Convierte `tupla_ropa` en una lista `lista_ropa` usando la función necesaria para ello.\n"
   ]
  },
  {
   "cell_type": "markdown",
   "metadata": {},
   "source": [
    "El primer apartado lo voy a usar para la primera parte, correspondiente a variables. La segunda celda para listas, tercera celda para los diccionarios y la cuarta (y última) para las tuplas. "
   ]
  },
  {
   "cell_type": "code",
   "execution_count": 2,
   "metadata": {},
   "outputs": [
    {
     "name": "stdout",
     "output_type": "stream",
     "text": [
      "0\n",
      "L\n",
      "Javier\n",
      "L\n",
      "1.7\n",
      "<class 'NoneType'>\n"
     ]
    }
   ],
   "source": [
    "edad = 27\n",
    "\n",
    "nombre = \"Javier\"\n",
    "apellidos = \"López\"  \"Alfaro\"\n",
    "p_letra = \"L\"\n",
    "\n",
    "print(apellidos.rfind(p_letra))\n",
    "\n",
    "print(apellidos[0])\n",
    "\n",
    "nombre_y_apellidos = nombre + \"\\n\" + apellidos[0]\n",
    "\n",
    "print(nombre_y_apellidos)\n",
    "   \n",
    "altura = 1.70\n",
    "\n",
    "print(altura)\n",
    "\n",
    "tipo_ord = True\n",
    "\n",
    "nada = None\n",
    "\n",
    "print(type(nada))\n"
   ]
  },
  {
   "cell_type": "code",
   "execution_count": 105,
   "metadata": {},
   "outputs": [
    {
     "name": "stdout",
     "output_type": "stream",
     "text": [
      "[27, 'Javier', 'LópezAlfaro', 1.7, True, None, ['Bigbang', 'Simpsons', 'Merlin', 'House', 'Futurama']]\n",
      "[37, 'Javier', 'LópezAlfaro', 1.7, True, None, ['Bigbang', 'Simpsons', 'Merlin', 'House', 'Futurama']]\n"
     ]
    }
   ],
   "source": [
    "lista_series =  [\"Bigbang\", \"Simpsons\", \"Merlin\", \"House\", \"Futurama\"]\n",
    "\n",
    "lista_examen = [edad, nombre, apellidos, altura, tipo_ord, nada, lista_series]\n",
    "\n",
    "\n",
    "\n",
    "lista_examen_mod_edad = lista_examen.copy()\n",
    "\n",
    "print (lista_examen_mod_edad)\n",
    "\n",
    "lista_examen_mod_edad[0] = 37\n",
    "\n",
    "print(lista_examen_mod_edad)\n",
    "\n",
    "\n",
    "\n"
   ]
  },
  {
   "cell_type": "code",
   "execution_count": 106,
   "metadata": {},
   "outputs": [
    {
     "name": "stdout",
     "output_type": "stream",
     "text": [
      "[37, 'LópezAlfaro', 1.7, True, None, ['Bigbang', 'Simpsons', 'Merlin', 'House', 'Futurama']]\n"
     ]
    }
   ],
   "source": [
    "lista_examen_mod_edad.pop(1)\n",
    "\n",
    "print(lista_examen_mod_edad)\n",
    "\n",
    "fuera = \n",
    "\n",
    "\n"
   ]
  },
  {
   "cell_type": "markdown",
   "metadata": {},
   "source": [
    "Empiezo con los diccionarios aquí al final"
   ]
  },
  {
   "cell_type": "code",
   "execution_count": 11,
   "metadata": {},
   "outputs": [
    {
     "name": "stdout",
     "output_type": "stream",
     "text": [
      "dict_keys(['Ciudad', 'Portal'])\n",
      "dict_values(['Sevilla', 14])\n",
      "dict_items([('Ciudad', 'Sevilla'), ('Portal', 14)])\n",
      "{'Portal': 14}\n"
     ]
    }
   ],
   "source": [
    "dict_info = {\"Ciudad\": \"Sevilla\", \"Portal\": 14}\n",
    "print(dict_info.keys())\n",
    "print(dict_info.values())\n",
    "print(dict_info.items())\n",
    "\n",
    "dict_info.pop(\"Ciudad\")\n",
    "\n",
    "print(dict_info)"
   ]
  },
  {
   "cell_type": "code",
   "execution_count": 14,
   "metadata": {},
   "outputs": [
    {
     "name": "stdout",
     "output_type": "stream",
     "text": [
      "('Lee', 'Mango', 'Sketcher')\n",
      "['Lee', 'Mango', 'Sketcher']\n"
     ]
    }
   ],
   "source": [
    "tupla_ropa = (\"Lee\", \"Mango\", \"Sketcher\")\n",
    "\n",
    "tupla_ropa[0:2]\n",
    "\n",
    "print(tupla_ropa)\n",
    "\n",
    "tupla_ropa = list(tupla_ropa)\n",
    "\n",
    "print(tupla_ropa)"
   ]
  },
  {
   "cell_type": "markdown",
   "metadata": {},
   "source": [
    "## Ejercicio 2: Funciones (1.5 puntos)"
   ]
  },
  {
   "cell_type": "markdown",
   "metadata": {},
   "source": [
    "1. Crea una función que, dado un input `x`, devuelva \n",
    "$$\n",
    "y = 4x + 2\n",
    "$$\n",
    "\n",
    "2. Crea una función que, dado un input `x`, devuelva \n",
    "$$\n",
    "y = 3x^2 + 4x + 2\n",
    "$$\n",
    "\n",
    "3. Dado el polinomio\n",
    "\n",
    "$$\n",
    "a_nx^n + a_{n-1}x^{n-1} + ... + a_1x + a_0\n",
    "$$\n",
    "\n",
    "Crea una función que reciba como input `x` y una lista de `[a_0, ..., a_n]` y devuelva el valor del polinomio en `x`.\n",
    "\n",
    "**Nota**: En caso de no poder con una función, hacerlo como se pueda.\n",
    "\n",
    "**Pista**: El primero cumple `n = 1` y los parámetros son `[2, 4]`. El segundo: `n = 2` y los parámetros `[2, 4, 3]`. Con esta información, intenta generalizar."
   ]
  },
  {
   "cell_type": "code",
   "execution_count": 86,
   "metadata": {},
   "outputs": [
    {
     "name": "stdout",
     "output_type": "stream",
     "text": [
      "Introduzca un numero 6\n",
      "32.0\n"
     ]
    }
   ],
   "source": [
    "\n",
    "x = float(input(\"Introduzca un numero \"))\n",
    "\n",
    "y = 4 * x + 2\n",
    " \n",
    "resultado = x + y\n",
    "\n",
    "\n",
    "print(resultado)\n",
    "\n",
    "    \n",
    "\n",
    "            \n",
    "\n",
    "\n",
    "\n"
   ]
  },
  {
   "cell_type": "code",
   "execution_count": 94,
   "metadata": {},
   "outputs": [
    {
     "name": "stdout",
     "output_type": "stream",
     "text": [
      "Introduzca un numero 5\n",
      "22.0\n"
     ]
    }
   ],
   "source": [
    "def parte1(x, y):\n",
    "    x = float(input(\"Introduzca un numero \"))\n",
    "\n",
    "    y = 4 * x + 2\n",
    " \n",
    "    resultado =  y\n",
    "    \n",
    "    return resultado\n",
    "\n",
    "\n",
    "print(parte1(x,y))\n",
    "\n"
   ]
  },
  {
   "cell_type": "code",
   "execution_count": 96,
   "metadata": {},
   "outputs": [
    {
     "name": "stdout",
     "output_type": "stream",
     "text": [
      "Introduzca un numero: 5\n",
      "97.0\n"
     ]
    }
   ],
   "source": [
    "def parte2(x, y):\n",
    "    x = float(input(\"Introduzca un numero: \"))\n",
    "    y = 3 * x**2 + 4 * x + 2\n",
    "    \n",
    "    resultado =  y\n",
    "    return resultado\n",
    "    \n",
    "print(parte2(x,y))    \n",
    "    "
   ]
  },
  {
   "cell_type": "code",
   "execution_count": null,
   "metadata": {},
   "outputs": [],
   "source": [
    "def parte3(x, y):\n",
    "    \n",
    "\n",
    "\n"
   ]
  },
  {
   "cell_type": "markdown",
   "metadata": {},
   "source": [
    "## Ejercicio 3: Git (1 punto)"
   ]
  },
  {
   "cell_type": "markdown",
   "metadata": {},
   "source": [
    "Di si las siguientes afirmaciones son verdaderas o falsas. En caso de ser falsa, justifica tu respuesta.\n",
    "\n",
    "1. Git es un sistema de control de versiones\n",
    "2. Con `git pull` subimos los cambios al remoto\n",
    "3. En clase usamos `HTTP` como protocolo para comunicarnos con el remoto\n",
    "4. El README contiene la información resumida del proyecto\n",
    "5. Para trackear los ficheros hacemos `git commit`"
   ]
  },
  {
   "cell_type": "markdown",
   "metadata": {},
   "source": [
    "1. True\n",
    "2. False. Se usa el comando con Git Push para subir el contenido al remoto. El comando git pull se usa para descargar los cambios realizados (Y previamente subidos por alguien). \n",
    "3. False. Usamos el SSH que facilita la comunicación automatica al no requerir una clave cada vez que se hace un git pull o git push. \n",
    "4. True\n",
    "5. False. Lo primero que se deberia hacer sería el comando git add. para añadir los elementos que se quieren meter. "
   ]
  },
  {
   "cell_type": "markdown",
   "metadata": {},
   "source": [
    "## Ejercicio 4: Flujos de Control (1.5 puntos)"
   ]
  },
  {
   "cell_type": "markdown",
   "metadata": {},
   "source": [
    "1. Hacer un programa que permita saber si un año es bisiesto. Para que un año sea bisiesto debe ser divisible por 4 y no debe ser divisible por 100, excepto que también sea divisible por 400.\n",
    "2. Hacer un programa que, dado un número, nos diga si es Real o Entero.\n",
    "3. Declara una variable numérica que será una hora cualquiera del día. Implementa mediante sentencias `if/elif/else` la siguiente casuística:\n",
    "   * Si es entre las 0 y las 8, print \"Durmiendo\"\n",
    "   * Si es entre las 9 y las 18, print \"Trabajando\"\n",
    "   * Si es entre las 19 y las 21, print \"Clase\"\n",
    "   * Si es entre las 22 y las 24, print \"Descanso\"\n",
    "   * En cualquier otro caso, print \"Transporte o error\""
   ]
  },
  {
   "cell_type": "code",
   "execution_count": 23,
   "metadata": {},
   "outputs": [
    {
     "name": "stdout",
     "output_type": "stream",
     "text": [
      "Introduzca un año: 2000\n",
      "El año es bisiesto\n"
     ]
    }
   ],
   "source": [
    "año = float(input(\"Introduzca un año: \"))\n",
    "\n",
    "if (año % 4 == 0):\n",
    "    print(\"El año es bisiesto\")\n",
    "\n",
    "elif (año % 100 == 0):\n",
    "    print(\"El año no es bisiesto\")\n",
    "    \n",
    "elif (año % 400 == 0):\n",
    "    print(\"El año es bisiesto\")\n",
    "else:\n",
    "    print(\"El año no es bisiesto\")\n",
    "    \n",
    "    \n",
    "        \n"
   ]
  },
  {
   "cell_type": "code",
   "execution_count": 74,
   "metadata": {},
   "outputs": [
    {
     "name": "stdout",
     "output_type": "stream",
     "text": [
      "El numero es real\n",
      "El numero es entero\n",
      "<class 'float'>\n",
      "<class 'int'>\n"
     ]
    }
   ],
   "source": [
    "x = 4.5\n",
    "y = 5\n",
    "\n",
    "tipo= type(x)\n",
    "tipo2= type(y)\n",
    "\n",
    "if  tipo != tipo2:\n",
    "    print(\"El numero es real\")\n",
    "    \n",
    "if  tipo2 != tipo:\n",
    "    print(\"El numero es entero\")\n",
    "\n",
    "print(type(x))    \n",
    "print(type(y))"
   ]
  },
  {
   "cell_type": "code",
   "execution_count": 36,
   "metadata": {},
   "outputs": [
    {
     "ename": "TypeError",
     "evalue": "argument of type 'float' is not iterable",
     "output_type": "error",
     "traceback": [
      "\u001b[1;31m---------------------------------------------------------------------------\u001b[0m",
      "\u001b[1;31mTypeError\u001b[0m                                 Traceback (most recent call last)",
      "\u001b[1;32m~\\AppData\\Local\\Temp\\ipykernel_26656\\3648148946.py\u001b[0m in \u001b[0;36m<module>\u001b[1;34m\u001b[0m\n\u001b[0;32m      2\u001b[0m \u001b[0my1\u001b[0m \u001b[1;33m=\u001b[0m \u001b[1;36m6\u001b[0m\u001b[1;33m\u001b[0m\u001b[1;33m\u001b[0m\u001b[0m\n\u001b[0;32m      3\u001b[0m \u001b[1;33m\u001b[0m\u001b[0m\n\u001b[1;32m----> 4\u001b[1;33m \u001b[1;32mif\u001b[0m \u001b[0mtype\u001b[0m \u001b[1;32min\u001b[0m \u001b[0mx1\u001b[0m  \u001b[1;33m==\u001b[0m \u001b[0mfloat\u001b[0m\u001b[1;33m:\u001b[0m\u001b[1;33m\u001b[0m\u001b[1;33m\u001b[0m\u001b[0m\n\u001b[0m\u001b[0;32m      5\u001b[0m     \u001b[0mprint\u001b[0m\u001b[1;33m(\u001b[0m\u001b[1;34m\"Es un numero real\"\u001b[0m\u001b[1;33m)\u001b[0m\u001b[1;33m\u001b[0m\u001b[1;33m\u001b[0m\u001b[0m\n\u001b[0;32m      6\u001b[0m \u001b[1;32mif\u001b[0m \u001b[0mtype\u001b[0m \u001b[1;32min\u001b[0m \u001b[0my1\u001b[0m \u001b[1;33m==\u001b[0m \u001b[0mint\u001b[0m\u001b[1;33m:\u001b[0m\u001b[1;33m\u001b[0m\u001b[1;33m\u001b[0m\u001b[0m\n",
      "\u001b[1;31mTypeError\u001b[0m: argument of type 'float' is not iterable"
     ]
    }
   ],
   "source": []
  },
  {
   "cell_type": "code",
   "execution_count": 26,
   "metadata": {},
   "outputs": [
    {
     "name": "stdout",
     "output_type": "stream",
     "text": [
      "Trabajando\n"
     ]
    }
   ],
   "source": [
    "hora = 15\n",
    "\n",
    "if hora >= 0 and hora <= 8:\n",
    "    print(\"Durmiendo\")\n",
    "\n",
    "elif hora >= 9 and hora <= 18:\n",
    "    print(\"Trabajando\")\n",
    "\n",
    "elif hora >= 19 and hora <= 21:\n",
    "    print(\"Clase\")\n",
    "    \n",
    "elif hora >=22 and hora <= 24:\n",
    "    print(\"descansando\")\n",
    "    \n",
    "else:\n",
    "    print(\"Transporte o error\")\n",
    "    \n",
    "    \n",
    " \n",
    "    \n",
    "\n"
   ]
  },
  {
   "cell_type": "markdown",
   "metadata": {},
   "source": [
    "## Ejercicio 5: Calculadora simple (2 Puntos)"
   ]
  },
  {
   "cell_type": "markdown",
   "metadata": {},
   "source": [
    "Construye un programa que:\n",
    "\n",
    "- Salude al usuario por su nombre\n",
    "- Le pregunte si quiere sumar, restar, multiplicar o dividir\n",
    "- Pida que introduzca 2 números de manera sucesiva\n",
    "- Devuelva el resultado de manera formal con un mensaje apropiado \n",
    "\n",
    "**Ayuda**: No se puede dividir por 0"
   ]
  },
  {
   "cell_type": "code",
   "execution_count": 109,
   "metadata": {
    "scrolled": true
   },
   "outputs": [
    {
     "name": "stdout",
     "output_type": "stream",
     "text": [
      "Introduzca su nombre Javier\n",
      "Bienvenido Javier\n",
      "Primer numero: 4\n",
      "Operación: +\n",
      "Segundo nunero: 8\n",
      "El resultado de 4.0 + 8.0 es 12.0 \n"
     ]
    }
   ],
   "source": [
    "user = input(\"Introduzca su nombre \")\n",
    "\n",
    "print(f\"Bienvenido {user}\")\n",
    "\n",
    "num1 = float(input(\"Primer numero: \"))\n",
    "\n",
    "operacion = input(\"Operación: \")\n",
    "\n",
    "num2 = float(input(\"Segundo nunero: \"))\n",
    "\n",
    "resultado = num1 + num2\n",
    "\n",
    "print(f\"El resultado de {num1} {operacion} {num2} es {resultado} \" )\n",
    "\n"
   ]
  },
  {
   "cell_type": "markdown",
   "metadata": {},
   "source": [
    "## Ejercicio 6 (Subir Nota): Text Beautifier"
   ]
  },
  {
   "cell_type": "markdown",
   "metadata": {},
   "source": [
    "Dado el string `\"HeyYy cOmo EstAas\"`:\n",
    "\n",
    "    - Pasa todo a minúsculas con el método adecuado de la clase `str`\n",
    "    - Pon las iniciales de cada palabra en mayúscula\n",
    "    - Convierte el string en una lista de palabras\n",
    "    - Elimina las `y`"
   ]
  },
  {
   "cell_type": "code",
   "execution_count": 59,
   "metadata": {},
   "outputs": [
    {
     "name": "stdout",
     "output_type": "stream",
     "text": [
      "heyyy como estaas\n"
     ]
    }
   ],
   "source": [
    "frase = \"HeyYy cOmo EstAas\"\n",
    "\n",
    "print(frase.lower())\n",
    "\n"
   ]
  },
  {
   "cell_type": "code",
   "execution_count": 98,
   "metadata": {},
   "outputs": [
    {
     "name": "stdout",
     "output_type": "stream",
     "text": [
      "Heyyy Como Estaas\n",
      "['HeyYy', 'cOmo', 'EstAas']\n"
     ]
    }
   ],
   "source": [
    "print(frase.title())\n",
    "\n",
    "ls_frase = frase.split()\n",
    "\n",
    "print (ls_frase)\n",
    "\n"
   ]
  },
  {
   "cell_type": "code",
   "execution_count": 99,
   "metadata": {},
   "outputs": [
    {
     "name": "stdout",
     "output_type": "stream",
     "text": [
      "3\n"
     ]
    }
   ],
   "source": [
    "print(len(ls_frase))\n",
    "\n"
   ]
  },
  {
   "cell_type": "markdown",
   "metadata": {},
   "source": [
    "## Ejercicio Extra: Calculadora (Python Badge)"
   ]
  },
  {
   "cell_type": "markdown",
   "metadata": {},
   "source": [
    "Construye una calculadora que sea como la anterior pero:\n",
    "\n",
    "- Acepte tantos valores de entrada como queramos\n",
    "- Devuelva mensajes con las cuentas que se van haciendo.\n",
    "- Permita salir con una palabra clave (exit, quit, ...)"
   ]
  },
  {
   "cell_type": "code",
   "execution_count": 2,
   "metadata": {},
   "outputs": [
    {
     "name": "stdout",
     "output_type": "stream",
     "text": [
      "Ha activado la CALCULADORA\n",
      "Bienvenido Alberto\n",
      "Valor: 6.0\n",
      "Operación: /\n",
      "Valor: 7.0\n",
      "====================================================================================================\n",
      "SUBTOTAL: 0.8571428571428571\n",
      "Operación: +\n",
      "Valor: 9.0\n",
      "====================================================================================================\n",
      "SUBTOTAL: 9.857142857142858\n",
      "Operación: -\n",
      "Valor: 6.0\n",
      "====================================================================================================\n",
      "SUBTOTAL: 3.8571428571428577\n",
      "\n",
      "TOTAL: 3.8571428571428577\n",
      "\n",
      "\n",
      "\n",
      "CERRANDO CALCULADORA...\n",
      "Hasta pronto Alberto\n"
     ]
    }
   ],
   "source": []
  }
 ],
 "metadata": {
  "interpreter": {
   "hash": "bbecac44435c2c981f643c81cfe05fa1d6ef605eda7f5952ee2b272fedf4993e"
  },
  "kernelspec": {
   "display_name": "Python 3 (ipykernel)",
   "language": "python",
   "name": "python3"
  },
  "language_info": {
   "codemirror_mode": {
    "name": "ipython",
    "version": 3
   },
   "file_extension": ".py",
   "mimetype": "text/x-python",
   "name": "python",
   "nbconvert_exporter": "python",
   "pygments_lexer": "ipython3",
   "version": "3.7.4"
  }
 },
 "nbformat": 4,
 "nbformat_minor": 2
}
